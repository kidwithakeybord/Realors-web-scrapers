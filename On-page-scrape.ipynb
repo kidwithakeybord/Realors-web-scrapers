{
 "cells": [
  {
   "cell_type": "code",
   "execution_count": 1,
   "metadata": {},
   "outputs": [],
   "source": [
    "import requests\n",
    "import lxml.html as lh\n",
    "import pandas as pd\n",
    "import csv\n",
    "from bs4 import BeautifulSoup\n",
    "from selenium import webdriver\n",
    "from time import sleep"
   ]
  },
  {
   "cell_type": "code",
   "execution_count": 4,
   "metadata": {
    "scrolled": true
   },
   "outputs": [],
   "source": [
    "driver = webdriver.Chrome(executable_path=r'C:\\Users\\Justin Robin\\.wdm\\drivers\\chromedriver\\83.0.4103.39\\win32\\chromedriver.exe')   \n",
    "url = 'https://www.latter-blum.com/uptown-latterblum'\n",
    "driver.get(url)"
   ]
  },
  {
   "cell_type": "code",
   "execution_count": 10,
   "metadata": {},
   "outputs": [],
   "source": [
    "Number=[]\n",
    "Name=[]"
   ]
  },
  {
   "cell_type": "code",
   "execution_count": 11,
   "metadata": {},
   "outputs": [],
   "source": [
    "soup=BeautifulSoup(driver.page_source,\"html.parser\")\n",
    "for i in soup.findAll('div',{'class':\"agent_wrapper notranslate\"}):\n",
    "    Name.append(i.find('span',{'class':\"agentName\"}).text.strip())\n",
    "    num=i.findAll('a')\n",
    "    Number.append(num[-1].text.strip('cell: ').strip())"
   ]
  },
  {
   "cell_type": "code",
   "execution_count": 12,
   "metadata": {},
   "outputs": [
    {
     "name": "stdout",
     "output_type": "stream",
     "text": [
      "52\n",
      "52\n"
     ]
    }
   ],
   "source": [
    "print(len(Name))\n",
    "print(len(Number))"
   ]
  },
  {
   "cell_type": "code",
   "execution_count": 14,
   "metadata": {},
   "outputs": [
    {
     "data": {
      "text/html": [
       "<div>\n",
       "<style scoped>\n",
       "    .dataframe tbody tr th:only-of-type {\n",
       "        vertical-align: middle;\n",
       "    }\n",
       "\n",
       "    .dataframe tbody tr th {\n",
       "        vertical-align: top;\n",
       "    }\n",
       "\n",
       "    .dataframe thead th {\n",
       "        text-align: right;\n",
       "    }\n",
       "</style>\n",
       "<table border=\"1\" class=\"dataframe\">\n",
       "  <thead>\n",
       "    <tr style=\"text-align: right;\">\n",
       "      <th></th>\n",
       "      <th>Name</th>\n",
       "      <th>Add</th>\n",
       "      <th>city</th>\n",
       "      <th>state</th>\n",
       "      <th>zip</th>\n",
       "      <th>Agent</th>\n",
       "      <th>Mobile</th>\n",
       "      <th>Office number</th>\n",
       "      <th>Office Name</th>\n",
       "    </tr>\n",
       "  </thead>\n",
       "  <tbody>\n",
       "    <tr>\n",
       "      <th>0</th>\n",
       "      <td>Orquidea Acosta</td>\n",
       "      <td>3001 General DeGaulle Blvd. Suite B</td>\n",
       "      <td>New Orleans</td>\n",
       "      <td>LA</td>\n",
       "      <td>70114</td>\n",
       "      <td>Agent</td>\n",
       "      <td>(504) 228-1059</td>\n",
       "      <td>(504) 362-1823</td>\n",
       "      <td>latter-blum Westbank Agents</td>\n",
       "    </tr>\n",
       "    <tr>\n",
       "      <th>1</th>\n",
       "      <td>Tiffani Benjamin</td>\n",
       "      <td>3001 General DeGaulle Blvd. Suite B</td>\n",
       "      <td>New Orleans</td>\n",
       "      <td>LA</td>\n",
       "      <td>70114</td>\n",
       "      <td>Agent</td>\n",
       "      <td>(504) 782-0629 C</td>\n",
       "      <td>(504) 362-1823</td>\n",
       "      <td>latter-blum Westbank Agents</td>\n",
       "    </tr>\n",
       "    <tr>\n",
       "      <th>2</th>\n",
       "      <td>Stephanie Benson</td>\n",
       "      <td>3001 General DeGaulle Blvd. Suite B</td>\n",
       "      <td>New Orleans</td>\n",
       "      <td>LA</td>\n",
       "      <td>70114</td>\n",
       "      <td>Agent</td>\n",
       "      <td>(504) 650-3735</td>\n",
       "      <td>(504) 362-1823</td>\n",
       "      <td>latter-blum Westbank Agents</td>\n",
       "    </tr>\n",
       "    <tr>\n",
       "      <th>3</th>\n",
       "      <td>Ann Braganza</td>\n",
       "      <td>3001 General DeGaulle Blvd. Suite B</td>\n",
       "      <td>New Orleans</td>\n",
       "      <td>LA</td>\n",
       "      <td>70114</td>\n",
       "      <td>Agent</td>\n",
       "      <td>(504) 250-5054</td>\n",
       "      <td>(504) 362-1823</td>\n",
       "      <td>latter-blum Westbank Agents</td>\n",
       "    </tr>\n",
       "    <tr>\n",
       "      <th>4</th>\n",
       "      <td>Scott Brannon</td>\n",
       "      <td>3001 General DeGaulle Blvd. Suite B</td>\n",
       "      <td>New Orleans</td>\n",
       "      <td>LA</td>\n",
       "      <td>70114</td>\n",
       "      <td>Agent</td>\n",
       "      <td>(504) 908-2543</td>\n",
       "      <td>(504) 362-1823</td>\n",
       "      <td>latter-blum Westbank Agents</td>\n",
       "    </tr>\n",
       "  </tbody>\n",
       "</table>\n",
       "</div>"
      ],
      "text/plain": [
       "               Name                                  Add         city state  \\\n",
       "0   Orquidea Acosta  3001 General DeGaulle Blvd. Suite B  New Orleans    LA   \n",
       "1  Tiffani Benjamin  3001 General DeGaulle Blvd. Suite B  New Orleans    LA   \n",
       "2  Stephanie Benson  3001 General DeGaulle Blvd. Suite B  New Orleans    LA   \n",
       "3      Ann Braganza  3001 General DeGaulle Blvd. Suite B  New Orleans    LA   \n",
       "4     Scott Brannon  3001 General DeGaulle Blvd. Suite B  New Orleans    LA   \n",
       "\n",
       "     zip  Agent            Mobile   Office number                  Office Name  \n",
       "0  70114  Agent    (504) 228-1059  (504) 362-1823  latter-blum Westbank Agents  \n",
       "1  70114  Agent  (504) 782-0629 C  (504) 362-1823  latter-blum Westbank Agents  \n",
       "2  70114  Agent    (504) 650-3735  (504) 362-1823  latter-blum Westbank Agents  \n",
       "3  70114  Agent    (504) 250-5054  (504) 362-1823  latter-blum Westbank Agents  \n",
       "4  70114  Agent    (504) 908-2543  (504) 362-1823  latter-blum Westbank Agents  "
      ]
     },
     "execution_count": 14,
     "metadata": {},
     "output_type": "execute_result"
    }
   ],
   "source": [
    "data = pd.DataFrame({\n",
    "'Name': Name,\n",
    "'Add': '3001 General DeGaulle Blvd. Suite B',\n",
    "'city': 'New Orleans',\n",
    "'state':'LA',\n",
    "'zip':'70114',\n",
    "'Agent': 'Agent',\n",
    "'Mobile': Number,\n",
    "'Office number': '(504) 362-1823',\n",
    "'Office Name': 'latter-blum Westbank Agents',})\n",
    "data.head()"
   ]
  },
  {
   "cell_type": "code",
   "execution_count": 15,
   "metadata": {},
   "outputs": [],
   "source": [
    "data.to_csv('latter-blum Westbank Agents.csv', index  = False)"
   ]
  },
  {
   "cell_type": "code",
   "execution_count": 80,
   "metadata": {},
   "outputs": [],
   "source": [
    "Name=[]\n",
    "Number=[]\n",
    "soup=BeautifulSoup(driver.page_source,\"html.parser\")\n",
    "for i in soup.findAll('li',{'class':\"col-sm-6 col-md-4 col-lg-3 margin-bottom-60\"}):\n",
    "    Name.append(i.find('h5',{'class':\"letters-75 name\"}).text.strip())\n",
    "    try:\n",
    "        Number.append(i.find('span',{'class':\"lower col-sm-9\"}).text.strip())\n",
    "    except:\n",
    "        Number.append(i.find('span',{'class':\"h6 col-sm-6\"}).text.strip())\n",
    "    "
   ]
  },
  {
   "cell_type": "code",
   "execution_count": 81,
   "metadata": {},
   "outputs": [
    {
     "name": "stdout",
     "output_type": "stream",
     "text": [
      "61\n",
      "61\n"
     ]
    }
   ],
   "source": [
    "print(len(Name))\n",
    "print(len(Number))"
   ]
  },
  {
   "cell_type": "code",
   "execution_count": 76,
   "metadata": {},
   "outputs": [
    {
     "data": {
      "text/html": [
       "<div>\n",
       "<style scoped>\n",
       "    .dataframe tbody tr th:only-of-type {\n",
       "        vertical-align: middle;\n",
       "    }\n",
       "\n",
       "    .dataframe tbody tr th {\n",
       "        vertical-align: top;\n",
       "    }\n",
       "\n",
       "    .dataframe thead th {\n",
       "        text-align: right;\n",
       "    }\n",
       "</style>\n",
       "<table border=\"1\" class=\"dataframe\">\n",
       "  <thead>\n",
       "    <tr style=\"text-align: right;\">\n",
       "      <th></th>\n",
       "      <th>Name</th>\n",
       "      <th>Add</th>\n",
       "      <th>city</th>\n",
       "      <th>state</th>\n",
       "      <th>zip</th>\n",
       "      <th>empty</th>\n",
       "      <th>Agent</th>\n",
       "      <th>empty1</th>\n",
       "      <th>Mobile</th>\n",
       "      <th>Office number</th>\n",
       "      <th>empty2</th>\n",
       "      <th>Office Name</th>\n",
       "    </tr>\n",
       "  </thead>\n",
       "  <tbody>\n",
       "    <tr>\n",
       "      <th>7</th>\n",
       "      <td>Troy Mire</td>\n",
       "      <td>1019 B West Judge Perez</td>\n",
       "      <td>Chalmette</td>\n",
       "      <td>LA</td>\n",
       "      <td>70043</td>\n",
       "      <td></td>\n",
       "      <td>REALTOR</td>\n",
       "      <td></td>\n",
       "      <td>504 237 3783</td>\n",
       "      <td>504.279.6344</td>\n",
       "      <td></td>\n",
       "      <td>Gardner Realtors St. Bernard</td>\n",
       "    </tr>\n",
       "    <tr>\n",
       "      <th>8</th>\n",
       "      <td>Judith Scaglione</td>\n",
       "      <td>1019 B West Judge Perez</td>\n",
       "      <td>Chalmette</td>\n",
       "      <td>LA</td>\n",
       "      <td>70043</td>\n",
       "      <td></td>\n",
       "      <td>REALTOR</td>\n",
       "      <td></td>\n",
       "      <td>504 390 0065</td>\n",
       "      <td>504.279.6344</td>\n",
       "      <td></td>\n",
       "      <td>Gardner Realtors St. Bernard</td>\n",
       "    </tr>\n",
       "    <tr>\n",
       "      <th>9</th>\n",
       "      <td>Merissa St. Romain Lopez</td>\n",
       "      <td>1019 B West Judge Perez</td>\n",
       "      <td>Chalmette</td>\n",
       "      <td>LA</td>\n",
       "      <td>70043</td>\n",
       "      <td></td>\n",
       "      <td>REALTOR</td>\n",
       "      <td></td>\n",
       "      <td>504 256 7097</td>\n",
       "      <td>504.279.6344</td>\n",
       "      <td></td>\n",
       "      <td>Gardner Realtors St. Bernard</td>\n",
       "    </tr>\n",
       "    <tr>\n",
       "      <th>10</th>\n",
       "      <td>Mandi St. Romain</td>\n",
       "      <td>1019 B West Judge Perez</td>\n",
       "      <td>Chalmette</td>\n",
       "      <td>LA</td>\n",
       "      <td>70043</td>\n",
       "      <td></td>\n",
       "      <td>REALTOR</td>\n",
       "      <td></td>\n",
       "      <td>504 256 1719</td>\n",
       "      <td>504.279.6344</td>\n",
       "      <td></td>\n",
       "      <td>Gardner Realtors St. Bernard</td>\n",
       "    </tr>\n",
       "    <tr>\n",
       "      <th>11</th>\n",
       "      <td>The St Romain Team</td>\n",
       "      <td>1019 B West Judge Perez</td>\n",
       "      <td>Chalmette</td>\n",
       "      <td>LA</td>\n",
       "      <td>70043</td>\n",
       "      <td></td>\n",
       "      <td>REALTOR</td>\n",
       "      <td></td>\n",
       "      <td>504 256 7097</td>\n",
       "      <td>504.279.6344</td>\n",
       "      <td></td>\n",
       "      <td>Gardner Realtors St. Bernard</td>\n",
       "    </tr>\n",
       "  </tbody>\n",
       "</table>\n",
       "</div>"
      ],
      "text/plain": [
       "                        Name                      Add       city state    zip  \\\n",
       "7                  Troy Mire  1019 B West Judge Perez  Chalmette   LA   70043   \n",
       "8           Judith Scaglione  1019 B West Judge Perez  Chalmette   LA   70043   \n",
       "9   Merissa St. Romain Lopez  1019 B West Judge Perez  Chalmette   LA   70043   \n",
       "10          Mandi St. Romain  1019 B West Judge Perez  Chalmette   LA   70043   \n",
       "11        The St Romain Team  1019 B West Judge Perez  Chalmette   LA   70043   \n",
       "\n",
       "   empty    Agent empty1        Mobile Office number empty2  \\\n",
       "7         REALTOR         504 237 3783  504.279.6344          \n",
       "8         REALTOR         504 390 0065  504.279.6344          \n",
       "9         REALTOR         504 256 7097  504.279.6344          \n",
       "10        REALTOR         504 256 1719  504.279.6344          \n",
       "11        REALTOR         504 256 7097  504.279.6344          \n",
       "\n",
       "                     Office Name  \n",
       "7   Gardner Realtors St. Bernard  \n",
       "8   Gardner Realtors St. Bernard  \n",
       "9   Gardner Realtors St. Bernard  \n",
       "10  Gardner Realtors St. Bernard  \n",
       "11  Gardner Realtors St. Bernard  "
      ]
     },
     "execution_count": 76,
     "metadata": {},
     "output_type": "execute_result"
    }
   ],
   "source": [
    "data = pd.DataFrame({\n",
    "'Name': Name,\n",
    "'Add': '1019 B West Judge Perez',\n",
    "'city': 'Chalmette',\n",
    "'state':'LA ',\n",
    "'zip':'70043',\n",
    "\"empty\": ' ',\n",
    "'Agent': 'REALTOR',\n",
    "\"empty1\": ' ',\n",
    "'Mobile': Number,\n",
    "'Office number': '504.279.6344',\n",
    "\"empty2\": ' ',\n",
    "'Office Name': 'Gardner Realtors St. Bernard',})\n",
    "data.tail()"
   ]
  },
  {
   "cell_type": "code",
   "execution_count": 77,
   "metadata": {},
   "outputs": [],
   "source": [
    "data.to_csv('Gardner Realtors St. Bernard.csv', index  = False)"
   ]
  },
  {
   "cell_type": "code",
   "execution_count": null,
   "metadata": {},
   "outputs": [],
   "source": []
  },
  {
   "cell_type": "code",
   "execution_count": null,
   "metadata": {},
   "outputs": [],
   "source": []
  },
  {
   "cell_type": "code",
   "execution_count": null,
   "metadata": {},
   "outputs": [],
   "source": []
  },
  {
   "cell_type": "code",
   "execution_count": null,
   "metadata": {
    "scrolled": true
   },
   "outputs": [],
   "source": [
    "for i in soup.findAll('article',{'class':\"rng-agent-roster-agent-card js-sort-item\"}):\n",
    "    name=i.find('h1',{'class':\"rn-agent-roster-name js-sort-name\"}).text.split('\\n')\n",
    "    print(name[0])\n",
    "    print(name[1])"
   ]
  },
  {
   "cell_type": "code",
   "execution_count": null,
   "metadata": {},
   "outputs": [],
   "source": [
    "Office_Name=[]\n",
    "Name=[]\n",
    "Title=[]\n",
    "Office_Name=[]\n",
    "office_num=[]\n",
    "Number=[]\n",
    "numbackup=[]"
   ]
  },
  {
   "cell_type": "code",
   "execution_count": null,
   "metadata": {},
   "outputs": [],
   "source": [
    "soup=BeautifulSoup(driver.page_source,\"html.parser\")\n",
    "for i in soup.findAll('article',{'class':\"rng-agent-roster-agent-card js-sort-item\"}):\n",
    "    name=i.find('h1',{'class':\"rn-agent-roster-name js-sort-name\"}).text.split('\\n')\n",
    "    Name.append(name[0])\n",
    "    Title.append(name[1])\n",
    "    Office_Name.append(i.find('strong').text)\n",
    "    info=i.findAll('a')\n",
    "    office_num.append(info[1].text.strip())\n",
    "    Number.append(info[2].text.strip())\n",
    "    numbackup.append(info[0].text.strip())\n",
    "print(len(Name))\n",
    "print(len(Number))   "
   ]
  },
  {
   "cell_type": "code",
   "execution_count": null,
   "metadata": {},
   "outputs": [],
   "source": [
    "print(office_num[-1])\n",
    "print(Number[-1])\n",
    "print(numbackup[-1])"
   ]
  },
  {
   "cell_type": "code",
   "execution_count": null,
   "metadata": {},
   "outputs": [],
   "source": [
    "data = pd.DataFrame({\n",
    "'Name': Name,\n",
    "'Add': '5705 E 71st St Suite 250',\n",
    "'city': 'Tulsa',\n",
    "'state':'Ok',\n",
    "'zip':'74136',\n",
    "'Agent': Title,\n",
    "'Mobile': Number,\n",
    "'Office number': office_num,\n",
    "\"empty\": numbackup,\n",
    "'Office Name': Office_Name,})\n",
    "data.tail()"
   ]
  },
  {
   "cell_type": "code",
   "execution_count": null,
   "metadata": {},
   "outputs": [],
   "source": [
    "data.to_csv('McGraw Realtors - 71st St.csv', index  = False)"
   ]
  },
  {
   "cell_type": "code",
   "execution_count": null,
   "metadata": {},
   "outputs": [],
   "source": []
  },
  {
   "cell_type": "code",
   "execution_count": null,
   "metadata": {},
   "outputs": [],
   "source": []
  },
  {
   "cell_type": "code",
   "execution_count": null,
   "metadata": {},
   "outputs": [],
   "source": []
  },
  {
   "cell_type": "code",
   "execution_count": null,
   "metadata": {},
   "outputs": [],
   "source": [
    "soup=BeautifulSoup(driver.page_source,\"html.parser\")\n",
    "for i in soup.findAll('div',{'class':\"col-md-4 realtor text-center\"}):\n",
    "    Name.append(i.find('h4').text)\n",
    "    Number.append(i.find('p').text)\n",
    "print(len(Name))\n",
    "print(len(Number))\n",
    "print(Name[-1])"
   ]
  },
  {
   "cell_type": "code",
   "execution_count": null,
   "metadata": {},
   "outputs": [],
   "source": [
    "print(len(Name))\n",
    "print(len(Number))\n",
    "print(Name[-1])"
   ]
  },
  {
   "cell_type": "code",
   "execution_count": null,
   "metadata": {},
   "outputs": [],
   "source": [
    "Carol Schneider\n",
    "401-374-3774"
   ]
  },
  {
   "cell_type": "code",
   "execution_count": null,
   "metadata": {},
   "outputs": [],
   "source": [
    "Name.remove('Courtney Thibeault')"
   ]
  },
  {
   "cell_type": "code",
   "execution_count": null,
   "metadata": {},
   "outputs": [],
   "source": [
    "data = pd.DataFrame({\n",
    "'Name': Name,\n",
    "'Add': '37 Main Street',\n",
    "'city': 'East Greenwich',\n",
    "'state':'RI',\n",
    "'zip':'02818',\n",
    "'Agent': 'Agent',\n",
    "'Mobile': Number,\n",
    "'Office number': '(401) 885-5400',\n",
    "'Office Name': 'RI real estate services'})\n",
    "data.tail()"
   ]
  },
  {
   "cell_type": "code",
   "execution_count": null,
   "metadata": {},
   "outputs": [],
   "source": [
    "data.to_csv('RI real estate services.csv', index  = False)"
   ]
  },
  {
   "cell_type": "code",
   "execution_count": null,
   "metadata": {},
   "outputs": [],
   "source": [
    "soup=BeautifulSoup(driver.page_source,\"html.parser\")\n",
    "for agent in soup.findAll('div',{'class':\"entry-content\"}):\n",
    "    agent.findAll('p')\n",
    "    Name.append(agent.find('h3',{'class':\"staff-member-name\"}).text)\n",
    "    Title.append(agent.find('h4',{'class':\"staff-member-position\"}).text)\n",
    "    #num=agent.findAll('div',{'class':\"contact-info\"})\n",
    "    Number.append(agent.find('div',{'class':\"contact-info\"}).text.strip())"
   ]
  },
  {
   "cell_type": "code",
   "execution_count": null,
   "metadata": {},
   "outputs": [],
   "source": [
    "print(len(Links))\n",
    "print(Links[-1])"
   ]
  },
  {
   "cell_type": "code",
   "execution_count": null,
   "metadata": {},
   "outputs": [],
   "source": [
    "soup=BeautifulSoup(driver.page_source,\"html.parser\")"
   ]
  },
  {
   "cell_type": "code",
   "execution_count": null,
   "metadata": {},
   "outputs": [],
   "source": [
    "info=soup.find('div',{'class':\"agent-details vcard\"}).findAll('p')\n",
    "Title.append(info[0].text)\n",
    "Office_Num.append(info[1].text)\n",
    "Number.append(info[2].text)"
   ]
  },
  {
   "cell_type": "code",
   "execution_count": null,
   "metadata": {},
   "outputs": [],
   "source": [
    "for url in Links:\n",
    "    driver.get(url)\n",
    "    sleep(1)\n",
    "    soup=BeautifulSoup(driver.page_source,\"html.parser\")\n",
    "    try:\n",
    "        Name.append(soup.find('h1',{'class':\"entry-title\"}).text)\n",
    "        info=soup.find('div',{'class':\"agent-details vcard\"}).findAll('p')\n",
    "        Title.append(info[0].text)\n",
    "        Office_Num.append(info[1].text)\n",
    "        Number.append(info[2].text)\n",
    "    except:\n",
    "        Name.append('NA')\n",
    "        info.append('NA')"
   ]
  },
  {
   "cell_type": "code",
   "execution_count": null,
   "metadata": {},
   "outputs": [],
   "source": [
    "print(len(Name))\n",
    "print(len(Number))\n",
    "print(len(Title))"
   ]
  },
  {
   "cell_type": "code",
   "execution_count": null,
   "metadata": {},
   "outputs": [],
   "source": [
    "data = pd.DataFrame({\n",
    "'Name': Name,\n",
    "'Add': '11980 NE 24th Street, Suite 210',\n",
    "'city': 'Bellevue',\n",
    "'state':'WA',\n",
    "'zip':'98005',\n",
    "'Agent': Title,\n",
    "'Mobile': Number,\n",
    "'Office number': '844.370.7700',\n",
    "'Office Name': 'caliberrealestate'})\n",
    "data.tail()"
   ]
  },
  {
   "cell_type": "code",
   "execution_count": null,
   "metadata": {},
   "outputs": [],
   "source": [
    "data.to_csv('caliberrealestate.csv', index  = False)"
   ]
  },
  {
   "cell_type": "code",
   "execution_count": null,
   "metadata": {},
   "outputs": [],
   "source": []
  },
  {
   "cell_type": "code",
   "execution_count": null,
   "metadata": {},
   "outputs": [],
   "source": []
  },
  {
   "cell_type": "code",
   "execution_count": null,
   "metadata": {},
   "outputs": [],
   "source": []
  },
  {
   "cell_type": "code",
   "execution_count": null,
   "metadata": {},
   "outputs": [],
   "source": []
  },
  {
   "cell_type": "markdown",
   "metadata": {},
   "source": [
    "# For KW "
   ]
  },
  {
   "cell_type": "code",
   "execution_count": null,
   "metadata": {},
   "outputs": [],
   "source": [
    "soup=BeautifulSoup(driver.page_source,\"html.parser\")"
   ]
  },
  {
   "cell_type": "code",
   "execution_count": null,
   "metadata": {},
   "outputs": [],
   "source": [
    "Name=[]\n",
    "Mobile=[]\n",
    "soup=BeautifulSoup(driver.page_source,\"html.parser\")\n",
    "for i in soup.findAll('div',{'class':\"AssociateCard__body\"}):\n",
    "    Name.append(i.find('div',{ 'class':'AssociateCard__name'}).text)\n",
    "    try:\n",
    "        Mobile.append(i.find('a').text)\n",
    "    except:\n",
    "        Mobile.append('NA')\n",
    "for i in range(Mobile.count('Email')):\n",
    "    Mobile.remove('Email')\n",
    "for i in range(Mobile.count('Website')):\n",
    "    Mobile.remove('Website')"
   ]
  },
  {
   "cell_type": "code",
   "execution_count": null,
   "metadata": {
    "scrolled": false
   },
   "outputs": [],
   "source": [
    "print(len(Name))\n",
    "print(len(Mobile))\n",
    "print(len(Name)-len(Mobile))"
   ]
  },
  {
   "cell_type": "code",
   "execution_count": null,
   "metadata": {},
   "outputs": [],
   "source": [
    "office_name='Keller Williams Realty-New Orleans'"
   ]
  },
  {
   "cell_type": "code",
   "execution_count": null,
   "metadata": {},
   "outputs": [],
   "source": [
    "8601 Leake Ave, New Orleans, LA 70118, USA"
   ]
  },
  {
   "cell_type": "code",
   "execution_count": null,
   "metadata": {},
   "outputs": [],
   "source": [
    "data = pd.DataFrame({\n",
    "'Name': Name,\n",
    "'Add': '8601 Leake Ave',\n",
    "'city': 'New Orleans',\n",
    "'state':'LA',\n",
    "'zip':'70118',\n",
    "'Agent': 'Agent',\n",
    "'Mobile': Mobile,\n",
    "'Office number': '(504) 862-0100',\n",
    "'Office Name': office_name})\n",
    "data.tail()"
   ]
  },
  {
   "cell_type": "code",
   "execution_count": null,
   "metadata": {},
   "outputs": [],
   "source": [
    "data.to_csv(str(office_name)+'.csv', index  = False)"
   ]
  },
  {
   "cell_type": "code",
   "execution_count": null,
   "metadata": {},
   "outputs": [],
   "source": [
    "del data"
   ]
  },
  {
   "cell_type": "markdown",
   "metadata": {},
   "source": [
    "# For Coldwell, Bgre & ERA"
   ]
  },
  {
   "cell_type": "code",
   "execution_count": null,
   "metadata": {},
   "outputs": [],
   "source": [
    "remove=['Meghan Stokes']\n",
    "for i in remove:\n",
    "    print(i)\n",
    "    Name.remove(i)"
   ]
  },
  {
   "cell_type": "code",
   "execution_count": null,
   "metadata": {},
   "outputs": [],
   "source": [
    "Name=[]\n",
    "License=[]\n",
    "Title=[]\n",
    "Mobile=[]\n",
    "Email=[]\n",
    "soup=BeautifulSoup(driver.page_source,\"html.parser\")\n",
    "name=soup.findAll('span',{ 'class':'heading-std heading-std-mobile'})\n",
    "for i in name:\n",
    "        Name.append(i.text)\n",
    "mobile=soup.findAll('a',{ 'itemprop':'telephone'})\n",
    "for j in mobile:\n",
    "        Mobile.append(j.text.strip('(mobile)'))"
   ]
  },
  {
   "cell_type": "code",
   "execution_count": null,
   "metadata": {},
   "outputs": [],
   "source": [
    "print(len(Name))\n",
    "print(len(Mobile))\n",
    "print(len(Name)-len(Mobile))"
   ]
  },
  {
   "cell_type": "code",
   "execution_count": null,
   "metadata": {},
   "outputs": [],
   "source": [
    "officename=soup.find('h1',{'class':\"heading-std\"}).text.strip()"
   ]
  },
  {
   "cell_type": "code",
   "execution_count": null,
   "metadata": {},
   "outputs": [],
   "source": [
    "officenum=soup.find('a',{'class':\"font-14\"}).text.strip()"
   ]
  },
  {
   "cell_type": "code",
   "execution_count": null,
   "metadata": {},
   "outputs": [],
   "source": [
    "officename"
   ]
  },
  {
   "cell_type": "code",
   "execution_count": null,
   "metadata": {},
   "outputs": [],
   "source": [
    "data = pd.DataFrame({\n",
    "'Name': Name,\n",
    "'Add': '2040 E. Gause Boulevard, Suite 4',\n",
    "'city': 'Slidell',\n",
    "'state':'LA',\n",
    "'zip':'70461',\n",
    "'Empty':' ',\n",
    "'Agent': 'Agent',\n",
    "'Email':' ',\n",
    "'Mobile': Mobile,\n",
    "'Office number': officenum,\n",
    "'Empty 1':' ',\n",
    "'Office Name': officename+' ColdWell'})\n",
    "data.head()"
   ]
  },
  {
   "cell_type": "code",
   "execution_count": null,
   "metadata": {},
   "outputs": [],
   "source": [
    "data.to_csv(officename+' ColdWell.csv', index  = False)"
   ]
  },
  {
   "cell_type": "code",
   "execution_count": null,
   "metadata": {},
   "outputs": [],
   "source": [
    "del data"
   ]
  },
  {
   "cell_type": "markdown",
   "metadata": {},
   "source": [
    "# for canada"
   ]
  },
  {
   "cell_type": "code",
   "execution_count": null,
   "metadata": {},
   "outputs": [],
   "source": []
  },
  {
   "cell_type": "code",
   "execution_count": null,
   "metadata": {},
   "outputs": [],
   "source": [
    "soup=BeautifulSoup(driver.page_source,\"html.parser\")"
   ]
  },
  {
   "cell_type": "code",
   "execution_count": null,
   "metadata": {},
   "outputs": [],
   "source": [
    "Name=[]\n",
    "Mobile=[]"
   ]
  },
  {
   "cell_type": "code",
   "execution_count": null,
   "metadata": {},
   "outputs": [],
   "source": [
    "soup=BeautifulSoup(driver.page_source,\"html.parser\")\n",
    "for i in soup.findAll('div',{'class':\"col-xs-12 col-sm-12 col-md-12 col-lg-6\"}):\n",
    "    Name.append(i.find('h1',{'class':\"heading-large agent-name\"}).text.strip())\n",
    "    Mobile.append(i.find('p',{'class':\"agent-line\"}).text.strip('Mobile:\\n\\t\\t\\t\\t\\n\\t\\t\\t\\t\\t+1 ').strip('Office:\\n\\t\\t\\t\\t\\n\\t\\t\\t\\t\\t+1 '))"
   ]
  },
  {
   "cell_type": "code",
   "execution_count": null,
   "metadata": {},
   "outputs": [],
   "source": [
    "Name"
   ]
  },
  {
   "cell_type": "code",
   "execution_count": null,
   "metadata": {},
   "outputs": [],
   "source": [
    "Mobile"
   ]
  },
  {
   "cell_type": "code",
   "execution_count": null,
   "metadata": {},
   "outputs": [],
   "source": [
    "data = pd.DataFrame({\n",
    "'Name': Name,\n",
    "'Add': '353 Lake Street',\n",
    "'city': 'St. Catharines',\n",
    "'state':'ON',\n",
    "'zip':'L2N7G4',\n",
    "'Agent': 'Agent',\n",
    "'Mobile': Mobile,\n",
    "'Office number': '289-876-8886',\n",
    "'Office Name' :'Coldwell Banker Momentum Realty, Brokerage'})"
   ]
  },
  {
   "cell_type": "code",
   "execution_count": null,
   "metadata": {},
   "outputs": [],
   "source": [
    "data"
   ]
  },
  {
   "cell_type": "code",
   "execution_count": null,
   "metadata": {},
   "outputs": [],
   "source": []
  },
  {
   "cell_type": "code",
   "execution_count": null,
   "metadata": {},
   "outputs": [],
   "source": []
  },
  {
   "cell_type": "code",
   "execution_count": null,
   "metadata": {},
   "outputs": [],
   "source": []
  },
  {
   "cell_type": "markdown",
   "metadata": {},
   "source": [
    "# Century 21"
   ]
  },
  {
   "cell_type": "code",
   "execution_count": null,
   "metadata": {},
   "outputs": [],
   "source": [
    "#old\n",
    "Name=[]\n",
    "License=[]\n",
    "Title=[]\n",
    "Mobile=[]\n",
    "Email=[]\n",
    "soup=BeautifulSoup(driver.page_source,\"html.parser\")\n",
    "name=soup.findAll('h4')\n",
    "for i in name:\n",
    "        Name.append(i.text.strip())\n",
    "mobile=soup.findAll('a',{ 'class':'phoneNumber'})\n",
    "for j in mobile:\n",
    "    if j.text != '512.863.0021':\n",
    "            Mobile.append(j.text)\n",
    "\n",
    "        "
   ]
  },
  {
   "cell_type": "code",
   "execution_count": null,
   "metadata": {},
   "outputs": [],
   "source": [
    "soup=BeautifulSoup(driver.page_source,\"html.parser\")"
   ]
  },
  {
   "cell_type": "code",
   "execution_count": null,
   "metadata": {},
   "outputs": [],
   "source": [
    "Name=[]\n",
    "Mobile=[]\n",
    "soup=BeautifulSoup(driver.page_source,\"html.parser\")\n",
    "for i in soup.findAll('div',{'class':\"CenterLaneCard agentCard\"}):\n",
    "    Name.append(i.find('h4').text.strip())\n",
    "    try:\n",
    "        if '504.456.8821' == i.find('a',{ 'class':'phoneNumber'}).text:\n",
    "            secound=i.findAll('a',{ 'class':'phoneNumber'})\n",
    "            try:\n",
    "                Mobile.append(secound[-1].text)\n",
    "            except:\n",
    "                Mobile.append(secound.text)\n",
    "        else:\n",
    "            Mobile.append(i.find('a',{ 'class':'phoneNumber'}).text)\n",
    "    except:\n",
    "        Mobile.append(\"NA\")"
   ]
  },
  {
   "cell_type": "code",
   "execution_count": null,
   "metadata": {},
   "outputs": [],
   "source": [
    "print(len(Name))\n",
    "print(len(Mobile))\n",
    "print(len(Mobile)-len(Name))"
   ]
  },
  {
   "cell_type": "code",
   "execution_count": null,
   "metadata": {},
   "outputs": [],
   "source": [
    "data = pd.DataFrame({\n",
    "'Name': Name,\n",
    "'Add': '4736 W. Napoleon Avenue Suite 100',\n",
    "'city': 'Metairie',\n",
    "'state':'LA',\n",
    "'zip':'70001',\n",
    "'Empty':' ',\n",
    "'Agent': 'Agent',\n",
    "'Email': ' ',\n",
    "'Mobile': Mobile,\n",
    "'Office number': '504.456.8821',\n",
    "'Empty 1':' ',\n",
    "'Office Name' :'CENTURY 21 Action Realty'})\n",
    "data"
   ]
  },
  {
   "cell_type": "code",
   "execution_count": null,
   "metadata": {},
   "outputs": [],
   "source": [
    "data.to_csv('CENTURY 21 Richard Berry & Associates, Inc..csv', index  = False)"
   ]
  },
  {
   "cell_type": "code",
   "execution_count": null,
   "metadata": {},
   "outputs": [],
   "source": [
    "del data"
   ]
  },
  {
   "cell_type": "code",
   "execution_count": null,
   "metadata": {},
   "outputs": [],
   "source": [
    "seen={}\n",
    "Mobilec = [seen.setdefault(x, x) for x in Mobile if x not in seen]\n",
    "len(Mobilec)"
   ]
  },
  {
   "cell_type": "markdown",
   "metadata": {},
   "source": [
    "# for canada"
   ]
  },
  {
   "cell_type": "code",
   "execution_count": null,
   "metadata": {},
   "outputs": [],
   "source": [
    "<section class=\"section__agent-search-results\">"
   ]
  },
  {
   "cell_type": "code",
   "execution_count": null,
   "metadata": {},
   "outputs": [],
   "source": [
    "soup=BeautifulSoup(driver.page_source,\"html.parser\")"
   ]
  },
  {
   "cell_type": "code",
   "execution_count": null,
   "metadata": {},
   "outputs": [],
   "source": [
    "Name=[]\n",
    "mobile=[]"
   ]
  },
  {
   "cell_type": "code",
   "execution_count": null,
   "metadata": {
    "scrolled": true
   },
   "outputs": [],
   "source": [
    "soup=BeautifulSoup(driver.page_source,\"html.parser\")\n",
    "for i in soup.findAll('article',{'class':\"article__agent-listing\"}):\n",
    "    try:\n",
    "        Name.append(i.find('a',{'class':'a__agent-name'}).text)\n",
    "    except:\n",
    "        Name.append(\"NA\")\n",
    "    try:\n",
    "        mobile.append(i.find('a',{'class':'a__agent-phone'}).text.strip().strip('Phone: '))\n",
    "    except:\n",
    "        mobile.append(\"NA\")"
   ]
  },
  {
   "cell_type": "code",
   "execution_count": null,
   "metadata": {},
   "outputs": [],
   "source": [
    "print(len(Name))\n",
    "print(len(mobile))\n",
    "print(len(mobile)-len(Name))"
   ]
  },
  {
   "cell_type": "code",
   "execution_count": null,
   "metadata": {},
   "outputs": [],
   "source": [
    "data = pd.DataFrame({\n",
    "'Name': Name,\n",
    "'Add': '1120 South Lynn Riggs',\n",
    "'city': 'Claremore',\n",
    "'state':'ON',\n",
    "'zip':'L8H 4S8', \n",
    "'Agent': 'Agent',\n",
    "'Mobile': mobile,\n",
    "'Office number': '(905) 547-0909',\n",
    "'Office Name' :'CENTURY 21 NEW AGE REALTY INC. BROKERAGE'})"
   ]
  },
  {
   "cell_type": "code",
   "execution_count": null,
   "metadata": {},
   "outputs": [],
   "source": [
    "data"
   ]
  },
  {
   "cell_type": "code",
   "execution_count": null,
   "metadata": {},
   "outputs": [],
   "source": []
  },
  {
   "cell_type": "code",
   "execution_count": null,
   "metadata": {},
   "outputs": [],
   "source": []
  },
  {
   "cell_type": "code",
   "execution_count": null,
   "metadata": {},
   "outputs": [],
   "source": []
  },
  {
   "cell_type": "code",
   "execution_count": null,
   "metadata": {},
   "outputs": [],
   "source": [
    "# for dublicate numbs:\n",
    "new = [1,2,2,3,4,4,5,6,7,7,8,4,4,9]\n",
    "seen = {}\n",
    "remove = [seen.setdefault(x, x) for x in Mobile if x not in seen]\n",
    "remove"
   ]
  },
  {
   "cell_type": "markdown",
   "metadata": {},
   "source": [
    "## For bhhs"
   ]
  },
  {
   "cell_type": "code",
   "execution_count": null,
   "metadata": {},
   "outputs": [],
   "source": [
    "soup=BeautifulSoup(driver.page_source,\"html.parser\")"
   ]
  },
  {
   "cell_type": "code",
   "execution_count": null,
   "metadata": {},
   "outputs": [],
   "source": [
    "Name=[]\n",
    "License=[]\n",
    "Title=[]\n",
    "Mobile=[]\n",
    "Email=[]\n",
    "soup=BeautifulSoup(driver.page_source,\"html.parser\")\n",
    "name=soup.findAll('span',{ 'class':'detail-name'})\n",
    "for i in name:\n",
    "        Name.append(i.text)\n",
    "title=soup.findAll('span',{ 'class':'detail-title text-uppercase'})\n",
    "for j in title:\n",
    "    Title.append(j.text)\n",
    "mobile=soup.findAll('span',{ 'class':'detail-phone'})\n",
    "for j in mobile:\n",
    "    Mobile.append(j.text)"
   ]
  },
  {
   "cell_type": "code",
   "execution_count": null,
   "metadata": {},
   "outputs": [],
   "source": [
    "#Mobile"
   ]
  },
  {
   "cell_type": "code",
   "execution_count": null,
   "metadata": {},
   "outputs": [],
   "source": [
    "print(len(Name))\n",
    "print(len(Mobile))\n",
    "print(len(Title))\n",
    "print(len(Mobile)-len(Name))"
   ]
  },
  {
   "cell_type": "code",
   "execution_count": null,
   "metadata": {},
   "outputs": [],
   "source": [
    "print(soup.find('h2').text.strip())\n",
    "print(soup.find('address').text.strip())"
   ]
  },
  {
   "cell_type": "code",
   "execution_count": null,
   "metadata": {
    "scrolled": true
   },
   "outputs": [],
   "source": [
    "data = pd.DataFrame({\n",
    "'Name': Name,\n",
    "'Add': '2328 Metairie Road Suite 201',\n",
    "'city': 'Metairie',\n",
    "'state':'LA',\n",
    "'zip':'70001',\n",
    "'Empty':' ',\n",
    "'Title': Title,\n",
    "'Email':' ',\n",
    "'Mobile': Mobile,\n",
    "'Office number': '(504) 605-1998',\n",
    "'Empty 1':' ',\n",
    "'Office Name': \"Berkshire Hathaway HomeServices United Properties\"})\n",
    "data"
   ]
  },
  {
   "cell_type": "code",
   "execution_count": null,
   "metadata": {},
   "outputs": [],
   "source": [
    "data.to_csv(\"Berkshire Hathaway HomeServices United Properties.csv\", index  = False)"
   ]
  },
  {
   "cell_type": "code",
   "execution_count": null,
   "metadata": {},
   "outputs": [],
   "source": [
    "del data"
   ]
  },
  {
   "cell_type": "markdown",
   "metadata": {},
   "source": [
    "## michaelsaunders"
   ]
  },
  {
   "cell_type": "code",
   "execution_count": null,
   "metadata": {},
   "outputs": [],
   "source": [
    "page=['https://www.premiersothebysrealty.com/real-estate-agents/inoffice-109/sort-n/1',\n",
    "    'https://www.premiersothebysrealty.com/real-estate-agents/inoffice-109/sort-n/2',\n",
    "    'https://www.premiersothebysrealty.com/real-estate-agents/inoffice-109/sort-n/3',\n",
    "    'https://www.premiersothebysrealty.com/real-estate-agents/inoffice-109/sort-n/4',\n",
    "    'https://www.premiersothebysrealty.com/real-estate-agents/inoffice-109/sort-n/5']"
   ]
  },
  {
   "cell_type": "code",
   "execution_count": null,
   "metadata": {},
   "outputs": [],
   "source": [
    "Mobile=[]\n",
    "Name=[]\n",
    "for url in page:\n",
    "    driver.get(url)\n",
    "    sleep(10)\n",
    "    soup=BeautifulSoup(driver.page_source,\"html.parser\")\n",
    "    mobile=soup.findAll('b')\n",
    "    for j in mobile:\n",
    "        Mobile.append(j.text)\n",
    "    name=soup.findAll('div',{ 'class':'mdl-card__title-text agent-name'})\n",
    "    for i in name:\n",
    "        Name.append(i.text)\n",
    "    "
   ]
  },
  {
   "cell_type": "code",
   "execution_count": null,
   "metadata": {},
   "outputs": [],
   "source": [
    "name=soup.findAll('a',{'tabindex':'91'})\n",
    "for i in name:\n",
    "    Name.append(i.text)"
   ]
  },
  {
   "cell_type": "code",
   "execution_count": null,
   "metadata": {},
   "outputs": [],
   "source": [
    "Name"
   ]
  },
  {
   "cell_type": "code",
   "execution_count": null,
   "metadata": {},
   "outputs": [],
   "source": [
    "for i in range(Mobile.count('')):\n",
    "    Mobile.remove('')\n",
    "    \n",
    "for i in range(Mobile.count('Venice')):\n",
    "    Mobile.remove('Venice')\n",
    "Mobile"
   ]
  },
  {
   "cell_type": "code",
   "execution_count": null,
   "metadata": {},
   "outputs": [],
   "source": []
  },
  {
   "cell_type": "code",
   "execution_count": null,
   "metadata": {},
   "outputs": [],
   "source": [
    "Name"
   ]
  },
  {
   "cell_type": "code",
   "execution_count": null,
   "metadata": {},
   "outputs": [],
   "source": [
    "print(len(Name))\n",
    "print(len(Mobile))\n",
    "print(len(Title))\n",
    "print(len(Mobile)-len(Name))"
   ]
  },
  {
   "cell_type": "code",
   "execution_count": null,
   "metadata": {},
   "outputs": [],
   "source": [
    "remove = ['Address:',\n",
    " 'Office phone:',\n",
    " 'Office fax:',\n",
    " 'Office email:',\n",
    " 'Branch manager:',\n",
    " 'Office hours:',]\n",
    "for i in remove:\n",
    "    Title.remove(i)"
   ]
  },
  {
   "cell_type": "code",
   "execution_count": null,
   "metadata": {},
   "outputs": [],
   "source": [
    "Name=[i.split(',', 1)[0] for i in Name]"
   ]
  },
  {
   "cell_type": "code",
   "execution_count": null,
   "metadata": {},
   "outputs": [],
   "source": [
    "data = pd.DataFrame({\n",
    "'Name': Name,\n",
    "'Add': '8660 S Tamiami Trail',\n",
    "'city': 'Sarasota',\n",
    "'state':'FL',\n",
    "'zip':'34238',\n",
    "'Title': Title,\n",
    "'Mobile': Mobile,\n",
    "'Office number': '941.966.8000',\n",
    "'Office Name':'Palmer Ranch - Sarasota Real Estate Agents'})\n",
    "data.tail()"
   ]
  },
  {
   "cell_type": "code",
   "execution_count": null,
   "metadata": {},
   "outputs": [],
   "source": [
    "data.to_csv('Palmer Ranch - Sarasota Real Estate Agents, FL 34238.csv', index  = False)"
   ]
  },
  {
   "cell_type": "code",
   "execution_count": null,
   "metadata": {},
   "outputs": [],
   "source": [
    "del data"
   ]
  },
  {
   "cell_type": "markdown",
   "metadata": {},
   "source": [
    "## For homesmart.com/"
   ]
  },
  {
   "cell_type": "code",
   "execution_count": null,
   "metadata": {},
   "outputs": [],
   "source": [
    "for i in soup.findAll('a',{'class':\"agent-name\"}):\n",
    "    Name.append(i.text.strip())\n",
    "for j in soup.findAll('a',{'class':\"agent-phone\"}):\n",
    "    Phone.append(j.text)\n"
   ]
  },
  {
   "cell_type": "code",
   "execution_count": null,
   "metadata": {},
   "outputs": [],
   "source": [
    "print(len(Name))\n",
    "print(len(Mobile))\n",
    "print(len(Mobile)-len(Name))"
   ]
  },
  {
   "cell_type": "code",
   "execution_count": null,
   "metadata": {},
   "outputs": [],
   "source": [
    "for i in soup.findAll('div',{'ng-repeat':\"result in agents\"}):\n",
    "    Name.append(soup.find('a',{'class':\"agent-name\"}).text.strip())\n",
    "    Phone.append(soup.find('a',{'class':\"agent-phone\"}).text) "
   ]
  },
  {
   "cell_type": "code",
   "execution_count": null,
   "metadata": {},
   "outputs": [],
   "source": [
    "Name"
   ]
  },
  {
   "cell_type": "code",
   "execution_count": null,
   "metadata": {},
   "outputs": [],
   "source": [
    "data = pd.DataFrame({\n",
    "'Name': Name,\n",
    "'Add': '11200 Commerce Dr N',\n",
    "'city': 'Champlin',\n",
    "'state':'MN',\n",
    "'zip':'55316',\n",
    "'Title': Title,\n",
    "'Mobile': Mobile,\n",
    "'Office number': '763-566-5770',\n",
    "'Office Name':'Champlin Park'})\n",
    "data"
   ]
  },
  {
   "cell_type": "code",
   "execution_count": null,
   "metadata": {},
   "outputs": [],
   "source": [
    "Links=[]"
   ]
  },
  {
   "cell_type": "code",
   "execution_count": null,
   "metadata": {},
   "outputs": [],
   "source": [
    "soup=BeautifulSoup(driver.page_source,\"html.parser\")\n",
    "#body=soup.find('tbody')\n",
    "\n",
    "for link in soup.find_all('a', href=True):\n",
    "    Links.append(link['href'])"
   ]
  },
  {
   "cell_type": "code",
   "execution_count": null,
   "metadata": {},
   "outputs": [],
   "source": [
    "Links"
   ]
  },
  {
   "cell_type": "code",
   "execution_count": null,
   "metadata": {},
   "outputs": [],
   "source": [
    "remove=['#',\n",
    " '/',\n",
    " 'https://homesmart.com/join-us/',\n",
    " 'https://homesmart.com/franchising/',\n",
    " 'https://tech.homesmart.com',\n",
    " 'https://homesmart.com/training/',\n",
    " 'https://homesmart.com/about-us/',\n",
    " 'https://homesmart.com/join-us/contact-us/',\n",
    " 'https://homesmart.com/homesearch/',\n",
    " 'https://homesmart.com/officesagents/agents-search/',\n",
    " 'https://homesmart.com/offices-agents-search/',\n",
    " 'https://homesmart.com/buyers/',\n",
    " 'https://homesmart.com/sellers/',\n",
    " 'https://homesmart.com/press/',\n",
    " '/homesearch/',\n",
    " '/officesagents/agents-search/',\n",
    " '/offices-agents-search/',\n",
    " 'https://homesmart.com/buyers/',\n",
    " 'https://homesmart.com/sellers/',\n",
    " '/press/',\n",
    " '//www.linkedin.com/company/homesmart',\n",
    " 'https://www.facebook.com/homesmartfranchise/',\n",
    " '//twitter.com/HomeSmartIntl',\n",
    "'https://homesmart.com/',\n",
    " 'https://homesmart.com/buyers/',\n",
    " 'https://homesmart.com/sellers/',\n",
    " 'https://homesmart.com/join-us/',\n",
    " 'https://homesmart.com/franchising/',\n",
    " 'https://homesmart.com/about-us/',\n",
    " 'https://homesmart.com/current-openings/',\n",
    " 'https://homesmart.com/join-us/contact-us/',\n",
    " '/privacy-policy',\n",
    " '/accessibility/']"
   ]
  },
  {
   "cell_type": "code",
   "execution_count": null,
   "metadata": {},
   "outputs": [],
   "source": [
    "for i in remove:\n",
    "    Links.remove(i)"
   ]
  },
  {
   "cell_type": "code",
   "execution_count": null,
   "metadata": {},
   "outputs": [],
   "source": [
    "Name=[]\n",
    "info=[]\n",
    "Phone=[]"
   ]
  },
  {
   "cell_type": "code",
   "execution_count": null,
   "metadata": {},
   "outputs": [],
   "source": [
    "len(Links)"
   ]
  },
  {
   "cell_type": "code",
   "execution_count": null,
   "metadata": {},
   "outputs": [],
   "source": [
    "for url in Links:\n",
    "    driver.get(url)\n",
    "    sleep(1)\n",
    "    soup=BeautifulSoup(driver.page_source,\"html.parser\")\n",
    "    try:\n",
    "        Name.append(soup.find('div',{'class':\"agent_name\"}).text)\n",
    "        info.append(soup.find('div',{'class':\"agent_contact\"}).text.strip(' '))\n",
    "    except:\n",
    "        Name.append('NA')\n",
    "        info.append('NA')"
   ]
  },
  {
   "cell_type": "code",
   "execution_count": null,
   "metadata": {},
   "outputs": [],
   "source": [
    "print(len(Name))\n",
    "print(len(info))\n",
    "print(len(Name)-len(info))"
   ]
  },
  {
   "cell_type": "code",
   "execution_count": null,
   "metadata": {},
   "outputs": [],
   "source": [
    "New Orleans - HS Realty South\n",
    "145 W. Harrison Avenue, Suite B\n",
    "New Orleans, LA 70124"
   ]
  },
  {
   "cell_type": "code",
   "execution_count": null,
   "metadata": {},
   "outputs": [],
   "source": [
    "data = pd.DataFrame({\n",
    "'Name': Name,\n",
    "'Add': '145 W. Harrison Avenue, Suite B',\n",
    "'city': 'New Orleans',\n",
    "'state':'LA',\n",
    "'zip':'70124',\n",
    "'Title': 'Agent',\n",
    "'Mobile': info,\n",
    "'Office number': '(602) 761-4650',\n",
    "'Office Name':'New Orleans - HS Realty South'})\n",
    "data.head()"
   ]
  },
  {
   "cell_type": "code",
   "execution_count": null,
   "metadata": {},
   "outputs": [],
   "source": [
    "data.to_csv('New Orleans - HS Realty South.csv', index  = False)"
   ]
  },
  {
   "cell_type": "markdown",
   "metadata": {},
   "source": [
    "## For Remax"
   ]
  },
  {
   "cell_type": "code",
   "execution_count": null,
   "metadata": {},
   "outputs": [],
   "source": [
    "Name=[]\n",
    "Mobile=[]\n",
    "Title=[]"
   ]
  },
  {
   "cell_type": "code",
   "execution_count": null,
   "metadata": {},
   "outputs": [],
   "source": [
    "soup=BeautifulSoup(driver.page_source,\"html.parser\")\n",
    "body=soup.findAll('div',{'class':'container_33VP6'})\n",
    "for tags in body:\n",
    "    name=tags.findAll('h4',{'class':'name_2Z1oM'})\n",
    "    for i in name:\n",
    "        Name.append(i.text.strip())\n",
    "    num=tags.findAll('button',{'type':'button'})\n",
    "    title=tags.findAll('h5',{'class':'title_2Xx3b'})\n",
    "    for t in title:\n",
    "        Title.append(t.text.strip())\n",
    "    for n in num:\n",
    "        Mobile.append(n.text.strip())\n",
    "for i in range(Mobile.count('Contact Me')):\n",
    "    Mobile.remove('Contact Me')\n",
    "officenum=soup.find('a',{'class':\"phone-link\"}).text\n",
    "officenum"
   ]
  },
  {
   "cell_type": "code",
   "execution_count": null,
   "metadata": {},
   "outputs": [],
   "source": [
    "print(len(Name))\n",
    "print(len(Mobile))\n",
    "print(len(Title))\n",
    "print(len(Mobile)-len(Name))"
   ]
  },
  {
   "cell_type": "code",
   "execution_count": null,
   "metadata": {},
   "outputs": [],
   "source": [
    "Name.remove(\"Shanna  Ohrt\")\n",
    "Title.remove('Associate')"
   ]
  },
  {
   "cell_type": "code",
   "execution_count": null,
   "metadata": {
    "scrolled": true
   },
   "outputs": [],
   "source": [
    "t=soup.find('h4',{'class':\"mb-8\"}).text\n",
    "Officename=soup.find('h1',{'class':\"h2 mt-6\"}).text.strip()\n",
    "print(Officename)\n",
    "print(t.strip())"
   ]
  },
  {
   "cell_type": "code",
   "execution_count": null,
   "metadata": {},
   "outputs": [],
   "source": [
    "data = pd.DataFrame({\n",
    "'Name': Name,\n",
    "'Add': '7160 South 29th Street, Ste 6',\n",
    "'city': 'Lincoln',\n",
    "'state':'NE ',\n",
    "'zip':'68506',\n",
    "'empty1': ' ',\n",
    "'Title': Title,\n",
    "'email': ' ',\n",
    "'Mobile': Mobile,\n",
    "'Office number': officenum,\n",
    "'empty2': ' ',\n",
    "'Office Name':Officename})\n",
    "data"
   ]
  },
  {
   "cell_type": "code",
   "execution_count": null,
   "metadata": {},
   "outputs": [],
   "source": [
    "data.to_csv('RE-MAX The Producers.csv', index  = False)"
   ]
  },
  {
   "cell_type": "markdown",
   "metadata": {},
   "source": [
    "# for canada"
   ]
  },
  {
   "cell_type": "code",
   "execution_count": null,
   "metadata": {},
   "outputs": [],
   "source": [
    "<div _ngcontent-c31=\"\" class=\"agent-list\">"
   ]
  },
  {
   "cell_type": "code",
   "execution_count": null,
   "metadata": {},
   "outputs": [],
   "source": [
    "Name=[]\n",
    "mobile=[]"
   ]
  },
  {
   "cell_type": "code",
   "execution_count": null,
   "metadata": {},
   "outputs": [],
   "source": [
    "soup=BeautifulSoup(driver.page_source,\"html.parser\")\n",
    "for i in soup.findAll('h4',{'class':'name wrap-word is-flex has-flex-align-center'}):\n",
    "    Name.append(i.text.strip('chevron_right').strip())\n",
    "for i in soup.findAll('button',{'class':\"btn-link hide-on-desktop-up phone-number--redesign\"}):\n",
    "    mobile.append(i.text)\n",
    "\n",
    "print(len(Name))\n",
    "print(len(mobile))\n",
    "print(len(mobile)-len(Name))"
   ]
  },
  {
   "cell_type": "code",
   "execution_count": null,
   "metadata": {},
   "outputs": [],
   "source": [
    "Name[-8:]"
   ]
  },
  {
   "cell_type": "code",
   "execution_count": null,
   "metadata": {},
   "outputs": [],
   "source": [
    "Name.remove('Jesse Melo')"
   ]
  },
  {
   "cell_type": "code",
   "execution_count": null,
   "metadata": {},
   "outputs": [],
   "source": [
    "print(len(Name))\n",
    "print(len(mobile))\n",
    "print(len(mobile)-len(Name))"
   ]
  },
  {
   "cell_type": "code",
   "execution_count": null,
   "metadata": {},
   "outputs": [],
   "source": [
    "data = pd.DataFrame({\n",
    "'Name': Name,\n",
    "'Add': '1 MARKLAND STREET',\n",
    "'city': 'HAMILTON',\n",
    "'state':'ON ',\n",
    "'zip':'L8P 2J5',\n",
    "'Title': 'Agents',\n",
    "'Mobile': mobile,\n",
    "'Office number': '(905) 575-7700',\n",
    "'Office Name': 'RE/MAX Escarpment Golfi Realty Inc'})\n",
    "data"
   ]
  },
  {
   "cell_type": "code",
   "execution_count": null,
   "metadata": {},
   "outputs": [],
   "source": [
    "data.to_csv('RE-MAX Escarpment Golfi Realty Inc.csv', index  = False)"
   ]
  },
  {
   "cell_type": "markdown",
   "metadata": {},
   "source": [
    "## sothebysrealty"
   ]
  },
  {
   "cell_type": "code",
   "execution_count": null,
   "metadata": {},
   "outputs": [],
   "source": [
    "soup=BeautifulSoup(driver.page_source,\"html.parser\")"
   ]
  },
  {
   "cell_type": "code",
   "execution_count": null,
   "metadata": {},
   "outputs": [],
   "source": [
    "soup.find('span',{'class':\"agent-item__name\"})"
   ]
  },
  {
   "cell_type": "code",
   "execution_count": null,
   "metadata": {},
   "outputs": [],
   "source": [
    "Name=[]\n",
    "Mobile=[]"
   ]
  },
  {
   "cell_type": "code",
   "execution_count": null,
   "metadata": {},
   "outputs": [],
   "source": [
    "soup=BeautifulSoup(driver.page_source,\"html.parser\")\n",
    "name=soup.findAll('span',{'class':\"agent-item__name\"})\n",
    "for i in name:\n",
    "    Name.append(i.text.strip())\n",
    "num=soup.findAll('a',{'class':\"o-phone o-phone-number tel js-phone-link\"})\n",
    "for n in num:\n",
    "    Mobile.append(n.text.strip('Mobile: + ').strip('Business: + '))"
   ]
  },
  {
   "cell_type": "code",
   "execution_count": null,
   "metadata": {},
   "outputs": [],
   "source": [
    "print(len(Name))\n",
    "print(len(Mobile))\n",
    "print(len(Mobile)-len(Name))"
   ]
  },
  {
   "cell_type": "code",
   "execution_count": null,
   "metadata": {},
   "outputs": [],
   "source": [
    "Mobile.remove('808.263.5900')"
   ]
  },
  {
   "cell_type": "code",
   "execution_count": null,
   "metadata": {
    "scrolled": true
   },
   "outputs": [],
   "source": [
    "data = pd.DataFrame({\n",
    "'Name': Name,\n",
    "'Add': '2340 Dauphine Street',\n",
    "'city': 'New Orleans',\n",
    "'state':'LA',\n",
    "'zip':'70117',\n",
    "'Title': 'Agent',\n",
    "'Mobile': Mobile,\n",
    "'Office number': '504.944.3605',\n",
    "'Office Name':\"Dorian Bennett Sotheby's International Realty\"})\n",
    "data"
   ]
  },
  {
   "cell_type": "code",
   "execution_count": null,
   "metadata": {},
   "outputs": [],
   "source": [
    "data.to_csv(\"Dorian Bennett Sotheby's International Realty.csv\", index  = False)"
   ]
  },
  {
   "cell_type": "markdown",
   "metadata": {},
   "source": [
    "## Realty Executives"
   ]
  },
  {
   "cell_type": "code",
   "execution_count": null,
   "metadata": {},
   "outputs": [],
   "source": [
    "soup=BeautifulSoup(driver.page_source,\"html.parser\")\n",
    "agent=soup.findAll('div',{'class':\"col-sm-3 agentlist\"})\n",
    "Name=[]\n",
    "\n",
    "Title=[]\n",
    "Mobile=[]\n",
    "for i in agent:\n",
    "    Name.append(i.find('div',{'class':\"card-name\"}).text.strip())\n",
    "    Title.append(i.find('div',{'class':\"card-title\"}).text)\n",
    "    try:\n",
    "        Mobile.append(i.find('div',{'class':\"card-phone\"}).text.strip())\n",
    "    except: \n",
    "        Mobile.append('NA')"
   ]
  },
  {
   "cell_type": "code",
   "execution_count": null,
   "metadata": {},
   "outputs": [],
   "source": [
    "print(len(Name))\n",
    "print(len(Mobile))\n",
    "print(len(Mobile)-len(Name))"
   ]
  },
  {
   "cell_type": "code",
   "execution_count": null,
   "metadata": {},
   "outputs": [],
   "source": [
    "data = pd.DataFrame({\n",
    "'Name': Name,\n",
    "'Add': '405 Boyds Creek Hwy',\n",
    "'city': 'Seymour',\n",
    "'state':'TN',\n",
    "'zip':'37865',\n",
    "'Title': Title,\n",
    "'Mobile': Mobile,\n",
    "'Office number': '865-609-7654',\n",
    "'Office Name':\"Realty Executives Advantage (Boyds Creek)\"})\n",
    "data.tail()"
   ]
  },
  {
   "cell_type": "code",
   "execution_count": null,
   "metadata": {},
   "outputs": [],
   "source": [
    "data.to_csv('Realty Executives Advantage (Boyds Creek).csv', index  = False)"
   ]
  },
  {
   "cell_type": "markdown",
   "metadata": {},
   "source": [
    "   ## Weichert"
   ]
  },
  {
   "cell_type": "code",
   "execution_count": null,
   "metadata": {},
   "outputs": [],
   "source": []
  },
  {
   "cell_type": "code",
   "execution_count": null,
   "metadata": {},
   "outputs": [],
   "source": []
  },
  {
   "cell_type": "code",
   "execution_count": null,
   "metadata": {},
   "outputs": [],
   "source": [
    "soup.find('h5',{'class':\"agent-card-title\"}).text"
   ]
  },
  {
   "cell_type": "code",
   "execution_count": null,
   "metadata": {},
   "outputs": [],
   "source": [
    "soup.find('h6',{'class':\"agent-card-phone\"}).text"
   ]
  },
  {
   "cell_type": "code",
   "execution_count": null,
   "metadata": {},
   "outputs": [],
   "source": [
    "Name=[]\n",
    "Title=[]\n",
    "Mobile=[]"
   ]
  },
  {
   "cell_type": "code",
   "execution_count": null,
   "metadata": {},
   "outputs": [],
   "source": [
    "soup=BeautifulSoup(driver.page_source,\"html.parser\")\n",
    "name=soup.findAll('h5',{'class':\"agent-card-title\"})\n",
    "for i in name:\n",
    "        Name.append(i.text)\n",
    "mobile=soup.findAll('h6',{'class':\"agent-card-phone\"})\n",
    "for j in mobile:\n",
    "    Mobile.append(j.text)\n",
    "print(len(Name))\n",
    "print(len(Mobile))\n",
    "print(len(Mobile)-len(Name))"
   ]
  },
  {
   "cell_type": "code",
   "execution_count": null,
   "metadata": {
    "scrolled": true
   },
   "outputs": [],
   "source": [
    "data = pd.DataFrame({\n",
    "'Name': Name,\n",
    "'Add': '3828 Veterans Memorial Blvd., Suite 200',\n",
    "'city': 'Metairie',\n",
    "'state':'LA ',\n",
    "'zip':'70006',\n",
    "'Agent': 'Agent',\n",
    "'Mobile': Mobile,\n",
    "'Office number': '(504) 875-4864',\n",
    "'Office Name': 'Metairie - WEICHERT, REALTORS® - Prestige Homes'})\n",
    "data"
   ]
  },
  {
   "cell_type": "code",
   "execution_count": null,
   "metadata": {},
   "outputs": [],
   "source": [
    "data.to_csv('Haddonfield Office - Weichert.csv', index  = False)"
   ]
  },
  {
   "cell_type": "code",
   "execution_count": null,
   "metadata": {},
   "outputs": [],
   "source": [
    "del data"
   ]
  },
  {
   "cell_type": "code",
   "execution_count": null,
   "metadata": {},
   "outputs": [],
   "source": [
    "Name=[]\n",
    "mobile=[]"
   ]
  },
  {
   "cell_type": "code",
   "execution_count": null,
   "metadata": {},
   "outputs": [],
   "source": [
    "soup=BeautifulSoup(driver.page_source,\"html.parser\")"
   ]
  },
  {
   "cell_type": "code",
   "execution_count": null,
   "metadata": {},
   "outputs": [],
   "source": [
    "soup=BeautifulSoup(driver.page_source,\"html.parser\")\n",
    "for i in soup.findAll('div',{'class':'col-sm-12 col-md-6'}):\n",
    "    Name.append(i.find('h4').text.strip())\n",
    "for i in soup.findAll('button',{'class':\"btn-link hide-on-desktop-up phone-number--redesign\"}):\n",
    "    mobile.append(i.findAll('span').text)\n",
    "\n",
    "print(len(Name))\n",
    "print(len(mobile))\n",
    "print(len(mobile)-len(Name))"
   ]
  },
  {
   "cell_type": "code",
   "execution_count": null,
   "metadata": {},
   "outputs": [],
   "source": [
    "for i in soup.findAll('span'):\n",
    "    print(i.text.strip())"
   ]
  },
  {
   "cell_type": "code",
   "execution_count": null,
   "metadata": {},
   "outputs": [],
   "source": [
    "agents=[]"
   ]
  },
  {
   "cell_type": "code",
   "execution_count": null,
   "metadata": {},
   "outputs": [],
   "source": [
    "soup=BeautifulSoup(driver.page_source,\"html.parser\")\n",
    "for link in soup.findAll('div',{'class':\"col-sm-12 col-md-6\"}):\n",
    "    parent = link.parent                            \n",
    "    for a in parent.findAll('a', href=True):\n",
    "        agents.append(a['href'])"
   ]
  },
  {
   "cell_type": "code",
   "execution_count": null,
   "metadata": {},
   "outputs": [],
   "source": [
    "len(agents)"
   ]
  },
  {
   "cell_type": "code",
   "execution_count": null,
   "metadata": {},
   "outputs": [],
   "source": [
    "seen={}\n",
    "agentsc = [seen.setdefault(x, x) for x in agents if x not in seen]\n",
    "len(agentsc)"
   ]
  },
  {
   "cell_type": "code",
   "execution_count": null,
   "metadata": {
    "scrolled": true
   },
   "outputs": [],
   "source": [
    "info=[]\n",
    "for i in agentsc:\n",
    "    driver.get(str(i))\n",
    "    sleep(3)\n",
    "    soup=BeautifulSoup(driver.page_source,\"html.parser\")\n",
    "    print(soup.find('div',{'class':\"large-4 medium-12 small-12 columns\"}).text.strip().strip())\n",
    "    info.append(soup.find('div',{'class':\"large-4 medium-12 small-12 columns\"}).text.strip())"
   ]
  },
  {
   "cell_type": "code",
   "execution_count": null,
   "metadata": {},
   "outputs": [],
   "source": [
    "info"
   ]
  },
  {
   "cell_type": "markdown",
   "metadata": {},
   "source": [
    "# here\n"
   ]
  },
  {
   "cell_type": "code",
   "execution_count": null,
   "metadata": {},
   "outputs": [],
   "source": [
    "Links=[]"
   ]
  },
  {
   "cell_type": "code",
   "execution_count": null,
   "metadata": {},
   "outputs": [],
   "source": [
    "\n",
    "soup=BeautifulSoup(driver.page_source,\"html.parser\")\n",
    "body=soup.findAll('div',{'class':\"slick-slide slick-current slick-active\"})\n",
    "for i in body:\n",
    "    link=i.findAll('a', href=True)\n",
    "    print(link)\n",
    "    #Links.append(link['href'])"
   ]
  },
  {
   "cell_type": "code",
   "execution_count": null,
   "metadata": {},
   "outputs": [],
   "source": [
    "len(link)"
   ]
  },
  {
   "cell_type": "code",
   "execution_count": null,
   "metadata": {},
   "outputs": [],
   "source": [
    "soup.findAll('div',{'class':\"slick-slide slick-current slick-active\"})"
   ]
  },
  {
   "cell_type": "code",
   "execution_count": null,
   "metadata": {},
   "outputs": [],
   "source": []
  },
  {
   "cell_type": "code",
   "execution_count": null,
   "metadata": {},
   "outputs": [],
   "source": []
  },
  {
   "cell_type": "code",
   "execution_count": null,
   "metadata": {},
   "outputs": [],
   "source": []
  },
  {
   "cell_type": "code",
   "execution_count": null,
   "metadata": {},
   "outputs": [],
   "source": []
  }
 ],
 "metadata": {
  "kernelspec": {
   "display_name": "Python 3",
   "language": "python",
   "name": "python3"
  },
  "language_info": {
   "codemirror_mode": {
    "name": "ipython",
    "version": 3
   },
   "file_extension": ".py",
   "mimetype": "text/x-python",
   "name": "python",
   "nbconvert_exporter": "python",
   "pygments_lexer": "ipython3",
   "version": "3.7.6"
  }
 },
 "nbformat": 4,
 "nbformat_minor": 4
}
