{
 "cells": [
  {
   "cell_type": "code",
   "execution_count": 1,
   "metadata": {},
   "outputs": [],
   "source": [
    "import requests\n",
    "import lxml.html as lh\n",
    "import pandas as pd\n",
    "import csv\n",
    "from bs4 import BeautifulSoup\n",
    "from selenium import webdriver\n",
    "from time import sleep"
   ]
  },
  {
   "cell_type": "code",
   "execution_count": 2,
   "metadata": {
    "scrolled": true
   },
   "outputs": [],
   "source": [
    "driver = webdriver.Chrome(executable_path=r'C:\\Users\\Justin Robin\\.wdm\\drivers\\chromedriver\\83.0.4103.39\\win32\\chromedriver.exe')   \n",
    "url = 'https://sanantoniohomesforsale.yourkwoffice.com/our-associates'\n",
    "driver.get(url)"
   ]
  },
  {
   "cell_type": "markdown",
   "metadata": {},
   "source": [
    "# wrealestate"
   ]
  },
  {
   "cell_type": "code",
   "execution_count": 86,
   "metadata": {},
   "outputs": [],
   "source": [
    "Name=[]\n",
    "Number=[]\n",
    "soup=BeautifulSoup(driver.page_source,\"html.parser\")\n",
    "for i in soup.findAll('div',{'class':\"aos-agent-card col-xs-12 col-sm-4 col-md-3\"}):\n",
    "    Name.append(i.h4.text.strip())\n",
    "    Number.append(i.find('div',{'class':\"aos-agent-phone-list clearfix\"}).a.text)"
   ]
  },
  {
   "cell_type": "code",
   "execution_count": 87,
   "metadata": {},
   "outputs": [
    {
     "name": "stdout",
     "output_type": "stream",
     "text": [
      "27\n",
      "27\n"
     ]
    }
   ],
   "source": [
    "print(len(Name))\n",
    "print(len(Number))"
   ]
  },
  {
   "cell_type": "code",
   "execution_count": 88,
   "metadata": {},
   "outputs": [
    {
     "data": {
      "text/plain": [
       "'     Sonoma 539 BroadwaySuite BSonoma CA, 95476'"
      ]
     },
     "execution_count": 88,
     "metadata": {},
     "output_type": "execute_result"
    }
   ],
   "source": [
    "soup.find('div',{'class':\"col-md-12 col-xs-12\"}).text.replace('\\n','').replace('                            ',' ')"
   ]
  },
  {
   "cell_type": "code",
   "execution_count": 89,
   "metadata": {},
   "outputs": [
    {
     "data": {
      "text/html": [
       "<div>\n",
       "<style scoped>\n",
       "    .dataframe tbody tr th:only-of-type {\n",
       "        vertical-align: middle;\n",
       "    }\n",
       "\n",
       "    .dataframe tbody tr th {\n",
       "        vertical-align: top;\n",
       "    }\n",
       "\n",
       "    .dataframe thead th {\n",
       "        text-align: right;\n",
       "    }\n",
       "</style>\n",
       "<table border=\"1\" class=\"dataframe\">\n",
       "  <thead>\n",
       "    <tr style=\"text-align: right;\">\n",
       "      <th></th>\n",
       "      <th>Name</th>\n",
       "      <th>Add</th>\n",
       "      <th>city</th>\n",
       "      <th>state</th>\n",
       "      <th>zip</th>\n",
       "      <th>Agent</th>\n",
       "      <th>Mobile</th>\n",
       "      <th>Office number</th>\n",
       "      <th>Office Name</th>\n",
       "    </tr>\n",
       "  </thead>\n",
       "  <tbody>\n",
       "    <tr>\n",
       "      <th>0</th>\n",
       "      <td>Casey Moll</td>\n",
       "      <td>539 Broadway Suite B</td>\n",
       "      <td>Sonoma</td>\n",
       "      <td>CA</td>\n",
       "      <td>95476</td>\n",
       "      <td>Agent</td>\n",
       "      <td>(707) 501-5406</td>\n",
       "      <td>(707) 591-0570</td>\n",
       "      <td>Wrealestate Sonoma</td>\n",
       "    </tr>\n",
       "    <tr>\n",
       "      <th>1</th>\n",
       "      <td>David Calonego</td>\n",
       "      <td>539 Broadway Suite B</td>\n",
       "      <td>Sonoma</td>\n",
       "      <td>CA</td>\n",
       "      <td>95476</td>\n",
       "      <td>Agent</td>\n",
       "      <td>(707) 721-4212</td>\n",
       "      <td>(707) 591-0570</td>\n",
       "      <td>Wrealestate Sonoma</td>\n",
       "    </tr>\n",
       "    <tr>\n",
       "      <th>2</th>\n",
       "      <td>Ella Joyner-Shone</td>\n",
       "      <td>539 Broadway Suite B</td>\n",
       "      <td>Sonoma</td>\n",
       "      <td>CA</td>\n",
       "      <td>95476</td>\n",
       "      <td>Agent</td>\n",
       "      <td>(707) 227-8108</td>\n",
       "      <td>(707) 591-0570</td>\n",
       "      <td>Wrealestate Sonoma</td>\n",
       "    </tr>\n",
       "    <tr>\n",
       "      <th>3</th>\n",
       "      <td>Emmy Kaplan</td>\n",
       "      <td>539 Broadway Suite B</td>\n",
       "      <td>Sonoma</td>\n",
       "      <td>CA</td>\n",
       "      <td>95476</td>\n",
       "      <td>Agent</td>\n",
       "      <td>(415) 250-6534</td>\n",
       "      <td>(707) 591-0570</td>\n",
       "      <td>Wrealestate Sonoma</td>\n",
       "    </tr>\n",
       "    <tr>\n",
       "      <th>4</th>\n",
       "      <td>Hayley Bennett</td>\n",
       "      <td>539 Broadway Suite B</td>\n",
       "      <td>Sonoma</td>\n",
       "      <td>CA</td>\n",
       "      <td>95476</td>\n",
       "      <td>Agent</td>\n",
       "      <td>(707) 931-8007</td>\n",
       "      <td>(707) 591-0570</td>\n",
       "      <td>Wrealestate Sonoma</td>\n",
       "    </tr>\n",
       "  </tbody>\n",
       "</table>\n",
       "</div>"
      ],
      "text/plain": [
       "                Name                   Add    city state    zip  Agent  \\\n",
       "0         Casey Moll  539 Broadway Suite B  Sonoma    CA  95476  Agent   \n",
       "1     David Calonego  539 Broadway Suite B  Sonoma    CA  95476  Agent   \n",
       "2  Ella Joyner-Shone  539 Broadway Suite B  Sonoma    CA  95476  Agent   \n",
       "3        Emmy Kaplan  539 Broadway Suite B  Sonoma    CA  95476  Agent   \n",
       "4     Hayley Bennett  539 Broadway Suite B  Sonoma    CA  95476  Agent   \n",
       "\n",
       "           Mobile   Office number         Office Name  \n",
       "0  (707) 501-5406  (707) 591-0570  Wrealestate Sonoma  \n",
       "1  (707) 721-4212  (707) 591-0570  Wrealestate Sonoma  \n",
       "2  (707) 227-8108  (707) 591-0570  Wrealestate Sonoma  \n",
       "3  (415) 250-6534  (707) 591-0570  Wrealestate Sonoma  \n",
       "4  (707) 931-8007  (707) 591-0570  Wrealestate Sonoma  "
      ]
     },
     "execution_count": 89,
     "metadata": {},
     "output_type": "execute_result"
    }
   ],
   "source": [
    "data = pd.DataFrame({\n",
    "'Name': Name,\n",
    "'Add': '539 Broadway Suite B',\n",
    "'city': 'Sonoma',\n",
    "'state':'CA',\n",
    "'zip':'95476',\n",
    "'Agent': 'Agent',\n",
    "'Mobile': Number,\n",
    "'Office number': '(707) 591-0570',\n",
    "'Office Name': 'Wrealestate Sonoma',})\n",
    "data.head()"
   ]
  },
  {
   "cell_type": "code",
   "execution_count": 90,
   "metadata": {},
   "outputs": [],
   "source": [
    "data.to_csv('Wrealestate Sonoma .csv', index  = False)"
   ]
  },
  {
   "cell_type": "code",
   "execution_count": null,
   "metadata": {},
   "outputs": [],
   "source": [
    "<div class=\"agent-info w-100\"><p>Arwen Spadoni</p><p class=\"ttu\">Agent &nbsp;</p><p>707.756.8070 &nbsp;</p><p>arwen.spadoni@theagencyre.com &nbsp;</p></div>"
   ]
  },
  {
   "cell_type": "code",
   "execution_count": 91,
   "metadata": {},
   "outputs": [],
   "source": [
    "soup=BeautifulSoup(driver.page_source,\"html.parser\")"
   ]
  },
  {
   "cell_type": "code",
   "execution_count": 100,
   "metadata": {},
   "outputs": [
    {
     "name": "stdout",
     "output_type": "stream",
     "text": [
      "707.756.8070  \n",
      "707.889.3968  \n",
      "707.756.8051  \n",
      "707.756.8074  \n",
      "707.756.8066  \n",
      "707.280.6257  \n",
      "707.756.8071  \n",
      "707.322.2000  \n",
      "707.481.5653  \n",
      "707.756.8060  \n",
      "707.535.6498  \n",
      "707.756.8068  \n",
      "707.484.6578  \n"
     ]
    }
   ],
   "source": [
    "for i in soup.findAll('div',{'class':\"agent-info w-100\"}):\n",
    "    p=i.findAll('p')\n",
    "    print(p[2].text)"
   ]
  },
  {
   "cell_type": "code",
   "execution_count": 98,
   "metadata": {},
   "outputs": [
    {
     "data": {
      "text/plain": [
       "[<p>Arwen Spadoni</p>,\n",
       " <p class=\"ttu\">Agent  </p>,\n",
       " <p>707.756.8070  </p>,\n",
       " <p>arwen.spadoni@theagencyre.com  </p>]"
      ]
     },
     "execution_count": 98,
     "metadata": {},
     "output_type": "execute_result"
    }
   ],
   "source": [
    "soup.find('div',{'class':\"agent-info w-100\"})"
   ]
  },
  {
   "cell_type": "code",
   "execution_count": null,
   "metadata": {},
   "outputs": [],
   "source": []
  },
  {
   "cell_type": "code",
   "execution_count": null,
   "metadata": {},
   "outputs": [],
   "source": []
  },
  {
   "cell_type": "code",
   "execution_count": null,
   "metadata": {},
   "outputs": [],
   "source": []
  },
  {
   "cell_type": "markdown",
   "metadata": {},
   "source": [
    "# watsonrealtycorp"
   ]
  },
  {
   "cell_type": "code",
   "execution_count": 46,
   "metadata": {},
   "outputs": [],
   "source": [
    "Number=[]\n",
    "Name=[]"
   ]
  },
  {
   "cell_type": "code",
   "execution_count": 47,
   "metadata": {},
   "outputs": [],
   "source": [
    "soup=BeautifulSoup(driver.page_source,\"html.parser\")\n",
    "for i in soup.findAll('div',{'class':\"col-sm-6 col-md-6 col-lg-4 margin-bottom-60\"}):\n",
    "    Name.append(i.find('div',{'class':\"title-block margin-bottom-20\"}).text.replace('\\t','').replace('\\n',''))\n",
    "    Number.append(i.find('div',{'class':'pull-left'}).text.replace('\\t','').replace('\\n','').replace('  – Mobile',''))"
   ]
  },
  {
   "cell_type": "code",
   "execution_count": 48,
   "metadata": {},
   "outputs": [
    {
     "name": "stdout",
     "output_type": "stream",
     "text": [
      "20\n",
      "20\n"
     ]
    }
   ],
   "source": [
    "print(len(Name))\n",
    "print(len(Number))"
   ]
  },
  {
   "cell_type": "code",
   "execution_count": 49,
   "metadata": {},
   "outputs": [
    {
     "data": {
      "text/html": [
       "<div>\n",
       "<style scoped>\n",
       "    .dataframe tbody tr th:only-of-type {\n",
       "        vertical-align: middle;\n",
       "    }\n",
       "\n",
       "    .dataframe tbody tr th {\n",
       "        vertical-align: top;\n",
       "    }\n",
       "\n",
       "    .dataframe thead th {\n",
       "        text-align: right;\n",
       "    }\n",
       "</style>\n",
       "<table border=\"1\" class=\"dataframe\">\n",
       "  <thead>\n",
       "    <tr style=\"text-align: right;\">\n",
       "      <th></th>\n",
       "      <th>Name</th>\n",
       "      <th>Add</th>\n",
       "      <th>city</th>\n",
       "      <th>state</th>\n",
       "      <th>zip</th>\n",
       "      <th>Agent</th>\n",
       "      <th>Mobile</th>\n",
       "      <th>Office number</th>\n",
       "      <th>Office Name</th>\n",
       "    </tr>\n",
       "  </thead>\n",
       "  <tbody>\n",
       "    <tr>\n",
       "      <th>0</th>\n",
       "      <td>Patsy Bradley</td>\n",
       "      <td>1504 South Atlantic Ave.</td>\n",
       "      <td>New Smyrna Beach</td>\n",
       "      <td>FL</td>\n",
       "      <td>32169-3102</td>\n",
       "      <td>Agent</td>\n",
       "      <td>(386) 689-4849</td>\n",
       "      <td>(386) 428-7355</td>\n",
       "      <td>New Smyrna Beach Watson Realty Corp. REALTORS®</td>\n",
       "    </tr>\n",
       "    <tr>\n",
       "      <th>1</th>\n",
       "      <td>Terri Lynn Brearey</td>\n",
       "      <td>1504 South Atlantic Ave.</td>\n",
       "      <td>New Smyrna Beach</td>\n",
       "      <td>FL</td>\n",
       "      <td>32169-3102</td>\n",
       "      <td>Agent</td>\n",
       "      <td>(386) 566-2282</td>\n",
       "      <td>(386) 428-7355</td>\n",
       "      <td>New Smyrna Beach Watson Realty Corp. REALTORS®</td>\n",
       "    </tr>\n",
       "    <tr>\n",
       "      <th>2</th>\n",
       "      <td>Pamela Burkard</td>\n",
       "      <td>1504 South Atlantic Ave.</td>\n",
       "      <td>New Smyrna Beach</td>\n",
       "      <td>FL</td>\n",
       "      <td>32169-3102</td>\n",
       "      <td>Agent</td>\n",
       "      <td>(386) 846-2923</td>\n",
       "      <td>(386) 428-7355</td>\n",
       "      <td>New Smyrna Beach Watson Realty Corp. REALTORS®</td>\n",
       "    </tr>\n",
       "    <tr>\n",
       "      <th>3</th>\n",
       "      <td>Jeanette Camerden</td>\n",
       "      <td>1504 South Atlantic Ave.</td>\n",
       "      <td>New Smyrna Beach</td>\n",
       "      <td>FL</td>\n",
       "      <td>32169-3102</td>\n",
       "      <td>Agent</td>\n",
       "      <td>(386) 314-1023</td>\n",
       "      <td>(386) 428-7355</td>\n",
       "      <td>New Smyrna Beach Watson Realty Corp. REALTORS®</td>\n",
       "    </tr>\n",
       "    <tr>\n",
       "      <th>4</th>\n",
       "      <td>Carla Cottrell</td>\n",
       "      <td>1504 South Atlantic Ave.</td>\n",
       "      <td>New Smyrna Beach</td>\n",
       "      <td>FL</td>\n",
       "      <td>32169-3102</td>\n",
       "      <td>Agent</td>\n",
       "      <td>(386) 453-4912</td>\n",
       "      <td>(386) 428-7355</td>\n",
       "      <td>New Smyrna Beach Watson Realty Corp. REALTORS®</td>\n",
       "    </tr>\n",
       "  </tbody>\n",
       "</table>\n",
       "</div>"
      ],
      "text/plain": [
       "                  Name                       Add              city state  \\\n",
       "0       Patsy Bradley   1504 South Atlantic Ave.  New Smyrna Beach    FL   \n",
       "1  Terri Lynn Brearey   1504 South Atlantic Ave.  New Smyrna Beach    FL   \n",
       "2      Pamela Burkard   1504 South Atlantic Ave.  New Smyrna Beach    FL   \n",
       "3   Jeanette Camerden   1504 South Atlantic Ave.  New Smyrna Beach    FL   \n",
       "4      Carla Cottrell   1504 South Atlantic Ave.  New Smyrna Beach    FL   \n",
       "\n",
       "          zip  Agent          Mobile   Office number  \\\n",
       "0  32169-3102  Agent  (386) 689-4849  (386) 428-7355   \n",
       "1  32169-3102  Agent  (386) 566-2282  (386) 428-7355   \n",
       "2  32169-3102  Agent  (386) 846-2923  (386) 428-7355   \n",
       "3  32169-3102  Agent  (386) 314-1023  (386) 428-7355   \n",
       "4  32169-3102  Agent  (386) 453-4912  (386) 428-7355   \n",
       "\n",
       "                                      Office Name  \n",
       "0  New Smyrna Beach Watson Realty Corp. REALTORS®  \n",
       "1  New Smyrna Beach Watson Realty Corp. REALTORS®  \n",
       "2  New Smyrna Beach Watson Realty Corp. REALTORS®  \n",
       "3  New Smyrna Beach Watson Realty Corp. REALTORS®  \n",
       "4  New Smyrna Beach Watson Realty Corp. REALTORS®  "
      ]
     },
     "execution_count": 49,
     "metadata": {},
     "output_type": "execute_result"
    }
   ],
   "source": [
    "data = pd.DataFrame({\n",
    "'Name': Name,\n",
    "'Add': '1504 South Atlantic Ave.',\n",
    "'city': 'New Smyrna Beach',\n",
    "'state':'FL',\n",
    "'zip':'32169-3102',\n",
    "'Agent': 'Agent',\n",
    "'Mobile': Number,\n",
    "'Office number': '(386) 428-7355',\n",
    "'Office Name': 'New Smyrna Beach Watson Realty Corp. REALTORS®',})\n",
    "data.head()"
   ]
  },
  {
   "cell_type": "code",
   "execution_count": 50,
   "metadata": {},
   "outputs": [],
   "source": [
    "data.to_csv('New Smyrna Beach Watson Realty Corp. REALTORS®.csv', index  = False)"
   ]
  },
  {
   "cell_type": "markdown",
   "metadata": {},
   "source": [
    "\n",
    "\n",
    "\n",
    "\n"
   ]
  },
  {
   "cell_type": "markdown",
   "metadata": {},
   "source": [
    "# Better Properties"
   ]
  },
  {
   "cell_type": "code",
   "execution_count": 3,
   "metadata": {},
   "outputs": [],
   "source": [
    "soup=BeautifulSoup(driver.page_source,\"html.parser\")"
   ]
  },
  {
   "cell_type": "code",
   "execution_count": 8,
   "metadata": {},
   "outputs": [],
   "source": [
    "Name=[]\n",
    "Number=[]\n",
    "for i in soup.findAll('div',{'class':\"agentbox\"}):\n",
    "    Name.append(i.find('div',{'class':\"agentname\"}).text.strip())\n",
    "    Number.append(i.find('span').text.strip())"
   ]
  },
  {
   "cell_type": "code",
   "execution_count": 9,
   "metadata": {},
   "outputs": [
    {
     "name": "stdout",
     "output_type": "stream",
     "text": [
      "49\n",
      "49\n"
     ]
    }
   ],
   "source": [
    "print(len(Name))\n",
    "print(len(Number))"
   ]
  },
  {
   "cell_type": "code",
   "execution_count": 11,
   "metadata": {},
   "outputs": [
    {
     "data": {
      "text/html": [
       "<div>\n",
       "<style scoped>\n",
       "    .dataframe tbody tr th:only-of-type {\n",
       "        vertical-align: middle;\n",
       "    }\n",
       "\n",
       "    .dataframe tbody tr th {\n",
       "        vertical-align: top;\n",
       "    }\n",
       "\n",
       "    .dataframe thead th {\n",
       "        text-align: right;\n",
       "    }\n",
       "</style>\n",
       "<table border=\"1\" class=\"dataframe\">\n",
       "  <thead>\n",
       "    <tr style=\"text-align: right;\">\n",
       "      <th></th>\n",
       "      <th>Name</th>\n",
       "      <th>Add</th>\n",
       "      <th>city</th>\n",
       "      <th>state</th>\n",
       "      <th>zip</th>\n",
       "      <th>Agent</th>\n",
       "      <th>Mobile</th>\n",
       "      <th>Office number</th>\n",
       "      <th>Office Name</th>\n",
       "    </tr>\n",
       "  </thead>\n",
       "  <tbody>\n",
       "    <tr>\n",
       "      <th>0</th>\n",
       "      <td>Amber Langford</td>\n",
       "      <td>26569 Lindvog Road NE</td>\n",
       "      <td>Bremerton</td>\n",
       "      <td>WA</td>\n",
       "      <td>98312</td>\n",
       "      <td>Agent</td>\n",
       "      <td>6192497354: 619-249-7354</td>\n",
       "      <td>360-479-6700</td>\n",
       "      <td>Better Properties Kitsap</td>\n",
       "    </tr>\n",
       "    <tr>\n",
       "      <th>1</th>\n",
       "      <td>Amy Lou McIntyre</td>\n",
       "      <td>26569 Lindvog Road NE</td>\n",
       "      <td>Bremerton</td>\n",
       "      <td>WA</td>\n",
       "      <td>98312</td>\n",
       "      <td>Agent</td>\n",
       "      <td>Cell: 360-979-7656</td>\n",
       "      <td>360-479-6700</td>\n",
       "      <td>Better Properties Kitsap</td>\n",
       "    </tr>\n",
       "    <tr>\n",
       "      <th>2</th>\n",
       "      <td>Beverly French</td>\n",
       "      <td>26569 Lindvog Road NE</td>\n",
       "      <td>Bremerton</td>\n",
       "      <td>WA</td>\n",
       "      <td>98312</td>\n",
       "      <td>Agent</td>\n",
       "      <td>Mobile: 360-710-7151</td>\n",
       "      <td>360-479-6700</td>\n",
       "      <td>Better Properties Kitsap</td>\n",
       "    </tr>\n",
       "    <tr>\n",
       "      <th>3</th>\n",
       "      <td>Bob Montecalvo</td>\n",
       "      <td>26569 Lindvog Road NE</td>\n",
       "      <td>Bremerton</td>\n",
       "      <td>WA</td>\n",
       "      <td>98312</td>\n",
       "      <td>Agent</td>\n",
       "      <td>Mobile: 360-434-5779</td>\n",
       "      <td>360-479-6700</td>\n",
       "      <td>Better Properties Kitsap</td>\n",
       "    </tr>\n",
       "    <tr>\n",
       "      <th>4</th>\n",
       "      <td>Brent Budd</td>\n",
       "      <td>26569 Lindvog Road NE</td>\n",
       "      <td>Bremerton</td>\n",
       "      <td>WA</td>\n",
       "      <td>98312</td>\n",
       "      <td>Agent</td>\n",
       "      <td>Cell: 360-471-4646 Call or Text.</td>\n",
       "      <td>360-479-6700</td>\n",
       "      <td>Better Properties Kitsap</td>\n",
       "    </tr>\n",
       "  </tbody>\n",
       "</table>\n",
       "</div>"
      ],
      "text/plain": [
       "               Name                    Add       city state    zip  Agent  \\\n",
       "0    Amber Langford  26569 Lindvog Road NE  Bremerton    WA  98312  Agent   \n",
       "1  Amy Lou McIntyre  26569 Lindvog Road NE  Bremerton    WA  98312  Agent   \n",
       "2    Beverly French  26569 Lindvog Road NE  Bremerton    WA  98312  Agent   \n",
       "3    Bob Montecalvo  26569 Lindvog Road NE  Bremerton    WA  98312  Agent   \n",
       "4        Brent Budd  26569 Lindvog Road NE  Bremerton    WA  98312  Agent   \n",
       "\n",
       "                             Mobile Office number               Office Name  \n",
       "0          6192497354: 619-249-7354  360-479-6700  Better Properties Kitsap  \n",
       "1                Cell: 360-979-7656  360-479-6700  Better Properties Kitsap  \n",
       "2              Mobile: 360-710-7151  360-479-6700  Better Properties Kitsap  \n",
       "3              Mobile: 360-434-5779  360-479-6700  Better Properties Kitsap  \n",
       "4  Cell: 360-471-4646 Call or Text.  360-479-6700  Better Properties Kitsap  "
      ]
     },
     "execution_count": 11,
     "metadata": {},
     "output_type": "execute_result"
    }
   ],
   "source": [
    "data = pd.DataFrame({\n",
    "'Name': Name,\n",
    "'Add': '26569 Lindvog Road NE',\n",
    "'city': 'Bremerton',\n",
    "'state':'WA',\n",
    "'zip':'98312',\n",
    "'Agent': 'Agent',\n",
    "'Mobile': Number,\n",
    "'Office number': '360-479-6700',\n",
    "'Office Name': 'Better Properties Kitsap'})\n",
    "data.head()"
   ]
  },
  {
   "cell_type": "code",
   "execution_count": 12,
   "metadata": {},
   "outputs": [],
   "source": [
    "data.to_csv('Better Properties Kitsap.csv', index  = False)"
   ]
  },
  {
   "cell_type": "code",
   "execution_count": null,
   "metadata": {},
   "outputs": [],
   "source": []
  },
  {
   "cell_type": "code",
   "execution_count": null,
   "metadata": {},
   "outputs": [],
   "source": []
  },
  {
   "cell_type": "code",
   "execution_count": null,
   "metadata": {},
   "outputs": [],
   "source": []
  },
  {
   "cell_type": "code",
   "execution_count": null,
   "metadata": {},
   "outputs": [],
   "source": []
  },
  {
   "cell_type": "code",
   "execution_count": null,
   "metadata": {},
   "outputs": [],
   "source": []
  },
  {
   "cell_type": "markdown",
   "metadata": {},
   "source": [
    "# windermere"
   ]
  },
  {
   "cell_type": "code",
   "execution_count": 3,
   "metadata": {},
   "outputs": [],
   "source": []
  },
  {
   "cell_type": "code",
   "execution_count": 57,
   "metadata": {},
   "outputs": [],
   "source": [
    "Name=[]\n",
    "Title=[]\n",
    "Number=[]\n",
    "soup=BeautifulSoup(driver.page_source,\"html.parser\")\n",
    "for i in soup.findAll('div',{'class':\"aos-agent-meta\"}):\n",
    "    Name.append(i.h4.text.strip())\n",
    "    p=i.findAll('p')\n",
    "    try:\n",
    "        Number.append(p[3].text.replace(' ','').replace('\\n','').replace('Office:(360) 297-2661',''))\n",
    "    except:\n",
    "        Number.append(p[2].text.replace(' ','').replace('\\n','').replace('Office:(360) 297-2661',''))\n",
    "    Title.append(p[2].text.strip())    "
   ]
  },
  {
   "cell_type": "code",
   "execution_count": 58,
   "metadata": {},
   "outputs": [
    {
     "name": "stdout",
     "output_type": "stream",
     "text": [
      "25\n",
      "25\n"
     ]
    }
   ],
   "source": [
    "print(len(Name))\n",
    "print(len(Number))"
   ]
  },
  {
   "cell_type": "code",
   "execution_count": 48,
   "metadata": {},
   "outputs": [
    {
     "ename": "SyntaxError",
     "evalue": "invalid syntax (<ipython-input-48-ccc81172c4ea>, line 1)",
     "output_type": "error",
     "traceback": [
      "\u001b[1;36m  File \u001b[1;32m\"<ipython-input-48-ccc81172c4ea>\"\u001b[1;36m, line \u001b[1;32m1\u001b[0m\n\u001b[1;33m    18570 State Hwy 305\u001b[0m\n\u001b[1;37m              ^\u001b[0m\n\u001b[1;31mSyntaxError\u001b[0m\u001b[1;31m:\u001b[0m invalid syntax\n"
     ]
    }
   ],
   "source": [
    " 26569 Lindvog Road NE\n",
    "\n",
    "Kingston, WA 98346\n",
    "Get Directions\n",
    "Office (360) 297-2661"
   ]
  },
  {
   "cell_type": "code",
   "execution_count": 59,
   "metadata": {},
   "outputs": [
    {
     "data": {
      "text/html": [
       "<div>\n",
       "<style scoped>\n",
       "    .dataframe tbody tr th:only-of-type {\n",
       "        vertical-align: middle;\n",
       "    }\n",
       "\n",
       "    .dataframe tbody tr th {\n",
       "        vertical-align: top;\n",
       "    }\n",
       "\n",
       "    .dataframe thead th {\n",
       "        text-align: right;\n",
       "    }\n",
       "</style>\n",
       "<table border=\"1\" class=\"dataframe\">\n",
       "  <thead>\n",
       "    <tr style=\"text-align: right;\">\n",
       "      <th></th>\n",
       "      <th>Name</th>\n",
       "      <th>Add</th>\n",
       "      <th>city</th>\n",
       "      <th>state</th>\n",
       "      <th>zip</th>\n",
       "      <th>Agent</th>\n",
       "      <th>Mobile</th>\n",
       "      <th>Office number</th>\n",
       "      <th>Office Name</th>\n",
       "    </tr>\n",
       "  </thead>\n",
       "  <tbody>\n",
       "    <tr>\n",
       "      <th>0</th>\n",
       "      <td>Carter Dotson</td>\n",
       "      <td>26569 Lindvog Road NE</td>\n",
       "      <td>Kingston</td>\n",
       "      <td>WA</td>\n",
       "      <td>98346</td>\n",
       "      <td>OWNER, DB</td>\n",
       "      <td>Mobile:(206)291-4358Office:(206)842-5626</td>\n",
       "      <td>(360) 297-2661</td>\n",
       "      <td>Windermere Real Estate/West Sound, Inc.</td>\n",
       "    </tr>\n",
       "    <tr>\n",
       "      <th>1</th>\n",
       "      <td>Dave Muller</td>\n",
       "      <td>26569 Lindvog Road NE</td>\n",
       "      <td>Kingston</td>\n",
       "      <td>WA</td>\n",
       "      <td>98346</td>\n",
       "      <td>Licensed Assistant</td>\n",
       "      <td>Mobile:(360)620-4299Office:(360)297-2661</td>\n",
       "      <td>(360) 297-2661</td>\n",
       "      <td>Windermere Real Estate/West Sound, Inc.</td>\n",
       "    </tr>\n",
       "    <tr>\n",
       "      <th>2</th>\n",
       "      <td>Catherine Arlen</td>\n",
       "      <td>26569 Lindvog Road NE</td>\n",
       "      <td>Kingston</td>\n",
       "      <td>WA</td>\n",
       "      <td>98346</td>\n",
       "      <td>BROKER</td>\n",
       "      <td>Mobile:(360)340-8186Office:(360)297-2661</td>\n",
       "      <td>(360) 297-2661</td>\n",
       "      <td>Windermere Real Estate/West Sound, Inc.</td>\n",
       "    </tr>\n",
       "    <tr>\n",
       "      <th>3</th>\n",
       "      <td>Jessica Garrett</td>\n",
       "      <td>26569 Lindvog Road NE</td>\n",
       "      <td>Kingston</td>\n",
       "      <td>WA</td>\n",
       "      <td>98346</td>\n",
       "      <td>BROKER</td>\n",
       "      <td>Mobile:(360)204-8090Office:(360)297-2661</td>\n",
       "      <td>(360) 297-2661</td>\n",
       "      <td>Windermere Real Estate/West Sound, Inc.</td>\n",
       "    </tr>\n",
       "    <tr>\n",
       "      <th>4</th>\n",
       "      <td>Debora Hobbs</td>\n",
       "      <td>26569 Lindvog Road NE</td>\n",
       "      <td>Kingston</td>\n",
       "      <td>WA</td>\n",
       "      <td>98346</td>\n",
       "      <td></td>\n",
       "      <td>Mobile:(425)478-2425Office:(360)297-2661</td>\n",
       "      <td>(360) 297-2661</td>\n",
       "      <td>Windermere Real Estate/West Sound, Inc.</td>\n",
       "    </tr>\n",
       "    <tr>\n",
       "      <th>5</th>\n",
       "      <td>Lorna Muller</td>\n",
       "      <td>26569 Lindvog Road NE</td>\n",
       "      <td>Kingston</td>\n",
       "      <td>WA</td>\n",
       "      <td>98346</td>\n",
       "      <td>Broker, ASP</td>\n",
       "      <td>Mobile:(360)620-3842Office:(360)297-2661</td>\n",
       "      <td>(360) 297-2661</td>\n",
       "      <td>Windermere Real Estate/West Sound, Inc.</td>\n",
       "    </tr>\n",
       "    <tr>\n",
       "      <th>6</th>\n",
       "      <td>Kate  Waag</td>\n",
       "      <td>26569 Lindvog Road NE</td>\n",
       "      <td>Kingston</td>\n",
       "      <td>WA</td>\n",
       "      <td>98346</td>\n",
       "      <td></td>\n",
       "      <td>Office:(360)297-2661</td>\n",
       "      <td>(360) 297-2661</td>\n",
       "      <td>Windermere Real Estate/West Sound, Inc.</td>\n",
       "    </tr>\n",
       "    <tr>\n",
       "      <th>7</th>\n",
       "      <td>Tori Dotson</td>\n",
       "      <td>26569 Lindvog Road NE</td>\n",
       "      <td>Kingston</td>\n",
       "      <td>WA</td>\n",
       "      <td>98346</td>\n",
       "      <td></td>\n",
       "      <td>Mobile:(206)295-1298Office:(360)516-6243</td>\n",
       "      <td>(360) 297-2661</td>\n",
       "      <td>Windermere Real Estate/West Sound, Inc.</td>\n",
       "    </tr>\n",
       "    <tr>\n",
       "      <th>8</th>\n",
       "      <td>Brittany Vander Pol</td>\n",
       "      <td>26569 Lindvog Road NE</td>\n",
       "      <td>Kingston</td>\n",
       "      <td>WA</td>\n",
       "      <td>98346</td>\n",
       "      <td>Office Manager,  IC,  AC</td>\n",
       "      <td>Mobile:(360)297-2661Office:(360)297-2661</td>\n",
       "      <td>(360) 297-2661</td>\n",
       "      <td>Windermere Real Estate/West Sound, Inc.</td>\n",
       "    </tr>\n",
       "    <tr>\n",
       "      <th>9</th>\n",
       "      <td>Michelle Cook</td>\n",
       "      <td>26569 Lindvog Road NE</td>\n",
       "      <td>Kingston</td>\n",
       "      <td>WA</td>\n",
       "      <td>98346</td>\n",
       "      <td></td>\n",
       "      <td>Direct:(206)351-4260Mobile:(206)351-4260Office...</td>\n",
       "      <td>(360) 297-2661</td>\n",
       "      <td>Windermere Real Estate/West Sound, Inc.</td>\n",
       "    </tr>\n",
       "    <tr>\n",
       "      <th>10</th>\n",
       "      <td>Ed Goodwin</td>\n",
       "      <td>26569 Lindvog Road NE</td>\n",
       "      <td>Kingston</td>\n",
       "      <td>WA</td>\n",
       "      <td>98346</td>\n",
       "      <td>Broker</td>\n",
       "      <td>Direct:(360)297-2661Mobile:(856)466-4631Office...</td>\n",
       "      <td>(360) 297-2661</td>\n",
       "      <td>Windermere Real Estate/West Sound, Inc.</td>\n",
       "    </tr>\n",
       "    <tr>\n",
       "      <th>11</th>\n",
       "      <td>Jennifer McKinstry-Dean</td>\n",
       "      <td>26569 Lindvog Road NE</td>\n",
       "      <td>Kingston</td>\n",
       "      <td>WA</td>\n",
       "      <td>98346</td>\n",
       "      <td>Transaction Coordinator to Catherine Arlen</td>\n",
       "      <td>Mobile:(360)297-2661Office:(360)297-2661</td>\n",
       "      <td>(360) 297-2661</td>\n",
       "      <td>Windermere Real Estate/West Sound, Inc.</td>\n",
       "    </tr>\n",
       "    <tr>\n",
       "      <th>12</th>\n",
       "      <td>Kathy Sluys</td>\n",
       "      <td>26569 Lindvog Road NE</td>\n",
       "      <td>Kingston</td>\n",
       "      <td>WA</td>\n",
       "      <td>98346</td>\n",
       "      <td></td>\n",
       "      <td>Direct:(360)536-5563Mobile:(360)536-5563Office...</td>\n",
       "      <td>(360) 297-2661</td>\n",
       "      <td>Windermere Real Estate/West Sound, Inc.</td>\n",
       "    </tr>\n",
       "    <tr>\n",
       "      <th>13</th>\n",
       "      <td>Jet Woelke</td>\n",
       "      <td>26569 Lindvog Road NE</td>\n",
       "      <td>Kingston</td>\n",
       "      <td>WA</td>\n",
       "      <td>98346</td>\n",
       "      <td>ABR</td>\n",
       "      <td>Mobile:(360)271-7348Office:(360)297-2661</td>\n",
       "      <td>(360) 297-2661</td>\n",
       "      <td>Windermere Real Estate/West Sound, Inc.</td>\n",
       "    </tr>\n",
       "    <tr>\n",
       "      <th>14</th>\n",
       "      <td>Scott Anderson</td>\n",
       "      <td>26569 Lindvog Road NE</td>\n",
       "      <td>Kingston</td>\n",
       "      <td>WA</td>\n",
       "      <td>98346</td>\n",
       "      <td>Broker, IMS, SRES</td>\n",
       "      <td>Mobile:(360)536-2048Office:(360)297-2661</td>\n",
       "      <td>(360) 297-2661</td>\n",
       "      <td>Windermere Real Estate/West Sound, Inc.</td>\n",
       "    </tr>\n",
       "    <tr>\n",
       "      <th>15</th>\n",
       "      <td>Abby Dukes</td>\n",
       "      <td>26569 Lindvog Road NE</td>\n",
       "      <td>Kingston</td>\n",
       "      <td>WA</td>\n",
       "      <td>98346</td>\n",
       "      <td></td>\n",
       "      <td>Direct:(360)297-2661Mobile:(360)930-1960Office...</td>\n",
       "      <td>(360) 297-2661</td>\n",
       "      <td>Windermere Real Estate/West Sound, Inc.</td>\n",
       "    </tr>\n",
       "    <tr>\n",
       "      <th>16</th>\n",
       "      <td>Doug Hallock</td>\n",
       "      <td>26569 Lindvog Road NE</td>\n",
       "      <td>Kingston</td>\n",
       "      <td>WA</td>\n",
       "      <td>98346</td>\n",
       "      <td>Managing Broker</td>\n",
       "      <td>Mobile:(360)271-1315Office:(360)297-2661</td>\n",
       "      <td>(360) 297-2661</td>\n",
       "      <td>Windermere Real Estate/West Sound, Inc.</td>\n",
       "    </tr>\n",
       "    <tr>\n",
       "      <th>17</th>\n",
       "      <td>Pat Miller</td>\n",
       "      <td>26569 Lindvog Road NE</td>\n",
       "      <td>Kingston</td>\n",
       "      <td>WA</td>\n",
       "      <td>98346</td>\n",
       "      <td>Managing Broker, GRI, WFT</td>\n",
       "      <td>Mobile:(360)509-2385Office:(360)297-2661</td>\n",
       "      <td>(360) 297-2661</td>\n",
       "      <td>Windermere Real Estate/West Sound, Inc.</td>\n",
       "    </tr>\n",
       "    <tr>\n",
       "      <th>18</th>\n",
       "      <td>Steve Smaaladen</td>\n",
       "      <td>26569 Lindvog Road NE</td>\n",
       "      <td>Kingston</td>\n",
       "      <td>WA</td>\n",
       "      <td>98346</td>\n",
       "      <td></td>\n",
       "      <td>Mobile:(360)710-8800Office:(360)297-2661</td>\n",
       "      <td>(360) 297-2661</td>\n",
       "      <td>Windermere Real Estate/West Sound, Inc.</td>\n",
       "    </tr>\n",
       "    <tr>\n",
       "      <th>19</th>\n",
       "      <td>Lindsay Clark</td>\n",
       "      <td>26569 Lindvog Road NE</td>\n",
       "      <td>Kingston</td>\n",
       "      <td>WA</td>\n",
       "      <td>98346</td>\n",
       "      <td></td>\n",
       "      <td>Office:(360)297-2661</td>\n",
       "      <td>(360) 297-2661</td>\n",
       "      <td>Windermere Real Estate/West Sound, Inc.</td>\n",
       "    </tr>\n",
       "    <tr>\n",
       "      <th>20</th>\n",
       "      <td>Stephanie  Anderson</td>\n",
       "      <td>26569 Lindvog Road NE</td>\n",
       "      <td>Kingston</td>\n",
       "      <td>WA</td>\n",
       "      <td>98346</td>\n",
       "      <td></td>\n",
       "      <td>Direct:(360)271-2456Mobile:(360)271-2456Alt:(3...</td>\n",
       "      <td>(360) 297-2661</td>\n",
       "      <td>Windermere Real Estate/West Sound, Inc.</td>\n",
       "    </tr>\n",
       "    <tr>\n",
       "      <th>21</th>\n",
       "      <td>Catrice Elms</td>\n",
       "      <td>26569 Lindvog Road NE</td>\n",
       "      <td>Kingston</td>\n",
       "      <td>WA</td>\n",
       "      <td>98346</td>\n",
       "      <td>Broker</td>\n",
       "      <td>Mobile:(360)509-4784Office:(360)297-2661</td>\n",
       "      <td>(360) 297-2661</td>\n",
       "      <td>Windermere Real Estate/West Sound, Inc.</td>\n",
       "    </tr>\n",
       "    <tr>\n",
       "      <th>22</th>\n",
       "      <td>Cammie Hamal</td>\n",
       "      <td>26569 Lindvog Road NE</td>\n",
       "      <td>Kingston</td>\n",
       "      <td>WA</td>\n",
       "      <td>98346</td>\n",
       "      <td>LAA</td>\n",
       "      <td>Direct:(360)297-2661Office:(360)297-2661</td>\n",
       "      <td>(360) 297-2661</td>\n",
       "      <td>Windermere Real Estate/West Sound, Inc.</td>\n",
       "    </tr>\n",
       "    <tr>\n",
       "      <th>23</th>\n",
       "      <td>Cathy Morris</td>\n",
       "      <td>26569 Lindvog Road NE</td>\n",
       "      <td>Kingston</td>\n",
       "      <td>WA</td>\n",
       "      <td>98346</td>\n",
       "      <td>CLHMS, GRI, SRES</td>\n",
       "      <td>Mobile:(360)271-8448Office:(360)297-2661</td>\n",
       "      <td>(360) 297-2661</td>\n",
       "      <td>Windermere Real Estate/West Sound, Inc.</td>\n",
       "    </tr>\n",
       "    <tr>\n",
       "      <th>24</th>\n",
       "      <td>Christine Todd</td>\n",
       "      <td>26569 Lindvog Road NE</td>\n",
       "      <td>Kingston</td>\n",
       "      <td>WA</td>\n",
       "      <td>98346</td>\n",
       "      <td>Broker</td>\n",
       "      <td>Mobile:(360)509-6319Office:(360)297-2661</td>\n",
       "      <td>(360) 297-2661</td>\n",
       "      <td>Windermere Real Estate/West Sound, Inc.</td>\n",
       "    </tr>\n",
       "  </tbody>\n",
       "</table>\n",
       "</div>"
      ],
      "text/plain": [
       "                       Name                    Add      city state    zip  \\\n",
       "0             Carter Dotson  26569 Lindvog Road NE  Kingston    WA  98346   \n",
       "1               Dave Muller  26569 Lindvog Road NE  Kingston    WA  98346   \n",
       "2           Catherine Arlen  26569 Lindvog Road NE  Kingston    WA  98346   \n",
       "3           Jessica Garrett  26569 Lindvog Road NE  Kingston    WA  98346   \n",
       "4              Debora Hobbs  26569 Lindvog Road NE  Kingston    WA  98346   \n",
       "5              Lorna Muller  26569 Lindvog Road NE  Kingston    WA  98346   \n",
       "6                Kate  Waag  26569 Lindvog Road NE  Kingston    WA  98346   \n",
       "7               Tori Dotson  26569 Lindvog Road NE  Kingston    WA  98346   \n",
       "8       Brittany Vander Pol  26569 Lindvog Road NE  Kingston    WA  98346   \n",
       "9             Michelle Cook  26569 Lindvog Road NE  Kingston    WA  98346   \n",
       "10               Ed Goodwin  26569 Lindvog Road NE  Kingston    WA  98346   \n",
       "11  Jennifer McKinstry-Dean  26569 Lindvog Road NE  Kingston    WA  98346   \n",
       "12              Kathy Sluys  26569 Lindvog Road NE  Kingston    WA  98346   \n",
       "13               Jet Woelke  26569 Lindvog Road NE  Kingston    WA  98346   \n",
       "14           Scott Anderson  26569 Lindvog Road NE  Kingston    WA  98346   \n",
       "15               Abby Dukes  26569 Lindvog Road NE  Kingston    WA  98346   \n",
       "16             Doug Hallock  26569 Lindvog Road NE  Kingston    WA  98346   \n",
       "17               Pat Miller  26569 Lindvog Road NE  Kingston    WA  98346   \n",
       "18          Steve Smaaladen  26569 Lindvog Road NE  Kingston    WA  98346   \n",
       "19            Lindsay Clark  26569 Lindvog Road NE  Kingston    WA  98346   \n",
       "20      Stephanie  Anderson  26569 Lindvog Road NE  Kingston    WA  98346   \n",
       "21             Catrice Elms  26569 Lindvog Road NE  Kingston    WA  98346   \n",
       "22             Cammie Hamal  26569 Lindvog Road NE  Kingston    WA  98346   \n",
       "23             Cathy Morris  26569 Lindvog Road NE  Kingston    WA  98346   \n",
       "24           Christine Todd  26569 Lindvog Road NE  Kingston    WA  98346   \n",
       "\n",
       "                                         Agent  \\\n",
       "0                                    OWNER, DB   \n",
       "1                           Licensed Assistant   \n",
       "2                                       BROKER   \n",
       "3                                       BROKER   \n",
       "4                                                \n",
       "5                                  Broker, ASP   \n",
       "6                                                \n",
       "7                                                \n",
       "8                     Office Manager,  IC,  AC   \n",
       "9                                                \n",
       "10                                      Broker   \n",
       "11  Transaction Coordinator to Catherine Arlen   \n",
       "12                                               \n",
       "13                                         ABR   \n",
       "14                           Broker, IMS, SRES   \n",
       "15                                               \n",
       "16                             Managing Broker   \n",
       "17                   Managing Broker, GRI, WFT   \n",
       "18                                               \n",
       "19                                               \n",
       "20                                               \n",
       "21                                      Broker   \n",
       "22                                         LAA   \n",
       "23                            CLHMS, GRI, SRES   \n",
       "24                                      Broker   \n",
       "\n",
       "                                               Mobile   Office number  \\\n",
       "0            Mobile:(206)291-4358Office:(206)842-5626  (360) 297-2661   \n",
       "1            Mobile:(360)620-4299Office:(360)297-2661  (360) 297-2661   \n",
       "2            Mobile:(360)340-8186Office:(360)297-2661  (360) 297-2661   \n",
       "3            Mobile:(360)204-8090Office:(360)297-2661  (360) 297-2661   \n",
       "4            Mobile:(425)478-2425Office:(360)297-2661  (360) 297-2661   \n",
       "5            Mobile:(360)620-3842Office:(360)297-2661  (360) 297-2661   \n",
       "6                                Office:(360)297-2661  (360) 297-2661   \n",
       "7            Mobile:(206)295-1298Office:(360)516-6243  (360) 297-2661   \n",
       "8            Mobile:(360)297-2661Office:(360)297-2661  (360) 297-2661   \n",
       "9   Direct:(206)351-4260Mobile:(206)351-4260Office...  (360) 297-2661   \n",
       "10  Direct:(360)297-2661Mobile:(856)466-4631Office...  (360) 297-2661   \n",
       "11           Mobile:(360)297-2661Office:(360)297-2661  (360) 297-2661   \n",
       "12  Direct:(360)536-5563Mobile:(360)536-5563Office...  (360) 297-2661   \n",
       "13           Mobile:(360)271-7348Office:(360)297-2661  (360) 297-2661   \n",
       "14           Mobile:(360)536-2048Office:(360)297-2661  (360) 297-2661   \n",
       "15  Direct:(360)297-2661Mobile:(360)930-1960Office...  (360) 297-2661   \n",
       "16           Mobile:(360)271-1315Office:(360)297-2661  (360) 297-2661   \n",
       "17           Mobile:(360)509-2385Office:(360)297-2661  (360) 297-2661   \n",
       "18           Mobile:(360)710-8800Office:(360)297-2661  (360) 297-2661   \n",
       "19                               Office:(360)297-2661  (360) 297-2661   \n",
       "20  Direct:(360)271-2456Mobile:(360)271-2456Alt:(3...  (360) 297-2661   \n",
       "21           Mobile:(360)509-4784Office:(360)297-2661  (360) 297-2661   \n",
       "22           Direct:(360)297-2661Office:(360)297-2661  (360) 297-2661   \n",
       "23           Mobile:(360)271-8448Office:(360)297-2661  (360) 297-2661   \n",
       "24           Mobile:(360)509-6319Office:(360)297-2661  (360) 297-2661   \n",
       "\n",
       "                                Office Name  \n",
       "0   Windermere Real Estate/West Sound, Inc.  \n",
       "1   Windermere Real Estate/West Sound, Inc.  \n",
       "2   Windermere Real Estate/West Sound, Inc.  \n",
       "3   Windermere Real Estate/West Sound, Inc.  \n",
       "4   Windermere Real Estate/West Sound, Inc.  \n",
       "5   Windermere Real Estate/West Sound, Inc.  \n",
       "6   Windermere Real Estate/West Sound, Inc.  \n",
       "7   Windermere Real Estate/West Sound, Inc.  \n",
       "8   Windermere Real Estate/West Sound, Inc.  \n",
       "9   Windermere Real Estate/West Sound, Inc.  \n",
       "10  Windermere Real Estate/West Sound, Inc.  \n",
       "11  Windermere Real Estate/West Sound, Inc.  \n",
       "12  Windermere Real Estate/West Sound, Inc.  \n",
       "13  Windermere Real Estate/West Sound, Inc.  \n",
       "14  Windermere Real Estate/West Sound, Inc.  \n",
       "15  Windermere Real Estate/West Sound, Inc.  \n",
       "16  Windermere Real Estate/West Sound, Inc.  \n",
       "17  Windermere Real Estate/West Sound, Inc.  \n",
       "18  Windermere Real Estate/West Sound, Inc.  \n",
       "19  Windermere Real Estate/West Sound, Inc.  \n",
       "20  Windermere Real Estate/West Sound, Inc.  \n",
       "21  Windermere Real Estate/West Sound, Inc.  \n",
       "22  Windermere Real Estate/West Sound, Inc.  \n",
       "23  Windermere Real Estate/West Sound, Inc.  \n",
       "24  Windermere Real Estate/West Sound, Inc.  "
      ]
     },
     "execution_count": 59,
     "metadata": {},
     "output_type": "execute_result"
    }
   ],
   "source": [
    "data = pd.DataFrame({\n",
    "'Name': Name,\n",
    "'Add': '26569 Lindvog Road NE',\n",
    "'city': 'Kingston',\n",
    "'state':'WA',\n",
    "'zip':'98346',\n",
    "'Agent': Title,\n",
    "'Mobile': Number,\n",
    "'Office number': '(360) 297-2661',\n",
    "'Office Name': 'Windermere Real Estate/West Sound, Inc.'})\n",
    "data"
   ]
  },
  {
   "cell_type": "code",
   "execution_count": 60,
   "metadata": {},
   "outputs": [],
   "source": [
    "data.to_csv('Windermere Real Estatest Sound, Inc.csv', index  = False)"
   ]
  },
  {
   "cell_type": "code",
   "execution_count": null,
   "metadata": {},
   "outputs": [],
   "source": []
  },
  {
   "cell_type": "code",
   "execution_count": null,
   "metadata": {},
   "outputs": [],
   "source": []
  },
  {
   "cell_type": "code",
   "execution_count": null,
   "metadata": {},
   "outputs": [],
   "source": []
  },
  {
   "cell_type": "code",
   "execution_count": null,
   "metadata": {},
   "outputs": [],
   "source": []
  },
  {
   "cell_type": "code",
   "execution_count": null,
   "metadata": {},
   "outputs": [],
   "source": []
  },
  {
   "cell_type": "code",
   "execution_count": null,
   "metadata": {},
   "outputs": [],
   "source": []
  },
  {
   "cell_type": "markdown",
   "metadata": {},
   "source": [
    "# gardnerrealtors"
   ]
  },
  {
   "cell_type": "code",
   "execution_count": null,
   "metadata": {},
   "outputs": [],
   "source": [
    "Name=[]\n",
    "Number=[]\n",
    "soup=BeautifulSoup(driver.page_source,\"html.parser\")\n",
    "for i in soup.findAll('div',{'class':\"agent-info\"}):\n",
    "    Name.append(i.find('h5',{'class':\"letters-75 name\"}).text.strip())\n",
    "    try:\n",
    "        Number.append(i.find('span',{'class':\"lower col-sm-9\"}).text.strip())\n",
    "    except:\n",
    "        Number.append('Na')\n",
    "    "
   ]
  },
  {
   "cell_type": "code",
   "execution_count": null,
   "metadata": {},
   "outputs": [],
   "source": [
    "print(len(Name))\n",
    "print(len(Number))"
   ]
  },
  {
   "cell_type": "code",
   "execution_count": null,
   "metadata": {},
   "outputs": [],
   "source": [
    "data = pd.DataFrame({\n",
    "'Name': Name,\n",
    "'Add': '7934 Maple St.',\n",
    "'city': 'New Orleans',\n",
    "'state':'LA',\n",
    "'zip':'70118',\n",
    "\"empty\": ' ',\n",
    "'Agent': 'REALTOR',\n",
    "\"empty1\": ' ',\n",
    "'Mobile': Number,\n",
    "'Office number': '504.861.7575',\n",
    "\"empty2\": ' ',\n",
    "'Office Name': 'Gardnerrealtors Uptown',})\n",
    "data.tail()"
   ]
  },
  {
   "cell_type": "code",
   "execution_count": null,
   "metadata": {},
   "outputs": [],
   "source": [
    "data.to_csv('Gardnerrealtors Uptown.csv', index  = False)"
   ]
  },
  {
   "cell_type": "code",
   "execution_count": null,
   "metadata": {},
   "outputs": [],
   "source": []
  },
  {
   "cell_type": "code",
   "execution_count": null,
   "metadata": {},
   "outputs": [],
   "source": []
  },
  {
   "cell_type": "code",
   "execution_count": null,
   "metadata": {},
   "outputs": [],
   "source": []
  },
  {
   "cell_type": "code",
   "execution_count": null,
   "metadata": {},
   "outputs": [],
   "source": [
    "Office_Name=[]\n",
    "Name=[]\n",
    "Title=[]\n",
    "Office_Name=[]\n",
    "office_num=[]\n",
    "Number=[]\n",
    "numbackup=[]"
   ]
  },
  {
   "cell_type": "code",
   "execution_count": null,
   "metadata": {},
   "outputs": [],
   "source": [
    "soup=BeautifulSoup(driver.page_source,\"html.parser\")"
   ]
  },
  {
   "cell_type": "code",
   "execution_count": null,
   "metadata": {},
   "outputs": [],
   "source": [
    "for i in soup.findAll('h2',{'style':\"text-align: center; line-height: 1\"}):\n",
    "    Name.append(i.text)\n",
    "for j in soup.findAll('div',{'class':\"listing-box-content\"}):\n",
    "    x=j.findAll('a')\n",
    "    try:\n",
    "        Number.append(x[4].text)\n",
    "    except:\n",
    "        Number.append(\"NA\")"
   ]
  },
  {
   "cell_type": "code",
   "execution_count": null,
   "metadata": {},
   "outputs": [],
   "source": [
    "print(len(Name))\n",
    "print(len(Number))\n",
    "print(len(Title))"
   ]
  },
  {
   "cell_type": "code",
   "execution_count": null,
   "metadata": {},
   "outputs": [],
   "source": [
    "data = pd.DataFrame({\n",
    "'Name': Name,\n",
    "'Add': '33 Public Square',\n",
    "'city': 'Brecksville',\n",
    "'state':'OH',\n",
    "'zip':'44141',\n",
    "'Empty2':' ',\n",
    "'Agent': 'Agents',\n",
    "'Empty':' ',\n",
    "'Mobile': Number,\n",
    "'Office number': '440-482-8755',\n",
    "'Empty1':' ',\n",
    "'Office Name': 'Russell Real Estate Services - Brecksville',})\n",
    "data.tail()"
   ]
  },
  {
   "cell_type": "code",
   "execution_count": null,
   "metadata": {},
   "outputs": [],
   "source": [
    "data.to_csv('Russell Real Estate Services - Brecksville.csv', index  = False)"
   ]
  },
  {
   "cell_type": "markdown",
   "metadata": {},
   "source": [
    "## fmrealty"
   ]
  },
  {
   "cell_type": "code",
   "execution_count": null,
   "metadata": {},
   "outputs": [],
   "source": [
    "Links=[]\n",
    "soup=BeautifulSoup(driver.page_source,\"html.parser\")\n",
    "for i in soup.findAll('td',{'class':\"name\"}):\n",
    "    Links.append(i.a['href'])"
   ]
  },
  {
   "cell_type": "code",
   "execution_count": null,
   "metadata": {},
   "outputs": [],
   "source": [
    "Office_Name=[]\n",
    "Name=[]\n",
    "Title=[]\n",
    "Office_Name=[]\n",
    "office_num=[]\n",
    "Number=[]\n",
    "numbackup=[]"
   ]
  },
  {
   "cell_type": "code",
   "execution_count": null,
   "metadata": {},
   "outputs": [],
   "source": [
    "for url in Links:\n",
    "    driver.get('https://www.fmrealty.com'+url)\n",
    "    sleep(1)\n",
    "    soup=BeautifulSoup(driver.page_source,\"html.parser\")\n",
    "    try:\n",
    "        Name.append(soup.find('h3',{'class':\"agent-name\"}).text)\n",
    "        Title.append(soup.find('h4',{'class':\"agent-title\"}).text)\n",
    "        Number.append(soup.find('div',{'id':\"agent-details\"}).p.text.strip().replace('\\n',':').replace('Cell: ','').replace('Direct: ','').replace('Fax: ',''))\n",
    "    except:\n",
    "        Name.append('NA')\n",
    "        Title.append('NA')\n",
    "        Number.append('NA')"
   ]
  },
  {
   "cell_type": "code",
   "execution_count": null,
   "metadata": {},
   "outputs": [],
   "source": [
    "print(len(Name))\n",
    "print(len(Number))\n",
    "print(len(Title))"
   ]
  },
  {
   "cell_type": "code",
   "execution_count": null,
   "metadata": {},
   "outputs": [],
   "source": [
    "data = pd.DataFrame({\n",
    "'Name': Name,\n",
    "'Add': '27121 Center Ridge Road',\n",
    "'city': 'Cary',\n",
    "'state':'NC',\n",
    "'zip':'27519',\n",
    "'Empty':' ',\n",
    "'Agent': Title,\n",
    "'Email':' ',\n",
    "'Mobile': Number,\n",
    "'Office number': '(919) 469-6300',\n",
    "'Empty 1':' ',\n",
    "'Office Name': 'fmrealty Preston Sales Office'})\n",
    "data.head()"
   ]
  },
  {
   "cell_type": "code",
   "execution_count": null,
   "metadata": {},
   "outputs": [],
   "source": [
    "data.to_csv('fmrealty Preston Sales Office.csv', index  = False)"
   ]
  },
  {
   "cell_type": "markdown",
   "metadata": {},
   "source": [
    "## End"
   ]
  },
  {
   "cell_type": "markdown",
   "metadata": {},
   "source": [
    "## GREENRIDGE REALTY"
   ]
  },
  {
   "cell_type": "code",
   "execution_count": null,
   "metadata": {},
   "outputs": [],
   "source": []
  },
  {
   "cell_type": "code",
   "execution_count": null,
   "metadata": {},
   "outputs": [],
   "source": [
    "Name=[]\n",
    "Number=[]"
   ]
  },
  {
   "cell_type": "code",
   "execution_count": null,
   "metadata": {},
   "outputs": [],
   "source": [
    "soup=BeautifulSoup(driver.page_source,\"html.parser\")\n",
    "for i in soup.findAll('div',{'class':\"agent-info\"}):\n",
    "    Name.append(i.find('span',{'class':\"agent-name medium-text\"}).text.strip())\n",
    "    Number.append(i.find('a',{'class':\"non-link\"}).text)"
   ]
  },
  {
   "cell_type": "code",
   "execution_count": null,
   "metadata": {},
   "outputs": [],
   "source": [
    "print(len(Name))\n",
    "print(len(Number))\n",
    "print(Name[-1])"
   ]
  },
  {
   "cell_type": "code",
   "execution_count": null,
   "metadata": {},
   "outputs": [],
   "source": [
    "Number.remove('616-974-6982')"
   ]
  },
  {
   "cell_type": "code",
   "execution_count": null,
   "metadata": {},
   "outputs": [],
   "source": [
    "Name.remove('Courtney Thibeault')"
   ]
  },
  {
   "cell_type": "code",
   "execution_count": null,
   "metadata": {},
   "outputs": [],
   "source": [
    "data = pd.DataFrame({\n",
    "'Name': Name,\n",
    "'Add': '2450 Ruddiman Dr',\n",
    "'city': 'North Muskegon',\n",
    "'state':'MI',\n",
    "'zip':'49445',\n",
    "'Empty 1':' ',\n",
    "'Agent': 'Agent',\n",
    "'Empty 2':' ',\n",
    "'Mobile': Number,\n",
    "'Office number': '(231) 744-1626',\n",
    "'Empty 3':' ',\n",
    "'Office Name': 'GLOBAL RELOCATION SERVICES'})\n",
    "data"
   ]
  },
  {
   "cell_type": "code",
   "execution_count": null,
   "metadata": {},
   "outputs": [],
   "source": [
    "data.to_csv('RI real estate services.csv', index  = False)"
   ]
  },
  {
   "cell_type": "code",
   "execution_count": null,
   "metadata": {},
   "outputs": [],
   "source": []
  },
  {
   "cell_type": "code",
   "execution_count": null,
   "metadata": {},
   "outputs": [],
   "source": []
  },
  {
   "cell_type": "code",
   "execution_count": null,
   "metadata": {},
   "outputs": [],
   "source": [
    "soup=BeautifulSoup(driver.page_source,\"html.parser\")\n",
    "for agent in soup.findAll('div',{'class':\"entry-content\"}):\n",
    "    agent.findAll('p')\n",
    "    Name.append(agent.find('h3',{'class':\"staff-member-name\"}).text)\n",
    "    Title.append(agent.find('h4',{'class':\"staff-member-position\"}).text)\n",
    "    #num=agent.findAll('div',{'class':\"contact-info\"})\n",
    "    Number.append(agent.find('div',{'class':\"contact-info\"}).text.strip())"
   ]
  },
  {
   "cell_type": "code",
   "execution_count": null,
   "metadata": {},
   "outputs": [],
   "source": [
    "print(len(Links))\n",
    "print(Links[-1])"
   ]
  },
  {
   "cell_type": "code",
   "execution_count": null,
   "metadata": {},
   "outputs": [],
   "source": [
    "soup=BeautifulSoup(driver.page_source,\"html.parser\")"
   ]
  },
  {
   "cell_type": "code",
   "execution_count": null,
   "metadata": {},
   "outputs": [],
   "source": [
    "info=soup.find('div',{'class':\"agent-details vcard\"}).findAll('p')\n",
    "Title.append(info[0].text)\n",
    "Office_Num.append(info[1].text)\n",
    "Number.append(info[2].text)"
   ]
  },
  {
   "cell_type": "code",
   "execution_count": null,
   "metadata": {},
   "outputs": [],
   "source": [
    "for url in Links:\n",
    "    driver.get(url)x\n",
    "    sleep(1)\n",
    "    soup=BeautifulSoup(driver.page_source,\"html.parser\")\n",
    "    try:\n",
    "        Name.append(soup.find('h1',{'class':\"entry-title\"}).text)\n",
    "        info=soup.find('div',{'class':\"agent-details vcard\"}).findAll('p')\n",
    "        Title.append(info[0].text)\n",
    "        Office_Num.append(info[1].text)\n",
    "        Number.append(info[2].text)\n",
    "    except:\n",
    "        Name.append('NA')\n",
    "        info.append('NA')"
   ]
  },
  {
   "cell_type": "code",
   "execution_count": null,
   "metadata": {},
   "outputs": [],
   "source": [
    "print(len(Name))\n",
    "print(len(Number))\n",
    "print(len(Title))"
   ]
  },
  {
   "cell_type": "code",
   "execution_count": null,
   "metadata": {},
   "outputs": [],
   "source": [
    "data = pd.DataFrame({\n",
    "'Name': Name,\n",
    "'Add': '11980 NE 24th Street, Suite 210',\n",
    "'city': 'Bellevue',\n",
    "'state':'WA',\n",
    "'zip':'98005',\n",
    "'Empty 1':' ',\n",
    "'Agent': Title,\n",
    "'Empty 2':' ',\n",
    "'Mobile': Number,\n",
    "'Office number': '844.370.7700',\n",
    "'Empty 3':' ',\n",
    "'Office Name': 'caliberrealestate'})\n",
    "data.tail()"
   ]
  },
  {
   "cell_type": "code",
   "execution_count": null,
   "metadata": {},
   "outputs": [],
   "source": [
    "data.to_csv('caliberrealestate.csv', index  = False)"
   ]
  },
  {
   "cell_type": "code",
   "execution_count": null,
   "metadata": {},
   "outputs": [],
   "source": []
  },
  {
   "cell_type": "code",
   "execution_count": 13,
   "metadata": {},
   "outputs": [],
   "source": [
    "Links=[]\n",
    "Name=[]\n",
    "officename=[]\n",
    "Number=[]\n",
    "Add=[]\n",
    "city=[]\n",
    "State=[]\n",
    "zipcode=[]\n",
    "officenum=[]"
   ]
  },
  {
   "cell_type": "code",
   "execution_count": 17,
   "metadata": {},
   "outputs": [
    {
     "name": "stdout",
     "output_type": "stream",
     "text": [
      "https://www.realtor.com/realestateagents/lori-m-berry_san-antonio_tx_901706_441269571\n",
      "page2\n",
      "https://www.realtor.com/realestateagents/susan-gentry___50309_371799571\n",
      "page3\n",
      "https://www.realtor.com/realestateagents/norma-lira_san-antonio_tx_2143567_502894838\n",
      "page4\n",
      "https://www.realtor.com/realestateagents/misty-garbo_san-antonio_tx_2141200_715049571\n",
      "page5\n",
      "https://www.realtor.com/realestateagents/ruben-peña_san-antonio_tx_515072_054899571\n",
      "page6\n",
      "https://www.realtor.com/realestateagents/ryan-gonzales_san-antonio_tx_2034614_531849571\n",
      "page7\n",
      "https://www.realtor.com/realestateagents/mauricio-espino_san-antonio_tx_1818663_136259571\n",
      "page8\n",
      "https://www.realtor.com/realestateagents/yolanda-h.-barboza_san-antonio_tx_1729499_575359571\n",
      "page9\n",
      "https://www.realtor.com/realestateagents/lindsey-strickland___197369_320379571\n",
      "page10\n",
      "https://www.realtor.com/realestateagents/rhonda-howerton_san-antonio_tx_49530_956789571\n",
      "page11\n",
      "https://www.realtor.com/realestateagents/sue-massari-young_new-braunfels_tx_1081689_318979571\n",
      "page12\n",
      "https://www.realtor.com/realestateagents/sue-a.-johnson_san-antonio_tx_130071_713189571\n",
      "page13\n",
      "https://www.realtor.com/realestateagents/angelina-peel_san-antonio_tx_2214963_312824117\n",
      "page14\n",
      "https://www.realtor.com/realestateagents/michael-linnemann_killeen_tx_2270005_947994402\n",
      "page15\n",
      "https://www.realtor.com/realestateagents/robert-twaron_boerne_tx_2100333_139259571\n",
      "page16\n",
      "https://www.realtor.com/realestateagents/vicky-pineda,-ccim_laredo_tx_1174804_990794981\n",
      "page17\n",
      "https://www.realtor.com/realestateagents/jesus-m.-lomeli_austin_tx_3796161_002294002\n",
      "page18\n",
      "https://www.realtor.com/realestateagents/jaime-aguilar_san-antonio_tx_1610169_161949571\n",
      "page19\n",
      "https://www.realtor.com/realestateagents/marisol-marroquin,-agent_san-antonio_tx_1938332_803549571\n",
      "page20\n",
      "https://www.realtor.com/realestateagents/alyse-elayne-alonso_san-antonio_tx_1711232_069769571\n",
      "page21\n",
      "https://www.realtor.com/realestateagents/alejandro-perches_san-antonio_tx_1896917_051549571\n",
      "page22\n",
      "https://www.realtor.com/realestateagents/keith-campbell_mc-kinney_tx_2829378_758969412\n",
      "page23\n",
      "https://www.realtor.com/realestateagents/patricia-broyles_helotes_tx_63114_021799571\n",
      "page24\n",
      "https://www.realtor.com/realestateagents/sergio-i-gamboa_san-antonio_tx_1102115_120559571\n",
      "page25\n",
      "https://www.realtor.com/realestateagents/kim-lookabaugh_sunrisebea_tx_3644522_843784591\n",
      "page26\n",
      "https://www.realtor.com/realestateagents/liza-king_san-antonio_tx_206855_802579571\n",
      "page27\n",
      "https://www.realtor.com/realestateagents/sara-woolford---accredited-luxury-home___433844_524079571\n",
      "page28\n",
      "https://www.realtor.com/realestateagents/annie-marshall_san-antonio_tx_251007_933879571\n",
      "page29\n",
      "https://www.realtor.com/realestateagents/tomas-arredondo_san-antonio_tx_330189_218769571\n",
      "page30\n",
      "https://www.realtor.com/realestateagents/danae-sherrill_san-antonio_tx_3741328_253879571\n",
      "page31\n",
      "https://www.realtor.com/realestateagents/maryalice-ramirez_san-antonio_tx_570979_471269571\n",
      "page32\n",
      "https://www.realtor.com/realestateagents/yvonne-l-chapman_bulverde_tx_13348_340999571\n",
      "page33\n",
      "https://www.realtor.com/realestateagents/brad-larsen---larsen-properties_san-antonio_tx_182136_988779571\n",
      "page34\n",
      "https://www.realtor.com/realestateagents/clayton-zavisch_san-antonio_tx_399814_956669571\n",
      "page35\n",
      "https://www.realtor.com/realestateagents/celina-lopez_san-antonio_tx_3630221_573929571\n",
      "page36\n",
      "https://www.realtor.com/realestateagents/patricia-de-cordova_san-antonio_tx_167038_550489571\n",
      "page37\n",
      "https://www.realtor.com/realestateagents/briana-sopala_san-antonio_tx_1982075_814369073\n",
      "page38\n",
      "https://www.realtor.com/realestateagents/rodeana-reynolds_san-antonio_tx_179839_451679571\n",
      "page39\n",
      "https://www.realtor.com/realestateagents/luis-alonso_san-antonio_tx_2070270_417149571\n",
      "page40\n",
      "https://www.realtor.com/realestateagents/tracey-mcghee_san-antonio_tx_2746021_085639571\n",
      "page41\n",
      "https://www.realtor.com/realestateagents/susan-bylicki_san-antonio_tx_3102210_238539571\n",
      "page42\n",
      "https://www.realtor.com/realestateagents/adriana-santillan_san-antonio_tx_1627963_459849571\n",
      "page43\n",
      "https://www.realtor.com/realestateagents/forrest-greene_san-antonio_tx_3921906_854529571\n",
      "page44\n",
      "https://www.realtor.com/realestateagents/alfred-garcia_san-antonio_tx_1369209_659159571\n",
      "page45\n",
      "https://www.realtor.com/realestateagents/claudia--cervantes-abr,-clhms,-gri___2026372_539769571\n",
      "page46\n",
      "https://www.realtor.com/realestateagents/judy--dean_san-antonio_tx_3337545_870994571\n",
      "page47\n",
      "https://www.realtor.com/realestateagents/shila-egalite_san-antonio_tx_2763827_636639571\n",
      "page48\n",
      "https://www.realtor.com/realestateagents/ladeirdre-mcnutt_san-antonio_tx_2957558_800939571\n",
      "page49\n",
      "https://www.realtor.com/realestateagents/diane-gonzales_san-antonio_tx_2007737_957249571\n",
      "page50\n",
      "https://www.realtor.com/realestateagents/kimberly-rasmussen_san-antonio_tx_2740068_473049571\n",
      "page51\n",
      "https://www.realtor.com/realestateagents/bertha-wicker_san-antonio_tx_1925013_036264486\n",
      "page52\n",
      "https://www.realtor.com/realestateagents/cristina-tomlinson_san-antonio_tx_399802_801079571\n",
      "page53\n",
      "https://www.realtor.com/realestateagents/marianne-zastawski_san-antonio_tx_3438700_458039571\n",
      "page54\n",
      "https://www.realtor.com/realestateagents/james-miller_san-antonio_tx_30310_780699571\n",
      "page55\n",
      "https://www.realtor.com/realestateagents/bo-broll_san-antonio_tx_1284761_971889571\n",
      "page56\n",
      "https://www.realtor.com/realestateagents/nikki-blackburn_san-antonio_tx_341517_104499571\n",
      "page57\n",
      "https://www.realtor.com/realestateagents/luciana-merrett_san-antonio_tx_3348780_859139571\n",
      "page58\n",
      "https://www.realtor.com/realestateagents/glenn-clarke_san-antonio_tx_569386_318539544\n",
      "page59\n",
      "https://www.realtor.com/realestateagents/drew-mccurdy_san-antonio_tx_1713017_774949571\n",
      "page60\n",
      "https://www.realtor.com/realestateagents/janet-g-peden___1095446_578459571\n",
      "page61\n",
      "https://www.realtor.com/realestateagents/claudia-mcshane_san-antonio_tx_133215_018189571\n",
      "page62\n",
      "https://www.realtor.com/realestateagents/belinda-trevino_san-antonio_tx_922621_890479571\n",
      "page63\n",
      "https://www.realtor.com/realestateagents/daniel-rutan_floresville_tx_323072_230579571\n",
      "page64\n",
      "https://www.realtor.com/realestateagents/brian-a.-birdy___614073_896589571\n",
      "page65\n",
      "https://www.realtor.com/realestateagents/john-lopez_san-antonio_tx_154559_576389571\n",
      "page66\n",
      "https://www.realtor.com/realestateagents/samuel-martinez_san-antonio_tx_2184164_011049571\n",
      "page67\n",
      "https://www.realtor.com/realestateagents/ela-ramsch-smith_cedar-park_tx_147408_196879571\n",
      "page68\n",
      "https://www.realtor.com/realestateagents/james-kinney_san-antonio_tx_1074133_673269571\n",
      "page69\n",
      "https://www.realtor.com/realestateagents/jamie-george_san-antonio_tx_2071597_342549571\n",
      "page70\n",
      "https://www.realtor.com/realestateagents/wayne-marinik_san-antonio_tx_323764_051189571\n",
      "page71\n",
      "https://www.realtor.com/realestateagents/donna-drayton_schertz_tx_567015_226699571\n",
      "page72\n",
      "https://www.realtor.com/realestateagents/cesar-amezcua_san-antonio_tx_1583399_053784802\n",
      "page73\n",
      "https://www.realtor.com/realestateagents/cindy-bachicha_san-antonio_tx_1507234_793159571\n",
      "page74\n",
      "https://www.realtor.com/realestateagents/erika-radis_san-antonio_tx_1963588_228349571\n",
      "page75\n",
      "https://www.realtor.com/realestateagents/erika-radis_san-antonio_tx_1963588_228349571\n",
      "page76\n",
      "https://www.realtor.com/realestateagents/erika-radis_san-antonio_tx_1963588_228349571\n",
      "page77\n",
      "https://www.realtor.com/realestateagents/marlon-price_san-antonio_tx_3096677_658439571\n",
      "page78\n",
      "https://www.realtor.com/realestateagents/marlon-price_san-antonio_tx_3096677_658439571\n",
      "page79\n",
      "https://www.realtor.com/realestateagents/marlon-price_san-antonio_tx_3096677_658439571\n",
      "page80\n"
     ]
    }
   ],
   "source": [
    "for j in range(2,81):\n",
    "    try:\n",
    "        driver.get('https://www.realtor.com/realestateagents/78258'+'/pg-'+str(j))\n",
    "        soup=BeautifulSoup(driver.page_source,\"html.parser\")\n",
    "        for i in soup.findAll('div',{'class':\"agent-list-card clearfix\"}):\n",
    "            Links.append('https://www.realtor.com'+(i.find('a', href=True)['href']))\n",
    "        print(Links[-1])\n",
    "        print('page'+str(j))\n",
    "    except:\n",
    "        continue "
   ]
  },
  {
   "cell_type": "code",
   "execution_count": 18,
   "metadata": {},
   "outputs": [
    {
     "ename": "NoSuchWindowException",
     "evalue": "Message: no such window: target window already closed\nfrom unknown error: web view not found\n  (Session info: chrome=85.0.4183.121)\n",
     "output_type": "error",
     "traceback": [
      "\u001b[1;31m---------------------------------------------------------------------------\u001b[0m",
      "\u001b[1;31mNoSuchWindowException\u001b[0m                     Traceback (most recent call last)",
      "\u001b[1;32m<ipython-input-18-66e2ef8d1e42>\u001b[0m in \u001b[0;36m<module>\u001b[1;34m\u001b[0m\n\u001b[0;32m      5\u001b[0m     \u001b[1;32mexcept\u001b[0m\u001b[1;33m:\u001b[0m\u001b[1;33m\u001b[0m\u001b[1;33m\u001b[0m\u001b[0m\n\u001b[0;32m      6\u001b[0m         \u001b[1;32mcontinue\u001b[0m\u001b[1;33m\u001b[0m\u001b[1;33m\u001b[0m\u001b[0m\n\u001b[1;32m----> 7\u001b[1;33m     \u001b[0msoup\u001b[0m\u001b[1;33m=\u001b[0m\u001b[0mBeautifulSoup\u001b[0m\u001b[1;33m(\u001b[0m\u001b[0mdriver\u001b[0m\u001b[1;33m.\u001b[0m\u001b[0mpage_source\u001b[0m\u001b[1;33m,\u001b[0m\u001b[1;34m\"html.parser\"\u001b[0m\u001b[1;33m)\u001b[0m\u001b[1;33m\u001b[0m\u001b[1;33m\u001b[0m\u001b[0m\n\u001b[0m\u001b[0;32m      8\u001b[0m     \u001b[1;32mtry\u001b[0m\u001b[1;33m:\u001b[0m\u001b[1;33m\u001b[0m\u001b[1;33m\u001b[0m\u001b[0m\n\u001b[0;32m      9\u001b[0m         \u001b[0mName\u001b[0m\u001b[1;33m.\u001b[0m\u001b[0mappend\u001b[0m\u001b[1;33m(\u001b[0m\u001b[0msoup\u001b[0m\u001b[1;33m.\u001b[0m\u001b[0mfind\u001b[0m\u001b[1;33m(\u001b[0m\u001b[1;34m'p'\u001b[0m\u001b[1;33m,\u001b[0m\u001b[1;33m{\u001b[0m\u001b[1;34m'class'\u001b[0m\u001b[1;33m:\u001b[0m\u001b[1;34m\"profile-Tiltle-main\"\u001b[0m\u001b[1;33m}\u001b[0m\u001b[1;33m)\u001b[0m\u001b[1;33m.\u001b[0m\u001b[0mtext\u001b[0m\u001b[1;33m)\u001b[0m\u001b[1;33m\u001b[0m\u001b[1;33m\u001b[0m\u001b[0m\n",
      "\u001b[1;32mZ:\\Anaconda3\\lib\\site-packages\\selenium\\webdriver\\remote\\webdriver.py\u001b[0m in \u001b[0;36mpage_source\u001b[1;34m(self)\u001b[0m\n\u001b[0;32m    677\u001b[0m             \u001b[0mdriver\u001b[0m\u001b[1;33m.\u001b[0m\u001b[0mpage_source\u001b[0m\u001b[1;33m\u001b[0m\u001b[1;33m\u001b[0m\u001b[0m\n\u001b[0;32m    678\u001b[0m         \"\"\"\n\u001b[1;32m--> 679\u001b[1;33m         \u001b[1;32mreturn\u001b[0m \u001b[0mself\u001b[0m\u001b[1;33m.\u001b[0m\u001b[0mexecute\u001b[0m\u001b[1;33m(\u001b[0m\u001b[0mCommand\u001b[0m\u001b[1;33m.\u001b[0m\u001b[0mGET_PAGE_SOURCE\u001b[0m\u001b[1;33m)\u001b[0m\u001b[1;33m[\u001b[0m\u001b[1;34m'value'\u001b[0m\u001b[1;33m]\u001b[0m\u001b[1;33m\u001b[0m\u001b[1;33m\u001b[0m\u001b[0m\n\u001b[0m\u001b[0;32m    680\u001b[0m \u001b[1;33m\u001b[0m\u001b[0m\n\u001b[0;32m    681\u001b[0m     \u001b[1;32mdef\u001b[0m \u001b[0mclose\u001b[0m\u001b[1;33m(\u001b[0m\u001b[0mself\u001b[0m\u001b[1;33m)\u001b[0m\u001b[1;33m:\u001b[0m\u001b[1;33m\u001b[0m\u001b[1;33m\u001b[0m\u001b[0m\n",
      "\u001b[1;32mZ:\\Anaconda3\\lib\\site-packages\\selenium\\webdriver\\remote\\webdriver.py\u001b[0m in \u001b[0;36mexecute\u001b[1;34m(self, driver_command, params)\u001b[0m\n\u001b[0;32m    319\u001b[0m         \u001b[0mresponse\u001b[0m \u001b[1;33m=\u001b[0m \u001b[0mself\u001b[0m\u001b[1;33m.\u001b[0m\u001b[0mcommand_executor\u001b[0m\u001b[1;33m.\u001b[0m\u001b[0mexecute\u001b[0m\u001b[1;33m(\u001b[0m\u001b[0mdriver_command\u001b[0m\u001b[1;33m,\u001b[0m \u001b[0mparams\u001b[0m\u001b[1;33m)\u001b[0m\u001b[1;33m\u001b[0m\u001b[1;33m\u001b[0m\u001b[0m\n\u001b[0;32m    320\u001b[0m         \u001b[1;32mif\u001b[0m \u001b[0mresponse\u001b[0m\u001b[1;33m:\u001b[0m\u001b[1;33m\u001b[0m\u001b[1;33m\u001b[0m\u001b[0m\n\u001b[1;32m--> 321\u001b[1;33m             \u001b[0mself\u001b[0m\u001b[1;33m.\u001b[0m\u001b[0merror_handler\u001b[0m\u001b[1;33m.\u001b[0m\u001b[0mcheck_response\u001b[0m\u001b[1;33m(\u001b[0m\u001b[0mresponse\u001b[0m\u001b[1;33m)\u001b[0m\u001b[1;33m\u001b[0m\u001b[1;33m\u001b[0m\u001b[0m\n\u001b[0m\u001b[0;32m    322\u001b[0m             response['value'] = self._unwrap_value(\n\u001b[0;32m    323\u001b[0m                 response.get('value', None))\n",
      "\u001b[1;32mZ:\\Anaconda3\\lib\\site-packages\\selenium\\webdriver\\remote\\errorhandler.py\u001b[0m in \u001b[0;36mcheck_response\u001b[1;34m(self, response)\u001b[0m\n\u001b[0;32m    240\u001b[0m                 \u001b[0malert_text\u001b[0m \u001b[1;33m=\u001b[0m \u001b[0mvalue\u001b[0m\u001b[1;33m[\u001b[0m\u001b[1;34m'alert'\u001b[0m\u001b[1;33m]\u001b[0m\u001b[1;33m.\u001b[0m\u001b[0mget\u001b[0m\u001b[1;33m(\u001b[0m\u001b[1;34m'text'\u001b[0m\u001b[1;33m)\u001b[0m\u001b[1;33m\u001b[0m\u001b[1;33m\u001b[0m\u001b[0m\n\u001b[0;32m    241\u001b[0m             \u001b[1;32mraise\u001b[0m \u001b[0mexception_class\u001b[0m\u001b[1;33m(\u001b[0m\u001b[0mmessage\u001b[0m\u001b[1;33m,\u001b[0m \u001b[0mscreen\u001b[0m\u001b[1;33m,\u001b[0m \u001b[0mstacktrace\u001b[0m\u001b[1;33m,\u001b[0m \u001b[0malert_text\u001b[0m\u001b[1;33m)\u001b[0m\u001b[1;33m\u001b[0m\u001b[1;33m\u001b[0m\u001b[0m\n\u001b[1;32m--> 242\u001b[1;33m         \u001b[1;32mraise\u001b[0m \u001b[0mexception_class\u001b[0m\u001b[1;33m(\u001b[0m\u001b[0mmessage\u001b[0m\u001b[1;33m,\u001b[0m \u001b[0mscreen\u001b[0m\u001b[1;33m,\u001b[0m \u001b[0mstacktrace\u001b[0m\u001b[1;33m)\u001b[0m\u001b[1;33m\u001b[0m\u001b[1;33m\u001b[0m\u001b[0m\n\u001b[0m\u001b[0;32m    243\u001b[0m \u001b[1;33m\u001b[0m\u001b[0m\n\u001b[0;32m    244\u001b[0m     \u001b[1;32mdef\u001b[0m \u001b[0m_value_or_default\u001b[0m\u001b[1;33m(\u001b[0m\u001b[0mself\u001b[0m\u001b[1;33m,\u001b[0m \u001b[0mobj\u001b[0m\u001b[1;33m,\u001b[0m \u001b[0mkey\u001b[0m\u001b[1;33m,\u001b[0m \u001b[0mdefault\u001b[0m\u001b[1;33m)\u001b[0m\u001b[1;33m:\u001b[0m\u001b[1;33m\u001b[0m\u001b[1;33m\u001b[0m\u001b[0m\n",
      "\u001b[1;31mNoSuchWindowException\u001b[0m: Message: no such window: target window already closed\nfrom unknown error: web view not found\n  (Session info: chrome=85.0.4183.121)\n"
     ]
    }
   ],
   "source": [
    "for url in Links:\n",
    "    try:\n",
    "        driver.get(url)\n",
    "        sleep(1)\n",
    "    except:\n",
    "        continue\n",
    "    soup=BeautifulSoup(driver.page_source,\"html.parser\")\n",
    "    try:\n",
    "        Name.append(soup.find('p',{'class':\"profile-Tiltle-main\"}).text)\n",
    "    except:\n",
    "        Name.append('NA')\n",
    "    try:\n",
    "        officename.append(soup.find('p',{'class':\"profile-Tiltle-sub\"}).text)\n",
    "    except:\n",
    "        officename.append('NA')\n",
    "    try:\n",
    "        Number.append(soup.find('span',{'itemprop':\"telephone\"}).text)\n",
    "    except:\n",
    "        Number.append('NA')\n",
    "    try:\n",
    "        Add.append(soup.find('span',{'itemprop':\"streetAddress\"}).text)\n",
    "    except:\n",
    "        Add.append('NA')\n",
    "    try:\n",
    "        city.append(soup.find('span',{'itemprop':\"addressLocality\"}).text)\n",
    "    except:\n",
    "        city.append('NA')\n",
    "    try:\n",
    "        State.append(soup.find('span',{'itemprop':\"addressRegion\"}).text)\n",
    "    except:\n",
    "        State.append('NA')\n",
    "    try:\n",
    "        zipcode.append(soup.find('span',{'itemprop':\"postalCode\"}).text)\n",
    "    except:\n",
    "        zipcode.append('NA') \n",
    "    try:\n",
    "        officenum.append((soup.find_all('span',{'itemprop':\"telephone\"})[-1]).text)\n",
    "    except:\n",
    "        officenum.append('NA') "
   ]
  },
  {
   "cell_type": "code",
   "execution_count": 19,
   "metadata": {},
   "outputs": [
    {
     "data": {
      "text/html": [
       "<div>\n",
       "<style scoped>\n",
       "    .dataframe tbody tr th:only-of-type {\n",
       "        vertical-align: middle;\n",
       "    }\n",
       "\n",
       "    .dataframe tbody tr th {\n",
       "        vertical-align: top;\n",
       "    }\n",
       "\n",
       "    .dataframe thead th {\n",
       "        text-align: right;\n",
       "    }\n",
       "</style>\n",
       "<table border=\"1\" class=\"dataframe\">\n",
       "  <thead>\n",
       "    <tr style=\"text-align: right;\">\n",
       "      <th></th>\n",
       "      <th>Name</th>\n",
       "      <th>Add</th>\n",
       "      <th>city</th>\n",
       "      <th>state</th>\n",
       "      <th>zip</th>\n",
       "      <th>Agent</th>\n",
       "      <th>Mobile</th>\n",
       "      <th>Office Num</th>\n",
       "      <th>Office Name</th>\n",
       "    </tr>\n",
       "  </thead>\n",
       "  <tbody>\n",
       "    <tr>\n",
       "      <th>0</th>\n",
       "      <td>NA</td>\n",
       "      <td>NA</td>\n",
       "      <td>NA</td>\n",
       "      <td>NA</td>\n",
       "      <td>NA</td>\n",
       "      <td>Agent</td>\n",
       "      <td>NA</td>\n",
       "      <td>NA</td>\n",
       "      <td>NA</td>\n",
       "    </tr>\n",
       "    <tr>\n",
       "      <th>1</th>\n",
       "      <td>NA</td>\n",
       "      <td>NA</td>\n",
       "      <td>NA</td>\n",
       "      <td>NA</td>\n",
       "      <td>NA</td>\n",
       "      <td>Agent</td>\n",
       "      <td>NA</td>\n",
       "      <td>NA</td>\n",
       "      <td>NA</td>\n",
       "    </tr>\n",
       "    <tr>\n",
       "      <th>2</th>\n",
       "      <td>NA</td>\n",
       "      <td>NA</td>\n",
       "      <td>NA</td>\n",
       "      <td>NA</td>\n",
       "      <td>NA</td>\n",
       "      <td>Agent</td>\n",
       "      <td>NA</td>\n",
       "      <td>NA</td>\n",
       "      <td>NA</td>\n",
       "    </tr>\n",
       "    <tr>\n",
       "      <th>3</th>\n",
       "      <td>NA</td>\n",
       "      <td>NA</td>\n",
       "      <td>NA</td>\n",
       "      <td>NA</td>\n",
       "      <td>NA</td>\n",
       "      <td>Agent</td>\n",
       "      <td>NA</td>\n",
       "      <td>NA</td>\n",
       "      <td>NA</td>\n",
       "    </tr>\n",
       "    <tr>\n",
       "      <th>4</th>\n",
       "      <td>Monique Bordelon</td>\n",
       "      <td>1717 N. Loop 1604 E. # 300</td>\n",
       "      <td>San Antonio</td>\n",
       "      <td>TX</td>\n",
       "      <td>78232</td>\n",
       "      <td>Agent</td>\n",
       "      <td>(210) 393-6571</td>\n",
       "      <td>(210) 393-6571</td>\n",
       "      <td>RE/MAX PREFERRED, REALTORS</td>\n",
       "    </tr>\n",
       "  </tbody>\n",
       "</table>\n",
       "</div>"
      ],
      "text/plain": [
       "               Name                         Add         city state    zip  \\\n",
       "0                NA                          NA           NA    NA     NA   \n",
       "1                NA                          NA           NA    NA     NA   \n",
       "2                NA                          NA           NA    NA     NA   \n",
       "3                NA                          NA           NA    NA     NA   \n",
       "4  Monique Bordelon  1717 N. Loop 1604 E. # 300  San Antonio    TX  78232   \n",
       "\n",
       "   Agent          Mobile      Office Num                 Office Name  \n",
       "0  Agent              NA              NA                          NA  \n",
       "1  Agent              NA              NA                          NA  \n",
       "2  Agent              NA              NA                          NA  \n",
       "3  Agent              NA              NA                          NA  \n",
       "4  Agent  (210) 393-6571  (210) 393-6571  RE/MAX PREFERRED, REALTORS  "
      ]
     },
     "execution_count": 19,
     "metadata": {},
     "output_type": "execute_result"
    }
   ],
   "source": [
    " data = pd.DataFrame({\n",
    "'Name': Name,\n",
    "'Add': Add,\n",
    "'city': city,\n",
    "'state': State,\n",
    "'zip':zipcode,\n",
    "'Agent': 'Agent',\n",
    "'Mobile': Number,\n",
    "'Office Num': officenum,\n",
    "'Office Name': officename})\n",
    "data.head()"
   ]
  },
  {
   "cell_type": "code",
   "execution_count": 20,
   "metadata": {},
   "outputs": [],
   "source": [
    "data.to_csv('www.realtor.csv', index  = False)"
   ]
  },
  {
   "cell_type": "code",
   "execution_count": null,
   "metadata": {},
   "outputs": [],
   "source": []
  },
  {
   "cell_type": "markdown",
   "metadata": {},
   "source": [
    "# For KW "
   ]
  },
  {
   "cell_type": "code",
   "execution_count": 6,
   "metadata": {},
   "outputs": [],
   "source": [
    "from selenium.webdriver.common.keys import Keys\n",
    "import time\n",
    "html = driver.find_element_by_tag_name('html')\n",
    "\n",
    "for number in range(20):\n",
    "    html.send_keys(Keys.END)\n",
    "    time.sleep(2)"
   ]
  },
  {
   "cell_type": "code",
   "execution_count": 20,
   "metadata": {},
   "outputs": [],
   "source": [
    "Name=[]\n",
    "Mobile=[]\n",
    "soup=BeautifulSoup(driver.page_source,\"html.parser\")\n",
    "for i in soup.findAll('div',{'class':\"AssociateCard__body\"}):\n",
    "    Name.append(i.find('div',{ 'class':'AssociateCard__name'}).text)\n",
    "    try:\n",
    "        Mobile.append(i.find('a').text)\n",
    "    except:\n",
    "        Mobile.append('NA')"
   ]
  },
  {
   "cell_type": "code",
   "execution_count": 21,
   "metadata": {
    "scrolled": false
   },
   "outputs": [
    {
     "name": "stdout",
     "output_type": "stream",
     "text": [
      "1103\n",
      "1103\n",
      "0\n"
     ]
    }
   ],
   "source": [
    "print(len(Name))\n",
    "print(len(Mobile))\n",
    "print(len(Name)-len(Mobile))"
   ]
  },
  {
   "cell_type": "code",
   "execution_count": null,
   "metadata": {},
   "outputs": [],
   "source": [
    "\"Keller Williams Realty Heritage\n",
    "Office: (210) 493-3030\n",
    "2338 N Loop 1604 W, Suite 120\n",
    "San Antonio\n",
    "TX\n",
    "78248\"\n"
   ]
  },
  {
   "cell_type": "code",
   "execution_count": 29,
   "metadata": {},
   "outputs": [
    {
     "data": {
      "text/html": [
       "<div>\n",
       "<style scoped>\n",
       "    .dataframe tbody tr th:only-of-type {\n",
       "        vertical-align: middle;\n",
       "    }\n",
       "\n",
       "    .dataframe tbody tr th {\n",
       "        vertical-align: top;\n",
       "    }\n",
       "\n",
       "    .dataframe thead th {\n",
       "        text-align: right;\n",
       "    }\n",
       "</style>\n",
       "<table border=\"1\" class=\"dataframe\">\n",
       "  <thead>\n",
       "    <tr style=\"text-align: right;\">\n",
       "      <th></th>\n",
       "      <th>Name</th>\n",
       "      <th>Add</th>\n",
       "      <th>city</th>\n",
       "      <th>state</th>\n",
       "      <th>zip</th>\n",
       "      <th>Agent</th>\n",
       "      <th>Mobile</th>\n",
       "      <th>Office number</th>\n",
       "      <th>Office Name</th>\n",
       "    </tr>\n",
       "  </thead>\n",
       "  <tbody>\n",
       "    <tr>\n",
       "      <th>1098</th>\n",
       "      <td>Ali anwar</td>\n",
       "      <td>2338 N Loop 1604 W, Suite 120</td>\n",
       "      <td>San Antonio</td>\n",
       "      <td>TX</td>\n",
       "      <td>78248</td>\n",
       "      <td>Agent</td>\n",
       "      <td>(646) 981-3473</td>\n",
       "      <td>(210) 493-3030</td>\n",
       "      <td>Keller Williams Realty Heritage</td>\n",
       "    </tr>\n",
       "    <tr>\n",
       "      <th>1099</th>\n",
       "      <td>andrea benites</td>\n",
       "      <td>2338 N Loop 1604 W, Suite 120</td>\n",
       "      <td>San Antonio</td>\n",
       "      <td>TX</td>\n",
       "      <td>78248</td>\n",
       "      <td>Agent</td>\n",
       "      <td>(210) 717-6314</td>\n",
       "      <td>(210) 493-3030</td>\n",
       "      <td>Keller Williams Realty Heritage</td>\n",
       "    </tr>\n",
       "    <tr>\n",
       "      <th>1100</th>\n",
       "      <td>Karen McConnell mcconnell</td>\n",
       "      <td>2338 N Loop 1604 W, Suite 120</td>\n",
       "      <td>San Antonio</td>\n",
       "      <td>TX</td>\n",
       "      <td>78248</td>\n",
       "      <td>Agent</td>\n",
       "      <td>(210) 535-1690</td>\n",
       "      <td>(210) 493-3030</td>\n",
       "      <td>Keller Williams Realty Heritage</td>\n",
       "    </tr>\n",
       "    <tr>\n",
       "      <th>1101</th>\n",
       "      <td>robert rodriguez</td>\n",
       "      <td>2338 N Loop 1604 W, Suite 120</td>\n",
       "      <td>San Antonio</td>\n",
       "      <td>TX</td>\n",
       "      <td>78248</td>\n",
       "      <td>Agent</td>\n",
       "      <td>(210) 825-5575</td>\n",
       "      <td>(210) 493-3030</td>\n",
       "      <td>Keller Williams Realty Heritage</td>\n",
       "    </tr>\n",
       "    <tr>\n",
       "      <th>1102</th>\n",
       "      <td>richard todd</td>\n",
       "      <td>2338 N Loop 1604 W, Suite 120</td>\n",
       "      <td>San Antonio</td>\n",
       "      <td>TX</td>\n",
       "      <td>78248</td>\n",
       "      <td>Agent</td>\n",
       "      <td>(210) 974-0825</td>\n",
       "      <td>(210) 493-3030</td>\n",
       "      <td>Keller Williams Realty Heritage</td>\n",
       "    </tr>\n",
       "  </tbody>\n",
       "</table>\n",
       "</div>"
      ],
      "text/plain": [
       "                           Name                            Add         city  \\\n",
       "1098                  Ali anwar  2338 N Loop 1604 W, Suite 120  San Antonio   \n",
       "1099             andrea benites  2338 N Loop 1604 W, Suite 120  San Antonio   \n",
       "1100  Karen McConnell mcconnell  2338 N Loop 1604 W, Suite 120  San Antonio   \n",
       "1101           robert rodriguez  2338 N Loop 1604 W, Suite 120  San Antonio   \n",
       "1102               richard todd  2338 N Loop 1604 W, Suite 120  San Antonio   \n",
       "\n",
       "     state    zip  Agent          Mobile   Office number  \\\n",
       "1098    TX  78248  Agent  (646) 981-3473  (210) 493-3030   \n",
       "1099    TX  78248  Agent  (210) 717-6314  (210) 493-3030   \n",
       "1100    TX  78248  Agent  (210) 535-1690  (210) 493-3030   \n",
       "1101    TX  78248  Agent  (210) 825-5575  (210) 493-3030   \n",
       "1102    TX  78248  Agent  (210) 974-0825  (210) 493-3030   \n",
       "\n",
       "                          Office Name  \n",
       "1098  Keller Williams Realty Heritage  \n",
       "1099  Keller Williams Realty Heritage  \n",
       "1100  Keller Williams Realty Heritage  \n",
       "1101  Keller Williams Realty Heritage  \n",
       "1102  Keller Williams Realty Heritage  "
      ]
     },
     "execution_count": 29,
     "metadata": {},
     "output_type": "execute_result"
    }
   ],
   "source": [
    "office_name='Keller Williams Realty Heritage'\n",
    "data = pd.DataFrame({\n",
    "'Name': Name,\n",
    "'Add': '2338 N Loop 1604 W, Suite 120',\n",
    "'city': 'San Antonio',\n",
    "'state':'TX',\n",
    "'zip':'78248',\n",
    "'Agent': 'Agent',\n",
    "'Mobile': Mobile,\n",
    "'Office number': '(210) 493-3030',\n",
    "'Office Name': office_name})\n",
    "data.tail()"
   ]
  },
  {
   "cell_type": "code",
   "execution_count": 31,
   "metadata": {},
   "outputs": [
    {
     "data": {
      "text/html": [
       "<div>\n",
       "<style scoped>\n",
       "    .dataframe tbody tr th:only-of-type {\n",
       "        vertical-align: middle;\n",
       "    }\n",
       "\n",
       "    .dataframe tbody tr th {\n",
       "        vertical-align: top;\n",
       "    }\n",
       "\n",
       "    .dataframe thead th {\n",
       "        text-align: right;\n",
       "    }\n",
       "</style>\n",
       "<table border=\"1\" class=\"dataframe\">\n",
       "  <thead>\n",
       "    <tr style=\"text-align: right;\">\n",
       "      <th></th>\n",
       "      <th>Name</th>\n",
       "      <th>Add</th>\n",
       "      <th>city</th>\n",
       "      <th>state</th>\n",
       "      <th>zip</th>\n",
       "      <th>Agent</th>\n",
       "      <th>Mobile</th>\n",
       "      <th>Office number</th>\n",
       "      <th>Office Name</th>\n",
       "    </tr>\n",
       "  </thead>\n",
       "  <tbody>\n",
       "    <tr>\n",
       "      <th>1098</th>\n",
       "      <td>Ali anwar</td>\n",
       "      <td>2338 N Loop 1604 W, Suite 120</td>\n",
       "      <td>San Antonio</td>\n",
       "      <td>TX</td>\n",
       "      <td>78248</td>\n",
       "      <td>Agent</td>\n",
       "      <td>(646) 981-3473</td>\n",
       "      <td>(210) 493-3030</td>\n",
       "      <td>Keller Williams Realty Heritage</td>\n",
       "    </tr>\n",
       "    <tr>\n",
       "      <th>1099</th>\n",
       "      <td>andrea benites</td>\n",
       "      <td>2338 N Loop 1604 W, Suite 120</td>\n",
       "      <td>San Antonio</td>\n",
       "      <td>TX</td>\n",
       "      <td>78248</td>\n",
       "      <td>Agent</td>\n",
       "      <td>(210) 717-6314</td>\n",
       "      <td>(210) 493-3030</td>\n",
       "      <td>Keller Williams Realty Heritage</td>\n",
       "    </tr>\n",
       "    <tr>\n",
       "      <th>1100</th>\n",
       "      <td>Karen McConnell mcconnell</td>\n",
       "      <td>2338 N Loop 1604 W, Suite 120</td>\n",
       "      <td>San Antonio</td>\n",
       "      <td>TX</td>\n",
       "      <td>78248</td>\n",
       "      <td>Agent</td>\n",
       "      <td>(210) 535-1690</td>\n",
       "      <td>(210) 493-3030</td>\n",
       "      <td>Keller Williams Realty Heritage</td>\n",
       "    </tr>\n",
       "    <tr>\n",
       "      <th>1101</th>\n",
       "      <td>robert rodriguez</td>\n",
       "      <td>2338 N Loop 1604 W, Suite 120</td>\n",
       "      <td>San Antonio</td>\n",
       "      <td>TX</td>\n",
       "      <td>78248</td>\n",
       "      <td>Agent</td>\n",
       "      <td>(210) 825-5575</td>\n",
       "      <td>(210) 493-3030</td>\n",
       "      <td>Keller Williams Realty Heritage</td>\n",
       "    </tr>\n",
       "    <tr>\n",
       "      <th>1102</th>\n",
       "      <td>richard todd</td>\n",
       "      <td>2338 N Loop 1604 W, Suite 120</td>\n",
       "      <td>San Antonio</td>\n",
       "      <td>TX</td>\n",
       "      <td>78248</td>\n",
       "      <td>Agent</td>\n",
       "      <td>(210) 974-0825</td>\n",
       "      <td>(210) 493-3030</td>\n",
       "      <td>Keller Williams Realty Heritage</td>\n",
       "    </tr>\n",
       "  </tbody>\n",
       "</table>\n",
       "</div>"
      ],
      "text/plain": [
       "                           Name                            Add         city  \\\n",
       "1098                  Ali anwar  2338 N Loop 1604 W, Suite 120  San Antonio   \n",
       "1099             andrea benites  2338 N Loop 1604 W, Suite 120  San Antonio   \n",
       "1100  Karen McConnell mcconnell  2338 N Loop 1604 W, Suite 120  San Antonio   \n",
       "1101           robert rodriguez  2338 N Loop 1604 W, Suite 120  San Antonio   \n",
       "1102               richard todd  2338 N Loop 1604 W, Suite 120  San Antonio   \n",
       "\n",
       "     state    zip  Agent          Mobile   Office number  \\\n",
       "1098    TX  78248  Agent  (646) 981-3473  (210) 493-3030   \n",
       "1099    TX  78248  Agent  (210) 717-6314  (210) 493-3030   \n",
       "1100    TX  78248  Agent  (210) 535-1690  (210) 493-3030   \n",
       "1101    TX  78248  Agent  (210) 825-5575  (210) 493-3030   \n",
       "1102    TX  78248  Agent  (210) 974-0825  (210) 493-3030   \n",
       "\n",
       "                          Office Name  \n",
       "1098  Keller Williams Realty Heritage  \n",
       "1099  Keller Williams Realty Heritage  \n",
       "1100  Keller Williams Realty Heritage  \n",
       "1101  Keller Williams Realty Heritage  \n",
       "1102  Keller Williams Realty Heritage  "
      ]
     },
     "execution_count": 31,
     "metadata": {},
     "output_type": "execute_result"
    }
   ],
   "source": [
    "data.drop_duplicates(subset=['Mobile']).tail()"
   ]
  },
  {
   "cell_type": "code",
   "execution_count": 32,
   "metadata": {},
   "outputs": [],
   "source": [
    "data.to_csv(str(office_name)+'.csv', index  = False)"
   ]
  },
  {
   "cell_type": "code",
   "execution_count": 33,
   "metadata": {},
   "outputs": [],
   "source": [
    "del data"
   ]
  },
  {
   "cell_type": "markdown",
   "metadata": {},
   "source": [
    "# For Coldwell, Bgre & ERA"
   ]
  },
  {
   "cell_type": "code",
   "execution_count": 125,
   "metadata": {},
   "outputs": [
    {
     "name": "stdout",
     "output_type": "stream",
     "text": [
      "Valencia Goodridge\n",
      "Heather Schweikert\n"
     ]
    }
   ],
   "source": [
    "remove=[\"Valencia Goodridge\",'Heather Schweikert']\n",
    "for i in remove:\n",
    "    print(i)\n",
    "    Name.remove(i)"
   ]
  },
  {
   "cell_type": "code",
   "execution_count": 153,
   "metadata": {},
   "outputs": [],
   "source": [
    "Name=[]\n",
    "License=[]\n",
    "Title=[]\n",
    "Mobile=[]\n",
    "Email=[]\n",
    "soup=BeautifulSoup(driver.page_source,\"html.parser\")\n",
    "name=soup.findAll('span',{ 'class':'heading-std heading-std-mobile'})\n",
    "for i in name:\n",
    "        Name.append(i.text)\n",
    "mobile=soup.findAll('a',{ 'itemprop':'telephone'})\n",
    "for j in mobile:\n",
    "        Mobile.append(j.text.strip('(mobile)'))"
   ]
  },
  {
   "cell_type": "code",
   "execution_count": 154,
   "metadata": {},
   "outputs": [
    {
     "name": "stdout",
     "output_type": "stream",
     "text": [
      "55\n",
      "55\n",
      "0\n"
     ]
    }
   ],
   "source": [
    "print(len(Name))\n",
    "print(len(Mobile))\n",
    "print(len(Name)-len(Mobile))"
   ]
  },
  {
   "cell_type": "code",
   "execution_count": 155,
   "metadata": {},
   "outputs": [],
   "source": [
    "officename=soup.find('h1',{'class':\"heading-std\"}).text.strip()"
   ]
  },
  {
   "cell_type": "code",
   "execution_count": 156,
   "metadata": {},
   "outputs": [],
   "source": [
    "officenum=soup.find('a',{'class':\"font-14\"}).text.strip()"
   ]
  },
  {
   "cell_type": "code",
   "execution_count": 157,
   "metadata": {},
   "outputs": [
    {
     "data": {
      "text/plain": [
       "'Suffield/Windsor Office'"
      ]
     },
     "execution_count": 157,
     "metadata": {},
     "output_type": "execute_result"
    }
   ],
   "source": [
    "officename"
   ]
  },
  {
   "cell_type": "code",
   "execution_count": 158,
   "metadata": {},
   "outputs": [
    {
     "data": {
      "text/html": [
       "<div>\n",
       "<style scoped>\n",
       "    .dataframe tbody tr th:only-of-type {\n",
       "        vertical-align: middle;\n",
       "    }\n",
       "\n",
       "    .dataframe tbody tr th {\n",
       "        vertical-align: top;\n",
       "    }\n",
       "\n",
       "    .dataframe thead th {\n",
       "        text-align: right;\n",
       "    }\n",
       "</style>\n",
       "<table border=\"1\" class=\"dataframe\">\n",
       "  <thead>\n",
       "    <tr style=\"text-align: right;\">\n",
       "      <th></th>\n",
       "      <th>Name</th>\n",
       "      <th>Add</th>\n",
       "      <th>city</th>\n",
       "      <th>state</th>\n",
       "      <th>zip</th>\n",
       "      <th>Empty</th>\n",
       "      <th>Agent</th>\n",
       "      <th>Email</th>\n",
       "      <th>Mobile</th>\n",
       "      <th>Office number</th>\n",
       "      <th>Empty 1</th>\n",
       "      <th>Office Name</th>\n",
       "    </tr>\n",
       "  </thead>\n",
       "  <tbody>\n",
       "    <tr>\n",
       "      <th>0</th>\n",
       "      <td>Brian Banak</td>\n",
       "      <td>1 Mountain Rd</td>\n",
       "      <td>Suffield</td>\n",
       "      <td>CT</td>\n",
       "      <td>06078</td>\n",
       "      <td></td>\n",
       "      <td>Agent</td>\n",
       "      <td></td>\n",
       "      <td>860.668.3100</td>\n",
       "      <td>860.668.4589</td>\n",
       "      <td></td>\n",
       "      <td>Suffield/Windsor Office Coldwell</td>\n",
       "    </tr>\n",
       "    <tr>\n",
       "      <th>1</th>\n",
       "      <td>Matt Banak</td>\n",
       "      <td>1 Mountain Rd</td>\n",
       "      <td>Suffield</td>\n",
       "      <td>CT</td>\n",
       "      <td>06078</td>\n",
       "      <td></td>\n",
       "      <td>Agent</td>\n",
       "      <td></td>\n",
       "      <td>860.543.3109</td>\n",
       "      <td>860.668.4589</td>\n",
       "      <td></td>\n",
       "      <td>Suffield/Windsor Office Coldwell</td>\n",
       "    </tr>\n",
       "    <tr>\n",
       "      <th>2</th>\n",
       "      <td>Karen Bell</td>\n",
       "      <td>1 Mountain Rd</td>\n",
       "      <td>Suffield</td>\n",
       "      <td>CT</td>\n",
       "      <td>06078</td>\n",
       "      <td></td>\n",
       "      <td>Agent</td>\n",
       "      <td></td>\n",
       "      <td>860.989.4505</td>\n",
       "      <td>860.668.4589</td>\n",
       "      <td></td>\n",
       "      <td>Suffield/Windsor Office Coldwell</td>\n",
       "    </tr>\n",
       "    <tr>\n",
       "      <th>3</th>\n",
       "      <td>Frank Bill</td>\n",
       "      <td>1 Mountain Rd</td>\n",
       "      <td>Suffield</td>\n",
       "      <td>CT</td>\n",
       "      <td>06078</td>\n",
       "      <td></td>\n",
       "      <td>Agent</td>\n",
       "      <td></td>\n",
       "      <td>860.573.1984</td>\n",
       "      <td>860.668.4589</td>\n",
       "      <td></td>\n",
       "      <td>Suffield/Windsor Office Coldwell</td>\n",
       "    </tr>\n",
       "    <tr>\n",
       "      <th>4</th>\n",
       "      <td>Richard Binns</td>\n",
       "      <td>1 Mountain Rd</td>\n",
       "      <td>Suffield</td>\n",
       "      <td>CT</td>\n",
       "      <td>06078</td>\n",
       "      <td></td>\n",
       "      <td>Agent</td>\n",
       "      <td></td>\n",
       "      <td>860.778.4759</td>\n",
       "      <td>860.668.4589</td>\n",
       "      <td></td>\n",
       "      <td>Suffield/Windsor Office Coldwell</td>\n",
       "    </tr>\n",
       "  </tbody>\n",
       "</table>\n",
       "</div>"
      ],
      "text/plain": [
       "            Name            Add      city state    zip Empty  Agent Email  \\\n",
       "0    Brian Banak  1 Mountain Rd  Suffield    CT  06078        Agent         \n",
       "1     Matt Banak  1 Mountain Rd  Suffield    CT  06078        Agent         \n",
       "2     Karen Bell  1 Mountain Rd  Suffield    CT  06078        Agent         \n",
       "3     Frank Bill  1 Mountain Rd  Suffield    CT  06078        Agent         \n",
       "4  Richard Binns  1 Mountain Rd  Suffield    CT  06078        Agent         \n",
       "\n",
       "         Mobile Office number Empty 1                       Office Name  \n",
       "0  860.668.3100  860.668.4589          Suffield/Windsor Office Coldwell  \n",
       "1  860.543.3109  860.668.4589          Suffield/Windsor Office Coldwell  \n",
       "2  860.989.4505  860.668.4589          Suffield/Windsor Office Coldwell  \n",
       "3  860.573.1984  860.668.4589          Suffield/Windsor Office Coldwell  \n",
       "4  860.778.4759  860.668.4589          Suffield/Windsor Office Coldwell  "
      ]
     },
     "execution_count": 158,
     "metadata": {},
     "output_type": "execute_result"
    }
   ],
   "source": [
    "data = pd.DataFrame({\n",
    "'Name': Name,\n",
    "'Add': '1 Mountain Rd',\n",
    "'city': 'Suffield',\n",
    "'state':'CT',\n",
    "'zip':'06078',\n",
    "'Empty':' ',\n",
    "'Agent': 'Agent',\n",
    "'Email':' ',\n",
    "'Mobile': Mobile,\n",
    "'Office number': officenum,\n",
    "'Empty 1':' ',\n",
    "'Office Name': officename+' Coldwell'})\n",
    "data.head()"
   ]
  },
  {
   "cell_type": "code",
   "execution_count": 159,
   "metadata": {},
   "outputs": [],
   "source": [
    "data.to_csv('Suffield-Windsor Office Coldwell.csv', index  = False)"
   ]
  },
  {
   "cell_type": "code",
   "execution_count": 160,
   "metadata": {},
   "outputs": [],
   "source": [
    "del data"
   ]
  },
  {
   "cell_type": "markdown",
   "metadata": {},
   "source": [
    "# for canada"
   ]
  },
  {
   "cell_type": "code",
   "execution_count": null,
   "metadata": {},
   "outputs": [],
   "source": [
    "soup=BeautifulSoup(driver.page_source,\"html.parser\")"
   ]
  },
  {
   "cell_type": "code",
   "execution_count": 30,
   "metadata": {},
   "outputs": [],
   "source": [
    "Name=[]\n",
    "Mobile=[]"
   ]
  },
  {
   "cell_type": "code",
   "execution_count": 31,
   "metadata": {},
   "outputs": [],
   "source": [
    "soup=BeautifulSoup(driver.page_source,\"html.parser\")\n",
    "for i in soup.findAll('div',{'class':\"col-xs-12 col-sm-12 col-md-12 col-lg-6\"}):\n",
    "    Name.append(i.find('h1',{'class':\"heading-large agent-name\"}).text.strip())\n",
    "    Mobile.append(i.find('p',{'class':\"agent-line\"}).text.strip('Mobile:\\n\\t\\t\\t\\t\\n\\t\\t\\t\\t\\t+1 ').strip('Office:\\n\\t\\t\\t\\t\\n\\t\\t\\t\\t\\t+1 '))"
   ]
  },
  {
   "cell_type": "code",
   "execution_count": 32,
   "metadata": {},
   "outputs": [
    {
     "name": "stdout",
     "output_type": "stream",
     "text": [
      "5\n",
      "5\n",
      "0\n"
     ]
    }
   ],
   "source": [
    "print(len(Name))\n",
    "print(len(Mobile))\n",
    "print(len(Mobile)-len(Name))"
   ]
  },
  {
   "cell_type": "code",
   "execution_count": 33,
   "metadata": {},
   "outputs": [
    {
     "data": {
      "text/html": [
       "<div>\n",
       "<style scoped>\n",
       "    .dataframe tbody tr th:only-of-type {\n",
       "        vertical-align: middle;\n",
       "    }\n",
       "\n",
       "    .dataframe tbody tr th {\n",
       "        vertical-align: top;\n",
       "    }\n",
       "\n",
       "    .dataframe thead th {\n",
       "        text-align: right;\n",
       "    }\n",
       "</style>\n",
       "<table border=\"1\" class=\"dataframe\">\n",
       "  <thead>\n",
       "    <tr style=\"text-align: right;\">\n",
       "      <th></th>\n",
       "      <th>Name</th>\n",
       "      <th>Add</th>\n",
       "      <th>city</th>\n",
       "      <th>state</th>\n",
       "      <th>zip</th>\n",
       "      <th>Agent</th>\n",
       "      <th>Mobile</th>\n",
       "      <th>Office number</th>\n",
       "      <th>Office Name</th>\n",
       "    </tr>\n",
       "  </thead>\n",
       "  <tbody>\n",
       "    <tr>\n",
       "      <th>0</th>\n",
       "      <td>Amanda Mack</td>\n",
       "      <td>1210 4th Street</td>\n",
       "      <td>Estevan</td>\n",
       "      <td>Saskatchewan</td>\n",
       "      <td>S4A0W9</td>\n",
       "      <td>Agent</td>\n",
       "      <td>306-461-9363</td>\n",
       "      <td>306-461-9363</td>\n",
       "      <td>Coldwell Banker Signature</td>\n",
       "    </tr>\n",
       "    <tr>\n",
       "      <th>1</th>\n",
       "      <td>Terry L. Germain</td>\n",
       "      <td>1210 4th Street</td>\n",
       "      <td>Estevan</td>\n",
       "      <td>Saskatchewan</td>\n",
       "      <td>S4A0W9</td>\n",
       "      <td>Agent</td>\n",
       "      <td>306-421-202</td>\n",
       "      <td>306-461-9363</td>\n",
       "      <td>Coldwell Banker Signature</td>\n",
       "    </tr>\n",
       "    <tr>\n",
       "      <th>2</th>\n",
       "      <td>Diane Jocelyn</td>\n",
       "      <td>1210 4th Street</td>\n",
       "      <td>Estevan</td>\n",
       "      <td>Saskatchewan</td>\n",
       "      <td>S4A0W9</td>\n",
       "      <td>Agent</td>\n",
       "      <td>306-421-3170</td>\n",
       "      <td>306-461-9363</td>\n",
       "      <td>Coldwell Banker Signature</td>\n",
       "    </tr>\n",
       "    <tr>\n",
       "      <th>3</th>\n",
       "      <td>Meigan Wilhelm</td>\n",
       "      <td>1210 4th Street</td>\n",
       "      <td>Estevan</td>\n",
       "      <td>Saskatchewan</td>\n",
       "      <td>S4A0W9</td>\n",
       "      <td>Agent</td>\n",
       "      <td>306-421-3982</td>\n",
       "      <td>306-461-9363</td>\n",
       "      <td>Coldwell Banker Signature</td>\n",
       "    </tr>\n",
       "    <tr>\n",
       "      <th>4</th>\n",
       "      <td>Josh LeBlanc</td>\n",
       "      <td>1210 4th Street</td>\n",
       "      <td>Estevan</td>\n",
       "      <td>Saskatchewan</td>\n",
       "      <td>S4A0W9</td>\n",
       "      <td>Agent</td>\n",
       "      <td>306-421-6778</td>\n",
       "      <td>306-461-9363</td>\n",
       "      <td>Coldwell Banker Signature</td>\n",
       "    </tr>\n",
       "  </tbody>\n",
       "</table>\n",
       "</div>"
      ],
      "text/plain": [
       "               Name              Add     city         state     zip  Agent  \\\n",
       "0       Amanda Mack  1210 4th Street  Estevan  Saskatchewan  S4A0W9  Agent   \n",
       "1  Terry L. Germain  1210 4th Street  Estevan  Saskatchewan  S4A0W9  Agent   \n",
       "2     Diane Jocelyn  1210 4th Street  Estevan  Saskatchewan  S4A0W9  Agent   \n",
       "3    Meigan Wilhelm  1210 4th Street  Estevan  Saskatchewan  S4A0W9  Agent   \n",
       "4      Josh LeBlanc  1210 4th Street  Estevan  Saskatchewan  S4A0W9  Agent   \n",
       "\n",
       "         Mobile Office number                Office Name  \n",
       "0  306-461-9363  306-461-9363  Coldwell Banker Signature  \n",
       "1   306-421-202  306-461-9363  Coldwell Banker Signature  \n",
       "2  306-421-3170  306-461-9363  Coldwell Banker Signature  \n",
       "3  306-421-3982  306-461-9363  Coldwell Banker Signature  \n",
       "4  306-421-6778  306-461-9363  Coldwell Banker Signature  "
      ]
     },
     "execution_count": 33,
     "metadata": {},
     "output_type": "execute_result"
    }
   ],
   "source": [
    "data = pd.DataFrame({\n",
    "'Name': Name,\n",
    "'Add': '1210 4th Street',\n",
    "'city': 'Estevan',\n",
    "'state':'Saskatchewan',\n",
    "'zip':'S4A0W9',\n",
    "'Agent': 'Agent',\n",
    "'Mobile': Mobile,\n",
    "'Office number': '306-461-9363',\n",
    "'Office Name' :'Coldwell Banker Signature'})\n",
    "data"
   ]
  },
  {
   "cell_type": "code",
   "execution_count": 15,
   "metadata": {},
   "outputs": [],
   "source": [
    "data.to_csv('Coldwell Banker Signature.csv', index  = False)"
   ]
  },
  {
   "cell_type": "markdown",
   "metadata": {},
   "source": [
    "# Century 21"
   ]
  },
  {
   "cell_type": "code",
   "execution_count": null,
   "metadata": {},
   "outputs": [],
   "source": [
    "#old\n",
    "Name=[]\n",
    "License=[]\n",
    "Title=[]\n",
    "Mobile=[]\n",
    "Email=[]\n",
    "soup=BeautifulSoup(driver.page_source,\"html.parser\")\n",
    "name=soup.findAll('h4')\n",
    "for i in name:\n",
    "        Name.append(i.text.strip())\n",
    "mobile=soup.findAll('a',{ 'class':'phoneNumber'})\n",
    "Mobile.append(mobile[-1].text)\n",
    "\n",
    "        "
   ]
  },
  {
   "cell_type": "code",
   "execution_count": null,
   "metadata": {},
   "outputs": [],
   "source": [
    "soup=BeautifulSoup(driver.page_source,\"html.parser\")"
   ]
  },
  {
   "cell_type": "code",
   "execution_count": 32,
   "metadata": {},
   "outputs": [],
   "source": [
    "Name=[]\n",
    "Mobile=[]\n",
    "soup=BeautifulSoup(driver.page_source,\"html.parser\")\n",
    "for i in soup.findAll('div',{'class':\"CenterLaneCard agentCard\"}):\n",
    "    Name.append(i.find('h4').text.strip())\n",
    "    x=i.findAll('a',{ 'class':'phoneNumber'})\n",
    "    Mobile.append(x[-1].text)"
   ]
  },
  {
   "cell_type": "code",
   "execution_count": 34,
   "metadata": {},
   "outputs": [],
   "source": [
    "Name=[]\n",
    "Mobile=[]\n",
    "soup=BeautifulSoup(driver.page_source,\"html.parser\")\n",
    "for i in soup.findAll('div',{'class':\"CenterLaneCard agentCard\"}):\n",
    "    Name.append(i.find('h4').text.strip())\n",
    "    try:\n",
    "        if '562.860.2571' == i.find('a',{ 'class':'phoneNumber'}).text:\n",
    "            secound=i.findAll('a',{ 'class':'phoneNumber'})\n",
    "            try:\n",
    "                Mobile.append(secound[-1].text)\n",
    "            except:\n",
    "                Mobile.append(secound.text)\n",
    "        else:\n",
    "            Mobile.append(i.find('a',{ 'class':'phoneNumber'}).text)\n",
    "    except:\n",
    "        Mobile.append(\"NA\")"
   ]
  },
  {
   "cell_type": "code",
   "execution_count": 35,
   "metadata": {},
   "outputs": [
    {
     "name": "stdout",
     "output_type": "stream",
     "text": [
      "60\n",
      "60\n",
      "0\n"
     ]
    }
   ],
   "source": [
    "print(len(Name))\n",
    "print(len(Mobile))\n",
    "print(len(Mobile)-len(Name))"
   ]
  },
  {
   "cell_type": "code",
   "execution_count": 37,
   "metadata": {},
   "outputs": [
    {
     "data": {
      "text/html": [
       "<div>\n",
       "<style scoped>\n",
       "    .dataframe tbody tr th:only-of-type {\n",
       "        vertical-align: middle;\n",
       "    }\n",
       "\n",
       "    .dataframe tbody tr th {\n",
       "        vertical-align: top;\n",
       "    }\n",
       "\n",
       "    .dataframe thead th {\n",
       "        text-align: right;\n",
       "    }\n",
       "</style>\n",
       "<table border=\"1\" class=\"dataframe\">\n",
       "  <thead>\n",
       "    <tr style=\"text-align: right;\">\n",
       "      <th></th>\n",
       "      <th>Name</th>\n",
       "      <th>Add</th>\n",
       "      <th>city</th>\n",
       "      <th>state</th>\n",
       "      <th>zip</th>\n",
       "      <th>Empty</th>\n",
       "      <th>Agent</th>\n",
       "      <th>Email</th>\n",
       "      <th>Mobile</th>\n",
       "      <th>Office number</th>\n",
       "      <th>Empty 1</th>\n",
       "      <th>Office Name</th>\n",
       "    </tr>\n",
       "  </thead>\n",
       "  <tbody>\n",
       "    <tr>\n",
       "      <th>0</th>\n",
       "      <td>Dely Ceja</td>\n",
       "      <td>11835 South Street</td>\n",
       "      <td>Cerritos</td>\n",
       "      <td>CA</td>\n",
       "      <td>90703</td>\n",
       "      <td></td>\n",
       "      <td>Agent</td>\n",
       "      <td></td>\n",
       "      <td>562.305.7949</td>\n",
       "      <td>562.860.2571</td>\n",
       "      <td></td>\n",
       "      <td>CENTURY 21 Diamond</td>\n",
       "    </tr>\n",
       "    <tr>\n",
       "      <th>1</th>\n",
       "      <td>Patricia Tamayo</td>\n",
       "      <td>11835 South Street</td>\n",
       "      <td>Cerritos</td>\n",
       "      <td>CA</td>\n",
       "      <td>90703</td>\n",
       "      <td></td>\n",
       "      <td>Agent</td>\n",
       "      <td></td>\n",
       "      <td>(323) 702-8687</td>\n",
       "      <td>562.860.2571</td>\n",
       "      <td></td>\n",
       "      <td>CENTURY 21 Diamond</td>\n",
       "    </tr>\n",
       "    <tr>\n",
       "      <th>2</th>\n",
       "      <td>Jun Hoang</td>\n",
       "      <td>11835 South Street</td>\n",
       "      <td>Cerritos</td>\n",
       "      <td>CA</td>\n",
       "      <td>90703</td>\n",
       "      <td></td>\n",
       "      <td>Agent</td>\n",
       "      <td></td>\n",
       "      <td>(562) 253-2415</td>\n",
       "      <td>562.860.2571</td>\n",
       "      <td></td>\n",
       "      <td>CENTURY 21 Diamond</td>\n",
       "    </tr>\n",
       "    <tr>\n",
       "      <th>3</th>\n",
       "      <td>Fel Sarno</td>\n",
       "      <td>11835 South Street</td>\n",
       "      <td>Cerritos</td>\n",
       "      <td>CA</td>\n",
       "      <td>90703</td>\n",
       "      <td></td>\n",
       "      <td>Agent</td>\n",
       "      <td></td>\n",
       "      <td>562.900.2238</td>\n",
       "      <td>562.860.2571</td>\n",
       "      <td></td>\n",
       "      <td>CENTURY 21 Diamond</td>\n",
       "    </tr>\n",
       "    <tr>\n",
       "      <th>4</th>\n",
       "      <td>Nancy Angeles</td>\n",
       "      <td>11835 South Street</td>\n",
       "      <td>Cerritos</td>\n",
       "      <td>CA</td>\n",
       "      <td>90703</td>\n",
       "      <td></td>\n",
       "      <td>Agent</td>\n",
       "      <td></td>\n",
       "      <td>310-529-1779</td>\n",
       "      <td>562.860.2571</td>\n",
       "      <td></td>\n",
       "      <td>CENTURY 21 Diamond</td>\n",
       "    </tr>\n",
       "  </tbody>\n",
       "</table>\n",
       "</div>"
      ],
      "text/plain": [
       "              Name                 Add      city state    zip Empty  Agent  \\\n",
       "0        Dely Ceja  11835 South Street  Cerritos    CA  90703        Agent   \n",
       "1  Patricia Tamayo  11835 South Street  Cerritos    CA  90703        Agent   \n",
       "2        Jun Hoang  11835 South Street  Cerritos    CA  90703        Agent   \n",
       "3        Fel Sarno  11835 South Street  Cerritos    CA  90703        Agent   \n",
       "4    Nancy Angeles  11835 South Street  Cerritos    CA  90703        Agent   \n",
       "\n",
       "  Email          Mobile Office number Empty 1         Office Name  \n",
       "0          562.305.7949  562.860.2571          CENTURY 21 Diamond  \n",
       "1        (323) 702-8687  562.860.2571          CENTURY 21 Diamond  \n",
       "2        (562) 253-2415  562.860.2571          CENTURY 21 Diamond  \n",
       "3          562.900.2238  562.860.2571          CENTURY 21 Diamond  \n",
       "4          310-529-1779  562.860.2571          CENTURY 21 Diamond  "
      ]
     },
     "execution_count": 37,
     "metadata": {},
     "output_type": "execute_result"
    }
   ],
   "source": [
    "data = pd.DataFrame({\n",
    "'Name': Name,\n",
    "'Add': '11835 South Street',\n",
    "'city': 'Cerritos',\n",
    "'state':'CA',\n",
    "'zip':'90703',\n",
    "'Empty':' ',\n",
    "'Agent': 'Agent', \n",
    "'Email': ' ',\n",
    "'Mobile': Mobile,\n",
    "'Office number': '562.860.2571',\n",
    "'Empty 1':' ',\n",
    "'Office Name' :'CENTURY 21 Diamond'})\n",
    "data.head()"
   ]
  },
  {
   "cell_type": "code",
   "execution_count": 38,
   "metadata": {},
   "outputs": [],
   "source": [
    "data.to_csv('CENTURY 21 Diamond.csv', index  = False)"
   ]
  },
  {
   "cell_type": "code",
   "execution_count": 39,
   "metadata": {},
   "outputs": [],
   "source": [
    "del data"
   ]
  },
  {
   "cell_type": "code",
   "execution_count": 40,
   "metadata": {},
   "outputs": [
    {
     "data": {
      "text/plain": [
       "57"
      ]
     },
     "execution_count": 40,
     "metadata": {},
     "output_type": "execute_result"
    }
   ],
   "source": [
    "seen={}\n",
    "Mobilec = [seen.setdefault(x, x) for x in Mobile if x not in seen]\n",
    "len(Mobilec)"
   ]
  },
  {
   "cell_type": "markdown",
   "metadata": {},
   "source": [
    "# for canada"
   ]
  },
  {
   "cell_type": "code",
   "execution_count": null,
   "metadata": {},
   "outputs": [],
   "source": [
    "soup=BeautifulSoup(driver.page_source,\"html.parser\")"
   ]
  },
  {
   "cell_type": "code",
   "execution_count": 98,
   "metadata": {},
   "outputs": [],
   "source": [
    "Name=[]\n",
    "mobile=[]"
   ]
  },
  {
   "cell_type": "code",
   "execution_count": 99,
   "metadata": {
    "scrolled": true
   },
   "outputs": [],
   "source": [
    "soup=BeautifulSoup(driver.page_source,\"html.parser\")\n",
    "for i in soup.findAll('article',{'class':\"article__agent-listing\"}):\n",
    "    try:\n",
    "        Name.append(i.find('a',{'class':'a__agent-name'}).text)\n",
    "    except:\n",
    "        Name.append(\"NA\")\n",
    "    try:\n",
    "        mobile.append(i.find('a',{'class':'a__agent-phone'}).text.strip().strip('Phone: '))\n",
    "    except:\n",
    "        mobile.append(\"NA\")"
   ]
  },
  {
   "cell_type": "code",
   "execution_count": 100,
   "metadata": {},
   "outputs": [
    {
     "name": "stdout",
     "output_type": "stream",
     "text": [
      "14\n",
      "14\n",
      "0\n"
     ]
    }
   ],
   "source": [
    "print(len(Name))\n",
    "print(len(mobile))\n",
    "print(len(mobile)-len(Name))"
   ]
  },
  {
   "cell_type": "code",
   "execution_count": 101,
   "metadata": {},
   "outputs": [],
   "source": [
    "data = pd.DataFrame({\n",
    "'Name': Name,\n",
    "'Add': '635 BRANION DRIVE',\n",
    "'city': 'PRINCE ALBERT',\n",
    "'state':'SK',\n",
    "'zip':'S6V 2R9',  \n",
    "'Agent': 'Agent',\n",
    "'Mobile': mobile,\n",
    "'Office number': '(306) 922-7444', \n",
    "'Office Name' :'CENTURY 21 PRESTIGE REAL ESTATE'})"
   ]
  },
  {
   "cell_type": "code",
   "execution_count": 102,
   "metadata": {},
   "outputs": [
    {
     "data": {
      "text/html": [
       "<div>\n",
       "<style scoped>\n",
       "    .dataframe tbody tr th:only-of-type {\n",
       "        vertical-align: middle;\n",
       "    }\n",
       "\n",
       "    .dataframe tbody tr th {\n",
       "        vertical-align: top;\n",
       "    }\n",
       "\n",
       "    .dataframe thead th {\n",
       "        text-align: right;\n",
       "    }\n",
       "</style>\n",
       "<table border=\"1\" class=\"dataframe\">\n",
       "  <thead>\n",
       "    <tr style=\"text-align: right;\">\n",
       "      <th></th>\n",
       "      <th>Name</th>\n",
       "      <th>Add</th>\n",
       "      <th>city</th>\n",
       "      <th>state</th>\n",
       "      <th>zip</th>\n",
       "      <th>Agent</th>\n",
       "      <th>Mobile</th>\n",
       "      <th>Office number</th>\n",
       "      <th>Office Name</th>\n",
       "    </tr>\n",
       "  </thead>\n",
       "  <tbody>\n",
       "    <tr>\n",
       "      <th>0</th>\n",
       "      <td>Tracy Fiske</td>\n",
       "      <td>635 BRANION DRIVE</td>\n",
       "      <td>PRINCE ALBERT</td>\n",
       "      <td>SK</td>\n",
       "      <td>S6V 2R9</td>\n",
       "      <td>Agent</td>\n",
       "      <td>(306) 425-7886</td>\n",
       "      <td>(306) 922-7444</td>\n",
       "      <td>CENTURY 21 PRESTIGE REAL ESTATE</td>\n",
       "    </tr>\n",
       "    <tr>\n",
       "      <th>1</th>\n",
       "      <td>Luke Gyoerick</td>\n",
       "      <td>635 BRANION DRIVE</td>\n",
       "      <td>PRINCE ALBERT</td>\n",
       "      <td>SK</td>\n",
       "      <td>S6V 2R9</td>\n",
       "      <td>Agent</td>\n",
       "      <td>(306) 961-0329</td>\n",
       "      <td>(306) 922-7444</td>\n",
       "      <td>CENTURY 21 PRESTIGE REAL ESTATE</td>\n",
       "    </tr>\n",
       "    <tr>\n",
       "      <th>2</th>\n",
       "      <td>Jesse Heit</td>\n",
       "      <td>635 BRANION DRIVE</td>\n",
       "      <td>PRINCE ALBERT</td>\n",
       "      <td>SK</td>\n",
       "      <td>S6V 2R9</td>\n",
       "      <td>Agent</td>\n",
       "      <td>(306) 980-7645</td>\n",
       "      <td>(306) 922-7444</td>\n",
       "      <td>CENTURY 21 PRESTIGE REAL ESTATE</td>\n",
       "    </tr>\n",
       "    <tr>\n",
       "      <th>3</th>\n",
       "      <td>Pat Lynch</td>\n",
       "      <td>635 BRANION DRIVE</td>\n",
       "      <td>PRINCE ALBERT</td>\n",
       "      <td>SK</td>\n",
       "      <td>S6V 2R9</td>\n",
       "      <td>Agent</td>\n",
       "      <td>(306) 961-5516</td>\n",
       "      <td>(306) 922-7444</td>\n",
       "      <td>CENTURY 21 PRESTIGE REAL ESTATE</td>\n",
       "    </tr>\n",
       "    <tr>\n",
       "      <th>4</th>\n",
       "      <td>Elaine McMillan</td>\n",
       "      <td>635 BRANION DRIVE</td>\n",
       "      <td>PRINCE ALBERT</td>\n",
       "      <td>SK</td>\n",
       "      <td>S6V 2R9</td>\n",
       "      <td>Agent</td>\n",
       "      <td>(306) 961-2535</td>\n",
       "      <td>(306) 922-7444</td>\n",
       "      <td>CENTURY 21 PRESTIGE REAL ESTATE</td>\n",
       "    </tr>\n",
       "    <tr>\n",
       "      <th>5</th>\n",
       "      <td>Al McMillan</td>\n",
       "      <td>635 BRANION DRIVE</td>\n",
       "      <td>PRINCE ALBERT</td>\n",
       "      <td>SK</td>\n",
       "      <td>S6V 2R9</td>\n",
       "      <td>Agent</td>\n",
       "      <td>(306) 961-2000</td>\n",
       "      <td>(306) 922-7444</td>\n",
       "      <td>CENTURY 21 PRESTIGE REAL ESTATE</td>\n",
       "    </tr>\n",
       "    <tr>\n",
       "      <th>6</th>\n",
       "      <td>Laura Oleksyn</td>\n",
       "      <td>635 BRANION DRIVE</td>\n",
       "      <td>PRINCE ALBERT</td>\n",
       "      <td>SK</td>\n",
       "      <td>S6V 2R9</td>\n",
       "      <td>Agent</td>\n",
       "      <td>(306) 980-5000</td>\n",
       "      <td>(306) 922-7444</td>\n",
       "      <td>CENTURY 21 PRESTIGE REAL ESTATE</td>\n",
       "    </tr>\n",
       "    <tr>\n",
       "      <th>7</th>\n",
       "      <td>Glenda Oleksyn</td>\n",
       "      <td>635 BRANION DRIVE</td>\n",
       "      <td>PRINCE ALBERT</td>\n",
       "      <td>SK</td>\n",
       "      <td>S6V 2R9</td>\n",
       "      <td>Agent</td>\n",
       "      <td>(306) 980-8123</td>\n",
       "      <td>(306) 922-7444</td>\n",
       "      <td>CENTURY 21 PRESTIGE REAL ESTATE</td>\n",
       "    </tr>\n",
       "    <tr>\n",
       "      <th>8</th>\n",
       "      <td>Amanda Peterson</td>\n",
       "      <td>635 BRANION DRIVE</td>\n",
       "      <td>PRINCE ALBERT</td>\n",
       "      <td>SK</td>\n",
       "      <td>S6V 2R9</td>\n",
       "      <td>Agent</td>\n",
       "      <td>1 (306) 981-3066</td>\n",
       "      <td>(306) 922-7444</td>\n",
       "      <td>CENTURY 21 PRESTIGE REAL ESTATE</td>\n",
       "    </tr>\n",
       "    <tr>\n",
       "      <th>9</th>\n",
       "      <td>Garry Schriml</td>\n",
       "      <td>635 BRANION DRIVE</td>\n",
       "      <td>PRINCE ALBERT</td>\n",
       "      <td>SK</td>\n",
       "      <td>S6V 2R9</td>\n",
       "      <td>Agent</td>\n",
       "      <td>(306) 961-8997</td>\n",
       "      <td>(306) 922-7444</td>\n",
       "      <td>CENTURY 21 PRESTIGE REAL ESTATE</td>\n",
       "    </tr>\n",
       "    <tr>\n",
       "      <th>10</th>\n",
       "      <td>Glenda Thies</td>\n",
       "      <td>635 BRANION DRIVE</td>\n",
       "      <td>PRINCE ALBERT</td>\n",
       "      <td>SK</td>\n",
       "      <td>S6V 2R9</td>\n",
       "      <td>Agent</td>\n",
       "      <td>(306) 961-7693</td>\n",
       "      <td>(306) 922-7444</td>\n",
       "      <td>CENTURY 21 PRESTIGE REAL ESTATE</td>\n",
       "    </tr>\n",
       "    <tr>\n",
       "      <th>11</th>\n",
       "      <td>Rick Valcourt</td>\n",
       "      <td>635 BRANION DRIVE</td>\n",
       "      <td>PRINCE ALBERT</td>\n",
       "      <td>SK</td>\n",
       "      <td>S6V 2R9</td>\n",
       "      <td>Agent</td>\n",
       "      <td>(306) 960-6485</td>\n",
       "      <td>(306) 922-7444</td>\n",
       "      <td>CENTURY 21 PRESTIGE REAL ESTATE</td>\n",
       "    </tr>\n",
       "    <tr>\n",
       "      <th>12</th>\n",
       "      <td>Tia Watt</td>\n",
       "      <td>635 BRANION DRIVE</td>\n",
       "      <td>PRINCE ALBERT</td>\n",
       "      <td>SK</td>\n",
       "      <td>S6V 2R9</td>\n",
       "      <td>Agent</td>\n",
       "      <td>(306) 425-0787</td>\n",
       "      <td>(306) 922-7444</td>\n",
       "      <td>CENTURY 21 PRESTIGE REAL ESTATE</td>\n",
       "    </tr>\n",
       "    <tr>\n",
       "      <th>13</th>\n",
       "      <td>Kevin Wouters</td>\n",
       "      <td>635 BRANION DRIVE</td>\n",
       "      <td>PRINCE ALBERT</td>\n",
       "      <td>SK</td>\n",
       "      <td>S6V 2R9</td>\n",
       "      <td>Agent</td>\n",
       "      <td>(306) 960-7020</td>\n",
       "      <td>(306) 922-7444</td>\n",
       "      <td>CENTURY 21 PRESTIGE REAL ESTATE</td>\n",
       "    </tr>\n",
       "  </tbody>\n",
       "</table>\n",
       "</div>"
      ],
      "text/plain": [
       "               Name                Add           city state      zip  Agent  \\\n",
       "0       Tracy Fiske  635 BRANION DRIVE  PRINCE ALBERT    SK  S6V 2R9  Agent   \n",
       "1     Luke Gyoerick  635 BRANION DRIVE  PRINCE ALBERT    SK  S6V 2R9  Agent   \n",
       "2        Jesse Heit  635 BRANION DRIVE  PRINCE ALBERT    SK  S6V 2R9  Agent   \n",
       "3         Pat Lynch  635 BRANION DRIVE  PRINCE ALBERT    SK  S6V 2R9  Agent   \n",
       "4   Elaine McMillan  635 BRANION DRIVE  PRINCE ALBERT    SK  S6V 2R9  Agent   \n",
       "5       Al McMillan  635 BRANION DRIVE  PRINCE ALBERT    SK  S6V 2R9  Agent   \n",
       "6     Laura Oleksyn  635 BRANION DRIVE  PRINCE ALBERT    SK  S6V 2R9  Agent   \n",
       "7    Glenda Oleksyn  635 BRANION DRIVE  PRINCE ALBERT    SK  S6V 2R9  Agent   \n",
       "8   Amanda Peterson  635 BRANION DRIVE  PRINCE ALBERT    SK  S6V 2R9  Agent   \n",
       "9     Garry Schriml  635 BRANION DRIVE  PRINCE ALBERT    SK  S6V 2R9  Agent   \n",
       "10     Glenda Thies  635 BRANION DRIVE  PRINCE ALBERT    SK  S6V 2R9  Agent   \n",
       "11    Rick Valcourt  635 BRANION DRIVE  PRINCE ALBERT    SK  S6V 2R9  Agent   \n",
       "12         Tia Watt  635 BRANION DRIVE  PRINCE ALBERT    SK  S6V 2R9  Agent   \n",
       "13    Kevin Wouters  635 BRANION DRIVE  PRINCE ALBERT    SK  S6V 2R9  Agent   \n",
       "\n",
       "              Mobile   Office number                      Office Name  \n",
       "0     (306) 425-7886  (306) 922-7444  CENTURY 21 PRESTIGE REAL ESTATE  \n",
       "1     (306) 961-0329  (306) 922-7444  CENTURY 21 PRESTIGE REAL ESTATE  \n",
       "2     (306) 980-7645  (306) 922-7444  CENTURY 21 PRESTIGE REAL ESTATE  \n",
       "3     (306) 961-5516  (306) 922-7444  CENTURY 21 PRESTIGE REAL ESTATE  \n",
       "4     (306) 961-2535  (306) 922-7444  CENTURY 21 PRESTIGE REAL ESTATE  \n",
       "5     (306) 961-2000  (306) 922-7444  CENTURY 21 PRESTIGE REAL ESTATE  \n",
       "6     (306) 980-5000  (306) 922-7444  CENTURY 21 PRESTIGE REAL ESTATE  \n",
       "7     (306) 980-8123  (306) 922-7444  CENTURY 21 PRESTIGE REAL ESTATE  \n",
       "8   1 (306) 981-3066  (306) 922-7444  CENTURY 21 PRESTIGE REAL ESTATE  \n",
       "9     (306) 961-8997  (306) 922-7444  CENTURY 21 PRESTIGE REAL ESTATE  \n",
       "10    (306) 961-7693  (306) 922-7444  CENTURY 21 PRESTIGE REAL ESTATE  \n",
       "11    (306) 960-6485  (306) 922-7444  CENTURY 21 PRESTIGE REAL ESTATE  \n",
       "12    (306) 425-0787  (306) 922-7444  CENTURY 21 PRESTIGE REAL ESTATE  \n",
       "13    (306) 960-7020  (306) 922-7444  CENTURY 21 PRESTIGE REAL ESTATE  "
      ]
     },
     "execution_count": 102,
     "metadata": {},
     "output_type": "execute_result"
    }
   ],
   "source": [
    "data"
   ]
  },
  {
   "cell_type": "code",
   "execution_count": 78,
   "metadata": {},
   "outputs": [],
   "source": [
    "data.to_csv('CENTURY 21 FUSION.csv', index  = False)"
   ]
  },
  {
   "cell_type": "code",
   "execution_count": null,
   "metadata": {},
   "outputs": [],
   "source": []
  },
  {
   "cell_type": "code",
   "execution_count": null,
   "metadata": {},
   "outputs": [],
   "source": []
  },
  {
   "cell_type": "code",
   "execution_count": null,
   "metadata": {},
   "outputs": [],
   "source": [
    "# for dublicate numbs:\n",
    "new = [1,2,2,3,4,4,5,6,7,7,8,4,4,9]\n",
    "seen = {}\n",
    "remove = [seen.setdefault(x, x) for x in Mobile if x not in seen]\n",
    "remove"
   ]
  },
  {
   "cell_type": "markdown",
   "metadata": {},
   "source": [
    "## For bhhs"
   ]
  },
  {
   "cell_type": "code",
   "execution_count": null,
   "metadata": {},
   "outputs": [],
   "source": [
    "soup=BeautifulSoup(driver.page_source,\"html.parser\")"
   ]
  },
  {
   "cell_type": "code",
   "execution_count": null,
   "metadata": {},
   "outputs": [],
   "source": [
    "Name=[]\n",
    "License=[]\n",
    "Title=[]\n",
    "Mobile=[]\n",
    "Email=[]\n",
    "soup=BeautifulSoup(driver.page_source,\"html.parser\")\n",
    "name=soup.findAll('span',{ 'class':'detail-name'})\n",
    "for i in name:\n",
    "        Name.append(i.text)\n",
    "title=soup.findAll('span',{ 'class':'detail-title text-uppercase'})\n",
    "for j in title:\n",
    "    Title.append(j.text)\n",
    "mobile=soup.findAll('span',{ 'class':'detail-phone'})\n",
    "for j in mobile:\n",
    "    Mobile.append(j.text)"
   ]
  },
  {
   "cell_type": "code",
   "execution_count": null,
   "metadata": {},
   "outputs": [],
   "source": [
    "#Mobile"
   ]
  },
  {
   "cell_type": "code",
   "execution_count": null,
   "metadata": {},
   "outputs": [],
   "source": [
    "print(len(Name))\n",
    "print(len(Mobile))\n",
    "print(len(Title))\n",
    "print(len(Mobile)-len(Name))"
   ]
  },
  {
   "cell_type": "code",
   "execution_count": null,
   "metadata": {},
   "outputs": [],
   "source": [
    "print(soup.find('h2').text.strip())\n",
    "print(soup.find('address').text.strip())"
   ]
  },
  {
   "cell_type": "code",
   "execution_count": null,
   "metadata": {
    "scrolled": true
   },
   "outputs": [],
   "source": [
    "data = pd.DataFrame({\n",
    "'Name': Name,\n",
    "'Add': '2328 Metairie Road Suite 201',\n",
    "'city': 'Metairie',\n",
    "'state':'LA',\n",
    "'zip':'70001',\n",
    "'Empty':' ',\n",
    "'Title': Title,\n",
    "'Email':' ',\n",
    "'Mobile': Mobile,\n",
    "'Office number': '(504) 605-1998',\n",
    "'Empty 1':' ',\n",
    "'Office Name': \"Berkshire Hathaway HomeServices United Properties\"})\n",
    "data"
   ]
  },
  {
   "cell_type": "code",
   "execution_count": null,
   "metadata": {},
   "outputs": [],
   "source": [
    "data.to_csv(\"Berkshire Hathaway HomeServices United Properties.csv\", index  = False)"
   ]
  },
  {
   "cell_type": "code",
   "execution_count": null,
   "metadata": {},
   "outputs": [],
   "source": [
    "del data"
   ]
  },
  {
   "cell_type": "markdown",
   "metadata": {},
   "source": [
    "## michaelsaunders"
   ]
  },
  {
   "cell_type": "code",
   "execution_count": null,
   "metadata": {},
   "outputs": [],
   "source": [
    "page=['https://www.premiersothebysrealty.com/real-estate-agents/inoffice-109/sort-n/1',\n",
    "    'https://www.premiersothebysrealty.com/real-estate-agents/inoffice-109/sort-n/2',\n",
    "    'https://www.premiersothebysrealty.com/real-estate-agents/inoffice-109/sort-n/3',\n",
    "    'https://www.premiersothebysrealty.com/real-estate-agents/inoffice-109/sort-n/4',\n",
    "    'https://www.premiersothebysrealty.com/real-estate-agents/inoffice-109/sort-n/5']"
   ]
  },
  {
   "cell_type": "code",
   "execution_count": null,
   "metadata": {},
   "outputs": [],
   "source": [
    "Mobile=[]\n",
    "Name=[]\n",
    "for url in page:\n",
    "    driver.get(url)\n",
    "    sleep(10)\n",
    "    soup=BeautifulSoup(driver.page_source,\"html.parser\")\n",
    "    mobile=soup.findAll('b')\n",
    "    for j in mobile:\n",
    "        Mobile.append(j.text)\n",
    "    name=soup.findAll('div',{ 'class':'mdl-card__title-text agent-name'})\n",
    "    for i in name:\n",
    "        Name.append(i.text)\n",
    "    "
   ]
  },
  {
   "cell_type": "code",
   "execution_count": null,
   "metadata": {},
   "outputs": [],
   "source": [
    "name=soup.findAll('a',{'tabindex':'91'})\n",
    "for i in name:\n",
    "    Name.append(i.text)"
   ]
  },
  {
   "cell_type": "code",
   "execution_count": null,
   "metadata": {},
   "outputs": [],
   "source": [
    "Name"
   ]
  },
  {
   "cell_type": "code",
   "execution_count": null,
   "metadata": {},
   "outputs": [],
   "source": [
    "for i in range(Mobile.count('')):\n",
    "    Mobile.remove('')\n",
    "    \n",
    "for i in range(Mobile.count('Venice')):\n",
    "    Mobile.remove('Venice')\n",
    "Mobile"
   ]
  },
  {
   "cell_type": "code",
   "execution_count": null,
   "metadata": {},
   "outputs": [],
   "source": []
  },
  {
   "cell_type": "code",
   "execution_count": null,
   "metadata": {},
   "outputs": [],
   "source": [
    "Name"
   ]
  },
  {
   "cell_type": "code",
   "execution_count": null,
   "metadata": {},
   "outputs": [],
   "source": [
    "print(len(Name))\n",
    "print(len(Mobile))\n",
    "print(len(Title))\n",
    "print(len(Mobile)-len(Name))"
   ]
  },
  {
   "cell_type": "code",
   "execution_count": null,
   "metadata": {},
   "outputs": [],
   "source": [
    "remove = ['Address:',\n",
    " 'Office phone:',\n",
    " 'Office fax:',\n",
    " 'Office email:',\n",
    " 'Branch manager:',\n",
    " 'Office hours:',]\n",
    "for i in remove:\n",
    "    Title.remove(i)"
   ]
  },
  {
   "cell_type": "code",
   "execution_count": null,
   "metadata": {},
   "outputs": [],
   "source": [
    "Name=[i.split(',', 1)[0] for i in Name]"
   ]
  },
  {
   "cell_type": "code",
   "execution_count": null,
   "metadata": {},
   "outputs": [],
   "source": [
    "data = pd.DataFrame({\n",
    "'Name': Name,\n",
    "'Add': '8660 S Tamiami Trail',\n",
    "'city': 'Sarasota',\n",
    "'state':'FL',\n",
    "'zip':'34238',\n",
    "'Title': Title,\n",
    "'Mobile': Mobile,\n",
    "'Office number': '941.966.8000',\n",
    "'Office Name':'Palmer Ranch - Sarasota Real Estate Agents'})\n",
    "data.tail()"
   ]
  },
  {
   "cell_type": "code",
   "execution_count": null,
   "metadata": {},
   "outputs": [],
   "source": [
    "data.to_csv('Palmer Ranch - Sarasota Real Estate Agents, FL 34238.csv', index  = False)"
   ]
  },
  {
   "cell_type": "code",
   "execution_count": null,
   "metadata": {},
   "outputs": [],
   "source": [
    "del data"
   ]
  },
  {
   "cell_type": "markdown",
   "metadata": {},
   "source": [
    "## For homesmart.com/"
   ]
  },
  {
   "cell_type": "code",
   "execution_count": null,
   "metadata": {},
   "outputs": [],
   "source": [
    "Links=[]"
   ]
  },
  {
   "cell_type": "code",
   "execution_count": null,
   "metadata": {},
   "outputs": [],
   "source": [
    "soup=BeautifulSoup(driver.page_source,\"html.parser\")\n",
    "#body=soup.find('tbody')\n",
    "\n",
    "for link in soup.find_all('a', href=True):\n",
    "    Links.append(link['href'])"
   ]
  },
  {
   "cell_type": "code",
   "execution_count": null,
   "metadata": {},
   "outputs": [],
   "source": [
    "Links"
   ]
  },
  {
   "cell_type": "code",
   "execution_count": null,
   "metadata": {},
   "outputs": [],
   "source": [
    "x=['?start=100&sortBy=fld_userDetails_firstName&userSearch=&citySearch=&stateSearch=&officeSearch=Seattle - HomeSmart Real Estate Associates&desigFld=&awardsFld=&hobbiesFld=&specialtyFld=&civicFld=&LanguagesSEL=&areaSearch=',\n",
    " '?start=0&sortBy=fld_userDetails_firstName&userSearch=&citySearch=&stateSearch=&officeSearch=Seattle - HomeSmart Real Estate Associates&desigFld=&awardsFld=&hobbiesFld=&specialtyFld=&civicFld=&LanguagesSEL=&areaSearch=',\n",
    " '?start=25&sortBy=fld_userDetails_firstName&userSearch=&citySearch=&stateSearch=&officeSearch=Seattle - HomeSmart Real Estate Associates&desigFld=&awardsFld=&hobbiesFld=&specialtyFld=&civicFld=&LanguagesSEL=&areaSearch=',\n",
    " '?start=50&sortBy=fld_userDetails_firstName&userSearch=&citySearch=&stateSearch=&officeSearch=Seattle - HomeSmart Real Estate Associates&desigFld=&awardsFld=&hobbiesFld=&specialtyFld=&civicFld=&LanguagesSEL=&areaSearch=',\n",
    " '?start=75&sortBy=fld_userDetails_firstName&userSearch=&citySearch=&stateSearch=&officeSearch=Seattle - HomeSmart Real Estate Associates&desigFld=&awardsFld=&hobbiesFld=&specialtyFld=&civicFld=&LanguagesSEL=&areaSearch=',\n",
    " '?start=100&sortBy=fld_userDetails_firstName&userSearch=&citySearch=&stateSearch=&officeSearch=Seattle - HomeSmart Real Estate Associates&desigFld=&awardsFld=&hobbiesFld=&specialtyFld=&civicFld=&LanguagesSEL=&areaSearch=',\n",
    " '?start=125&sortBy=fld_userDetails_firstName&userSearch=&citySearch=&stateSearch=&officeSearch=Seattle - HomeSmart Real Estate Associates&desigFld=&awardsFld=&hobbiesFld=&specialtyFld=&civicFld=&LanguagesSEL=&areaSearch=',]\n",
    "for i in x:\n",
    "    Links.remove(i)"
   ]
  },
  {
   "cell_type": "code",
   "execution_count": null,
   "metadata": {},
   "outputs": [],
   "source": [
    "removo=['#',\n",
    " '/',\n",
    " 'https://homesmart.com/join-us/',\n",
    " 'https://homesmart.com/franchising/',\n",
    " 'https://tech.homesmart.com',\n",
    " 'https://homesmart.com/training/',\n",
    " 'https://homesmart.com/about-us/',\n",
    " 'https://homesmart.com/join-us/contact-us/',\n",
    " 'https://homesmart.com/homesearch/',\n",
    " 'https://homesmart.com/officesagents/agents-search/',\n",
    " 'https://homesmart.com/offices-agents-search/',\n",
    " 'https://homesmart.com/buyers/',\n",
    " 'https://homesmart.com/sellers/',\n",
    " 'https://homesmart.com/press/',\n",
    " '/homesearch/',\n",
    " '/officesagents/agents-search/',\n",
    " '/offices-agents-search/',\n",
    " 'https://homesmart.com/buyers/',\n",
    " 'https://homesmart.com/sellers/',\n",
    " '/press/',\n",
    " '//www.linkedin.com/company/homesmart',\n",
    " 'https://www.facebook.com/homesmartfranchise/',\n",
    " '//twitter.com/HomeSmartIntl',\n",
    "       'https://homesmart.com/',\n",
    " 'https://homesmart.com/buyers/',\n",
    " 'https://homesmart.com/sellers/',\n",
    " 'https://homesmart.com/join-us/',\n",
    " 'https://homesmart.com/franchising/',\n",
    " 'https://homesmart.com/about-us/',\n",
    " 'https://homesmart.com/current-openings/',\n",
    " 'https://homesmart.com/join-us/contact-us/',\n",
    " '/privacy-policy',\n",
    " '/accessibility/']\n",
    "for i in removo:\n",
    "    Links.remove(i)"
   ]
  },
  {
   "cell_type": "code",
   "execution_count": null,
   "metadata": {},
   "outputs": [],
   "source": [
    "Name=[]\n",
    "info=[]\n",
    "Phone=[]"
   ]
  },
  {
   "cell_type": "code",
   "execution_count": null,
   "metadata": {},
   "outputs": [],
   "source": [
    "len(Links)"
   ]
  },
  {
   "cell_type": "code",
   "execution_count": null,
   "metadata": {},
   "outputs": [],
   "source": [
    "for url in Links:\n",
    "    driver.get(url)\n",
    "    sleep(1)\n",
    "    soup=BeautifulSoup(driver.page_source,\"html.parser\")\n",
    "    try:\n",
    "        Name.append(soup.find('div',{'class':\"agent_name\"}).text)\n",
    "        info.append(soup.find('div',{'class':\"agent_contact\"}).text.strip(' '))\n",
    "    except:\n",
    "        Name.append('NA')\n",
    "        info.append('NA')"
   ]
  },
  {
   "cell_type": "code",
   "execution_count": null,
   "metadata": {},
   "outputs": [],
   "source": [
    "print(len(Name))\n",
    "print(len(info))\n",
    "print(len(Name)-len(info))"
   ]
  },
  {
   "cell_type": "code",
   "execution_count": null,
   "metadata": {},
   "outputs": [],
   "source": [
    "Seattle - HomeSmart Real Estate Associates\n",
    "\n",
    "Seattle, WA 98125"
   ]
  },
  {
   "cell_type": "code",
   "execution_count": null,
   "metadata": {},
   "outputs": [],
   "source": [
    "data = pd.DataFrame({\n",
    "'Name': Name,\n",
    "'Add': '309 NE 103rd St',\n",
    "'city': 'Seattle',\n",
    "'state':'WA',\n",
    "'zip':'98125',\n",
    "'Title': 'Agent',\n",
    "'Mobile': info,\n",
    "'Office number': '(206) 523-7653',\n",
    "'Office Name':'Seattle - HomeSmart Real Estate Associates'})\n",
    "data.head()"
   ]
  },
  {
   "cell_type": "code",
   "execution_count": null,
   "metadata": {},
   "outputs": [],
   "source": [
    "import os\n",
    "os.chdir('C://Users//Justin Robin//Desktop//Aimleap//work file//Lindsey Gudger (Jason Gasbarra)')"
   ]
  },
  {
   "cell_type": "code",
   "execution_count": null,
   "metadata": {},
   "outputs": [],
   "source": [
    "data.to_csv('Seattle - HomeSmart Real Estate Associates.csv', index  = False)"
   ]
  },
  {
   "cell_type": "markdown",
   "metadata": {},
   "source": [
    "## For Remax"
   ]
  },
  {
   "cell_type": "code",
   "execution_count": 105,
   "metadata": {},
   "outputs": [],
   "source": [
    "Name=[]\n",
    "Mobile=[]\n",
    "Title=[]"
   ]
  },
  {
   "cell_type": "code",
   "execution_count": 106,
   "metadata": {},
   "outputs": [],
   "source": [
    "soup=BeautifulSoup(driver.page_source,\"html.parser\")\n",
    "body=soup.findAll('div',{'class':'container_33VP6'})\n",
    "for tags in body:\n",
    "    name=tags.findAll('h4',{'class':'name_2Z1oM'})\n",
    "    for i in name:\n",
    "        Name.append(i.text.strip())\n",
    "    num=tags.findAll('button',{'type':'button'})\n",
    "    title=tags.findAll('h5',{'class':'title_2Xx3b'})\n",
    "    for t in title:\n",
    "        Title.append(t.text.strip())\n",
    "    for n in num:\n",
    "        Mobile.append(n.text.strip())\n",
    "for i in range(Mobile.count('Contact Me')):\n",
    "    Mobile.remove('Contact Me')\n",
    "officenum=soup.find('a',{'class':\"phone-link\"}).text\n",
    "officenum"
   ]
  },
  {
   "cell_type": "code",
   "execution_count": 107,
   "metadata": {},
   "outputs": [
    {
     "name": "stdout",
     "output_type": "stream",
     "text": [
      "0\n",
      "0\n",
      "0\n",
      "0\n"
     ]
    }
   ],
   "source": [
    "print(len(Name))\n",
    "print(len(Mobile))\n",
    "print(len(Title))\n",
    "print(len(Mobile)-len(Name))"
   ]
  },
  {
   "cell_type": "code",
   "execution_count": 108,
   "metadata": {},
   "outputs": [
    {
     "ename": "AttributeError",
     "evalue": "'NoneType' object has no attribute 'text'",
     "output_type": "error",
     "traceback": [
      "\u001b[1;31m---------------------------------------------------------------------------\u001b[0m",
      "\u001b[1;31mAttributeError\u001b[0m                            Traceback (most recent call last)",
      "\u001b[1;32m<ipython-input-108-5cba13817990>\u001b[0m in \u001b[0;36m<module>\u001b[1;34m\u001b[0m\n\u001b[0;32m      2\u001b[0m     \u001b[0mMobile\u001b[0m\u001b[1;33m.\u001b[0m\u001b[0mremove\u001b[0m\u001b[1;33m(\u001b[0m\u001b[1;34m'Contact Me'\u001b[0m\u001b[1;33m)\u001b[0m\u001b[1;33m\u001b[0m\u001b[1;33m\u001b[0m\u001b[0m\n\u001b[0;32m      3\u001b[0m \u001b[1;33m\u001b[0m\u001b[0m\n\u001b[1;32m----> 4\u001b[1;33m \u001b[0mofficenum\u001b[0m\u001b[1;33m=\u001b[0m\u001b[0msoup\u001b[0m\u001b[1;33m.\u001b[0m\u001b[0mfind\u001b[0m\u001b[1;33m(\u001b[0m\u001b[1;34m'a'\u001b[0m\u001b[1;33m,\u001b[0m\u001b[1;33m{\u001b[0m\u001b[1;34m'class'\u001b[0m\u001b[1;33m:\u001b[0m\u001b[1;34m\"phone-link\"\u001b[0m\u001b[1;33m}\u001b[0m\u001b[1;33m)\u001b[0m\u001b[1;33m.\u001b[0m\u001b[0mtext\u001b[0m\u001b[1;33m\u001b[0m\u001b[1;33m\u001b[0m\u001b[0m\n\u001b[0m\u001b[0;32m      5\u001b[0m \u001b[0mofficenum\u001b[0m\u001b[1;33m\u001b[0m\u001b[1;33m\u001b[0m\u001b[0m\n",
      "\u001b[1;31mAttributeError\u001b[0m: 'NoneType' object has no attribute 'text'"
     ]
    }
   ],
   "source": []
  },
  {
   "cell_type": "code",
   "execution_count": null,
   "metadata": {},
   "outputs": [],
   "source": [
    "Name.remove(\"Lisa  Dellinger\")\n",
    "Title.remove('Associate')"
   ]
  },
  {
   "cell_type": "code",
   "execution_count": null,
   "metadata": {
    "scrolled": true
   },
   "outputs": [],
   "source": [
    "t=soup.find('h4',{'class':\"mb-8\"}).text\n",
    "Officename=soup.find('h1',{'class':\"h2 mt-6\"}).text.strip()\n",
    "print(Officename)\n",
    "print(t.strip())"
   ]
  },
  {
   "cell_type": "code",
   "execution_count": null,
   "metadata": {},
   "outputs": [],
   "source": [
    "data = pd.DataFrame({\n",
    "'Name': Name,\n",
    "'Add': '445 Dolley Madison Rd, Ste 300',\n",
    "'city': 'Greensboro',\n",
    "'state':'NC',\n",
    "'zip':'27410',\n",
    "'empty1': ' ',\n",
    "'Title': Title,\n",
    "'email': ' ',\n",
    "'Mobile': Mobile,\n",
    "'Office number': officenum,\n",
    "'empty2': ' ',\n",
    "'Office Name':Officename})\n",
    "data"
   ]
  },
  {
   "cell_type": "code",
   "execution_count": null,
   "metadata": {},
   "outputs": [],
   "source": [
    "data.to_csv('RE-MAX One Hundred.csv', index  = False)"
   ]
  },
  {
   "cell_type": "markdown",
   "metadata": {},
   "source": [
    "# for canada"
   ]
  },
  {
   "cell_type": "code",
   "execution_count": null,
   "metadata": {},
   "outputs": [],
   "source": [
    "<div _ngcontent-c31=\"\" class=\"agent-list\">"
   ]
  },
  {
   "cell_type": "code",
   "execution_count": 110,
   "metadata": {},
   "outputs": [],
   "source": [
    "Name=[]\n",
    "mobile=[]"
   ]
  },
  {
   "cell_type": "code",
   "execution_count": 154,
   "metadata": {},
   "outputs": [
    {
     "ename": "SyntaxError",
     "evalue": "unexpected EOF while parsing (<ipython-input-154-641267ad6200>, line 1)",
     "output_type": "error",
     "traceback": [
      "\u001b[1;36m  File \u001b[1;32m\"<ipython-input-154-641267ad6200>\"\u001b[1;36m, line \u001b[1;32m1\u001b[0m\n\u001b[1;33m    print(p[1].text.split(',')\u001b[0m\n\u001b[1;37m                              ^\u001b[0m\n\u001b[1;31mSyntaxError\u001b[0m\u001b[1;31m:\u001b[0m unexpected EOF while parsing\n"
     ]
    }
   ],
   "source": [
    "print(p[1].text.split(',')"
   ]
  },
  {
   "cell_type": "code",
   "execution_count": 152,
   "metadata": {},
   "outputs": [
    {
     "data": {
      "text/plain": [
       "'306-446-0048'"
      ]
     },
     "execution_count": 152,
     "metadata": {},
     "output_type": "execute_result"
    }
   ],
   "source": [
    "soup.find('a',{'class':\"dk-blue-button\"}).text.strip()"
   ]
  },
  {
   "cell_type": "code",
   "execution_count": 155,
   "metadata": {},
   "outputs": [],
   "source": [
    "links=['https://www.realtyexecutives.com/offices/realty-executives-battlefords/893',\n",
    "'https://www.realtyexecutives.com/offices/realty-executives-diversified-realty/2884',\n",
    "'https://www.realtyexecutives.com/offices/realty-executives-diversified-realty-/3016',\n",
    "'https://www.realtyexecutives.com/offices/realty-executives-gateway-realty/892',\n",
    "'https://www.realtyexecutives.com/offices/realty-executives-mj/890',\n",
    "'https://www.realtyexecutives.com/offices/realty-executives-outlook/2932',\n",
    "'https://www.realtyexecutives.com/offices/realty-executives-preferred-choice/3002',\n",
    "'https://www.realtyexecutives.com/offices/realty-executives-saskatchewan-region/883',\n",
    "'https://www.realtyexecutives.com/offices/realty-executives-saskatoon/880',\n",
    "'https://www.realtyexecutives.com/offices/realty-executives-unity/889',\n",
    "'https://www.realtyexecutives.com/offices/realty-executives-victor-martens/886',\n",
    "'https://www.realtyexecutives.com/offices/realty-executives-watrous/894']"
   ]
  },
  {
   "cell_type": "code",
   "execution_count": 167,
   "metadata": {},
   "outputs": [],
   "source": [
    "Name=[]\n",
    "mobile=[]\n",
    "Officename=[]\n",
    "Add=[]\n",
    "City=[]\n",
    "Officenumber=[]\n",
    "for url in links:\n",
    "    driver.get(url)\n",
    "    soup=BeautifulSoup(driver.page_source,\"html.parser\")\n",
    "    for i in soup.findAll('div',{'class':\"card-name\"}):\n",
    "        Name.append(i.text.strip())\n",
    "    for i in soup.findAll('div',{'class':\"card-phone\"}):\n",
    "        mobile.append(i.text.strip())\n",
    "        p=soup.find('div',{'class':\"col-sm-5\"}).findAll('p')\n",
    "        Officename.append(soup.find('div',{'class':\"about-entity\"}).text.strip())\n",
    "        Officenumber.append(soup.find('a',{'class':\"dk-blue-button\"}).text.strip())\n",
    "        Add.append(p[0].text)\n",
    "        City.append(p[1].text)  "
   ]
  },
  {
   "cell_type": "code",
   "execution_count": 187,
   "metadata": {},
   "outputs": [],
   "source": [
    "Name.remove('Kelly Whelan')"
   ]
  },
  {
   "cell_type": "code",
   "execution_count": 188,
   "metadata": {},
   "outputs": [
    {
     "name": "stdout",
     "output_type": "stream",
     "text": [
      "161\n",
      "161\n",
      "161\n"
     ]
    }
   ],
   "source": [
    "print(len(Name))\n",
    "print(len(mobile))\n",
    "print(len(Officenumber))"
   ]
  },
  {
   "cell_type": "code",
   "execution_count": 189,
   "metadata": {},
   "outputs": [
    {
     "data": {
      "text/html": [
       "<div>\n",
       "<style scoped>\n",
       "    .dataframe tbody tr th:only-of-type {\n",
       "        vertical-align: middle;\n",
       "    }\n",
       "\n",
       "    .dataframe tbody tr th {\n",
       "        vertical-align: top;\n",
       "    }\n",
       "\n",
       "    .dataframe thead th {\n",
       "        text-align: right;\n",
       "    }\n",
       "</style>\n",
       "<table border=\"1\" class=\"dataframe\">\n",
       "  <thead>\n",
       "    <tr style=\"text-align: right;\">\n",
       "      <th></th>\n",
       "      <th>Name</th>\n",
       "      <th>Add</th>\n",
       "      <th>city</th>\n",
       "      <th>Title</th>\n",
       "      <th>Mobile</th>\n",
       "      <th>Office number</th>\n",
       "      <th>Office Name</th>\n",
       "    </tr>\n",
       "  </thead>\n",
       "  <tbody>\n",
       "    <tr>\n",
       "      <th>0</th>\n",
       "      <td>Rod Enns</td>\n",
       "      <td>1371 - 100 Street</td>\n",
       "      <td>North Battleford, SK S9A 0V9</td>\n",
       "      <td>Agents</td>\n",
       "      <td>306-342-4443</td>\n",
       "      <td>306-446-0048</td>\n",
       "      <td>Realty Executives Battlefords</td>\n",
       "    </tr>\n",
       "    <tr>\n",
       "      <th>1</th>\n",
       "      <td>Susan Kramm</td>\n",
       "      <td>1371 - 100 Street</td>\n",
       "      <td>North Battleford, SK S9A 0V9</td>\n",
       "      <td>Agents</td>\n",
       "      <td>306-441-6420</td>\n",
       "      <td>306-446-0048</td>\n",
       "      <td>Realty Executives Battlefords</td>\n",
       "    </tr>\n",
       "    <tr>\n",
       "      <th>2</th>\n",
       "      <td>Roxanne Osicki</td>\n",
       "      <td>1371 - 100 Street</td>\n",
       "      <td>North Battleford, SK S9A 0V9</td>\n",
       "      <td>Agents</td>\n",
       "      <td>306-618-9016</td>\n",
       "      <td>306-446-0048</td>\n",
       "      <td>Realty Executives Battlefords</td>\n",
       "    </tr>\n",
       "    <tr>\n",
       "      <th>3</th>\n",
       "      <td>Kerry  Amos</td>\n",
       "      <td>355 Broad Street</td>\n",
       "      <td>Regina , SK S4R 1X2</td>\n",
       "      <td>Agents</td>\n",
       "      <td>306-537-2773</td>\n",
       "      <td>306-779-3004</td>\n",
       "      <td>Realty Executives Diversified Realty</td>\n",
       "    </tr>\n",
       "    <tr>\n",
       "      <th>4</th>\n",
       "      <td>Anthony Banerjee</td>\n",
       "      <td>355 Broad Street</td>\n",
       "      <td>Regina , SK S4R 1X2</td>\n",
       "      <td>Agents</td>\n",
       "      <td>306-501-9648</td>\n",
       "      <td>306-779-3004</td>\n",
       "      <td>Realty Executives Diversified Realty</td>\n",
       "    </tr>\n",
       "    <tr>\n",
       "      <th>...</th>\n",
       "      <td>...</td>\n",
       "      <td>...</td>\n",
       "      <td>...</td>\n",
       "      <td>...</td>\n",
       "      <td>...</td>\n",
       "      <td>...</td>\n",
       "      <td>...</td>\n",
       "    </tr>\n",
       "    <tr>\n",
       "      <th>156</th>\n",
       "      <td>Bev Jones</td>\n",
       "      <td>139 2nd Avenue West</td>\n",
       "      <td>Unity, SK S0K 4L0</td>\n",
       "      <td>Agents</td>\n",
       "      <td>306-228-7908</td>\n",
       "      <td>306-228-3955</td>\n",
       "      <td>Realty Executives Unity</td>\n",
       "    </tr>\n",
       "    <tr>\n",
       "      <th>157</th>\n",
       "      <td>Kayla Meredith</td>\n",
       "      <td>139 2nd Avenue West</td>\n",
       "      <td>Unity, SK S0K 4L0</td>\n",
       "      <td>Agents</td>\n",
       "      <td>306-939-4191</td>\n",
       "      <td>306-228-3955</td>\n",
       "      <td>Realty Executives Unity</td>\n",
       "    </tr>\n",
       "    <tr>\n",
       "      <th>158</th>\n",
       "      <td>Victor Martens</td>\n",
       "      <td>127 Greenfield Drive</td>\n",
       "      <td>Regina, SK S4S6C5</td>\n",
       "      <td>Agents</td>\n",
       "      <td>306-539-2454</td>\n",
       "      <td>306-539-2454</td>\n",
       "      <td>Realty Executives Victor Martens</td>\n",
       "    </tr>\n",
       "    <tr>\n",
       "      <th>159</th>\n",
       "      <td>Charlene Mattick</td>\n",
       "      <td>207 - 8th Avenue W. PO Box 423</td>\n",
       "      <td>Watrous, SK S0K 4T0</td>\n",
       "      <td>Agents</td>\n",
       "      <td>306-535-2842</td>\n",
       "      <td>306-946-8520</td>\n",
       "      <td>Realty Executives Watrous</td>\n",
       "    </tr>\n",
       "    <tr>\n",
       "      <th>160</th>\n",
       "      <td>Avril Reifferscheid</td>\n",
       "      <td>207 - 8th Avenue W. PO Box 423</td>\n",
       "      <td>Watrous, SK S0K 4T0</td>\n",
       "      <td>Agents</td>\n",
       "      <td>(306) 946-8520</td>\n",
       "      <td>306-946-8520</td>\n",
       "      <td>Realty Executives Watrous</td>\n",
       "    </tr>\n",
       "  </tbody>\n",
       "</table>\n",
       "<p>161 rows × 7 columns</p>\n",
       "</div>"
      ],
      "text/plain": [
       "                    Name                             Add  \\\n",
       "0               Rod Enns              1371 - 100 Street    \n",
       "1            Susan Kramm              1371 - 100 Street    \n",
       "2         Roxanne Osicki              1371 - 100 Street    \n",
       "3            Kerry  Amos               355 Broad Street    \n",
       "4       Anthony Banerjee               355 Broad Street    \n",
       "..                   ...                             ...   \n",
       "156            Bev Jones            139 2nd Avenue West    \n",
       "157       Kayla Meredith            139 2nd Avenue West    \n",
       "158       Victor Martens           127 Greenfield Drive    \n",
       "159     Charlene Mattick  207 - 8th Avenue W. PO Box 423   \n",
       "160  Avril Reifferscheid  207 - 8th Avenue W. PO Box 423   \n",
       "\n",
       "                             city   Title          Mobile Office number  \\\n",
       "0    North Battleford, SK S9A 0V9  Agents    306-342-4443  306-446-0048   \n",
       "1    North Battleford, SK S9A 0V9  Agents    306-441-6420  306-446-0048   \n",
       "2    North Battleford, SK S9A 0V9  Agents    306-618-9016  306-446-0048   \n",
       "3             Regina , SK S4R 1X2  Agents    306-537-2773  306-779-3004   \n",
       "4             Regina , SK S4R 1X2  Agents    306-501-9648  306-779-3004   \n",
       "..                            ...     ...             ...           ...   \n",
       "156             Unity, SK S0K 4L0  Agents    306-228-7908  306-228-3955   \n",
       "157             Unity, SK S0K 4L0  Agents    306-939-4191  306-228-3955   \n",
       "158             Regina, SK S4S6C5  Agents    306-539-2454  306-539-2454   \n",
       "159           Watrous, SK S0K 4T0  Agents    306-535-2842  306-946-8520   \n",
       "160           Watrous, SK S0K 4T0  Agents  (306) 946-8520  306-946-8520   \n",
       "\n",
       "                              Office Name  \n",
       "0           Realty Executives Battlefords  \n",
       "1           Realty Executives Battlefords  \n",
       "2           Realty Executives Battlefords  \n",
       "3    Realty Executives Diversified Realty  \n",
       "4    Realty Executives Diversified Realty  \n",
       "..                                    ...  \n",
       "156               Realty Executives Unity  \n",
       "157               Realty Executives Unity  \n",
       "158      Realty Executives Victor Martens  \n",
       "159             Realty Executives Watrous  \n",
       "160             Realty Executives Watrous  \n",
       "\n",
       "[161 rows x 7 columns]"
      ]
     },
     "execution_count": 189,
     "metadata": {},
     "output_type": "execute_result"
    }
   ],
   "source": [
    "data = pd.DataFrame({\n",
    "'Name': Name,\n",
    "'Add': Add,\n",
    "'city': City,\n",
    "'Title': 'Agents',\n",
    "'Mobile': mobile,\n",
    "'Office number': Officenumber,\n",
    "'Office Name': Officename})\n",
    "data"
   ]
  },
  {
   "cell_type": "code",
   "execution_count": 190,
   "metadata": {},
   "outputs": [],
   "source": [
    "data.to_csv('RE-MAX SK.csv', index  = False)"
   ]
  },
  {
   "cell_type": "markdown",
   "metadata": {},
   "source": [
    "## sothebysrealty"
   ]
  },
  {
   "cell_type": "code",
   "execution_count": null,
   "metadata": {},
   "outputs": [],
   "source": [
    "soup=BeautifulSoup(driver.page_source,\"html.parser\")"
   ]
  },
  {
   "cell_type": "code",
   "execution_count": null,
   "metadata": {},
   "outputs": [],
   "source": [
    "soup.find('span',{'class':\"agent-item__name\"})"
   ]
  },
  {
   "cell_type": "code",
   "execution_count": null,
   "metadata": {},
   "outputs": [],
   "source": [
    "Name=[]\n",
    "Mobile=[]"
   ]
  },
  {
   "cell_type": "code",
   "execution_count": null,
   "metadata": {},
   "outputs": [],
   "source": [
    "soup=BeautifulSoup(driver.page_source,\"html.parser\")\n",
    "name=soup.findAll('span',{'class':\"agent-item__name\"})\n",
    "for i in name:\n",
    "    Name.append(i.text.strip())\n",
    "num=soup.findAll('a',{'class':\"o-phone o-phone-number tel js-phone-link\"})\n",
    "for n in num:\n",
    "    Mobile.append(n.text.strip('Mobile: + ').strip('Business: + '))"
   ]
  },
  {
   "cell_type": "code",
   "execution_count": null,
   "metadata": {},
   "outputs": [],
   "source": [
    "print(len(Name))\n",
    "print(len(Mobile))\n",
    "print(len(Mobile)-len(Name))"
   ]
  },
  {
   "cell_type": "code",
   "execution_count": null,
   "metadata": {},
   "outputs": [],
   "source": [
    "Mobile.remove('808.263.5900')"
   ]
  },
  {
   "cell_type": "code",
   "execution_count": null,
   "metadata": {
    "scrolled": true
   },
   "outputs": [],
   "source": [
    "data = pd.DataFrame({\n",
    "'Name': Name,\n",
    "'Add': '2340 Dauphine Street',\n",
    "'city': 'New Orleans',\n",
    "'state':'LA',\n",
    "'zip':'70117',\n",
    "'Title': 'Agent',\n",
    "'Mobile': Mobile,\n",
    "'Office number': '504.944.3605',\n",
    "'Office Name':\"Dorian Bennett Sotheby's International Realty\"})\n",
    "data"
   ]
  },
  {
   "cell_type": "code",
   "execution_count": null,
   "metadata": {},
   "outputs": [],
   "source": [
    "data.to_csv(\"Dorian Bennett Sotheby's International Realty.csv\", index  = False)"
   ]
  },
  {
   "cell_type": "markdown",
   "metadata": {},
   "source": [
    "## Realty Executives"
   ]
  },
  {
   "cell_type": "code",
   "execution_count": null,
   "metadata": {},
   "outputs": [],
   "source": [
    "soup=BeautifulSoup(driver.page_source,\"html.parser\")\n",
    "agent=soup.findAll('div',{'class':\"col-sm-3 agentlist\"})\n",
    "Name=[]\n",
    "\n",
    "Title=[]\n",
    "Mobile=[]\n",
    "for i in agent:\n",
    "    Name.append(i.find('div',{'class':\"card-name\"}).text.strip())\n",
    "    Title.append(i.find('div',{'class':\"card-title\"}).text)\n",
    "    try:\n",
    "        Mobile.append(i.find('div',{'class':\"card-phone\"}).text.strip())\n",
    "    except: \n",
    "        Mobile.append('NA')"
   ]
  },
  {
   "cell_type": "code",
   "execution_count": null,
   "metadata": {},
   "outputs": [],
   "source": [
    "print(len(Name))\n",
    "print(len(Mobile))\n",
    "print(len(Mobile)-len(Name))"
   ]
  },
  {
   "cell_type": "code",
   "execution_count": null,
   "metadata": {},
   "outputs": [],
   "source": [
    "data = pd.DataFrame({\n",
    "'Name': Name,\n",
    "'Add': '405 Boyds Creek Hwy',\n",
    "'city': 'Seymour',\n",
    "'state':'TN',\n",
    "'zip':'37865',\n",
    "'Title': Title,\n",
    "'Mobile': Mobile,\n",
    "'Office number': '865-609-7654',\n",
    "'Office Name':\"Realty Executives Advantage (Boyds Creek)\"})\n",
    "data.tail()"
   ]
  },
  {
   "cell_type": "code",
   "execution_count": null,
   "metadata": {},
   "outputs": [],
   "source": [
    "data.to_csv('Realty Executives Advantage (Boyds Creek).csv', index  = False)"
   ]
  },
  {
   "cell_type": "markdown",
   "metadata": {},
   "source": [
    "   ## Weichert"
   ]
  },
  {
   "cell_type": "code",
   "execution_count": null,
   "metadata": {},
   "outputs": [],
   "source": [
    "Name=[]\n",
    "Title=[]\n",
    "Mobile=[]"
   ]
  },
  {
   "cell_type": "code",
   "execution_count": null,
   "metadata": {},
   "outputs": [],
   "source": [
    "soup=BeautifulSoup(driver.page_source,\"html.parser\")\n",
    "name=soup.findAll('h5',{'class':\"agent-card-title\"})\n",
    "for i in name:\n",
    "        Name.append(i.text)\n",
    "mobile=soup.findAll('h6',{'class':\"agent-card-phone\"})\n",
    "for j in mobile:\n",
    "    Mobile.append(j.text)\n",
    "print(len(Name))\n",
    "print(len(Mobile))\n",
    "print(len(Mobile)-len(Name))"
   ]
  },
  {
   "cell_type": "code",
   "execution_count": null,
   "metadata": {
    "scrolled": true
   },
   "outputs": [],
   "source": [
    "data = pd.DataFrame({\n",
    "'Name': Name,\n",
    "'Add': '1402 3rd Street North',\n",
    "'city': 'Jacksonville Beach',\n",
    "'state':'FL ',\n",
    "'zip':'32250',\n",
    "'Agent': 'Agent',\n",
    "'Mobile': Mobile,\n",
    "'Office number': '540-312-8686',\n",
    "'Office Name': 'Jacksonville Beach - WEICHERT, REALTORS® - Coastal City'})\n",
    "data"
   ]
  },
  {
   "cell_type": "code",
   "execution_count": null,
   "metadata": {},
   "outputs": [],
   "source": [
    "data.to_csv('Jacksonville Beach - Weichert.csv', index  = False)"
   ]
  },
  {
   "cell_type": "code",
   "execution_count": null,
   "metadata": {},
   "outputs": [],
   "source": [
    "del data"
   ]
  },
  {
   "cell_type": "code",
   "execution_count": null,
   "metadata": {},
   "outputs": [],
   "source": [
    "Name=[]\n",
    "mobile=[]"
   ]
  },
  {
   "cell_type": "code",
   "execution_count": null,
   "metadata": {},
   "outputs": [],
   "source": []
  },
  {
   "cell_type": "code",
   "execution_count": null,
   "metadata": {},
   "outputs": [],
   "source": []
  },
  {
   "cell_type": "code",
   "execution_count": 63,
   "metadata": {},
   "outputs": [],
   "source": [
    "soup=BeautifulSoup(driver.page_source,\"html.parser\")"
   ]
  },
  {
   "cell_type": "code",
   "execution_count": null,
   "metadata": {},
   "outputs": [],
   "source": [
    "<div class=\"broker_info\">\n",
    "                            <h2 class=\"p\">Jessica Ferguson <span class=\"title\">Broker&nbsp;</span></h2>\n",
    "                            <p class=\"email\"><a href=\"mailto:JessicaF@reidrealestate.com\">JessicaF@reidrealestate.com</a></p>\n",
    "                            <p class=\"telephone\">Office Direct: 360-277-5121<br></p>\n",
    "                            <p class=\"website\"><a target=\"_blank\" href=\"http://jessicaf.reidrealestate.com\">jessicaf.reidrealestate.com</a></p>                        </div>"
   ]
  },
  {
   "cell_type": "code",
   "execution_count": 69,
   "metadata": {},
   "outputs": [],
   "source": [
    "Name=[]\n",
    "Number=[]\n",
    "for i in soup.findAll('div',{'class':\"broker_info\"}):\n",
    "    Name.append(i.find('h2',{'class':\"p\"}).text)\n",
    "    Number.append(i.find('p',{'class':\"telephone\"}).text)"
   ]
  },
  {
   "cell_type": "code",
   "execution_count": 71,
   "metadata": {},
   "outputs": [
    {
     "data": {
      "text/plain": [
       "['Office Direct: 360-277-5121',\n",
       " 'Direct: 360-338-2461Office: 360-275-2868Fax: 360-277-5155',\n",
       " 'Direct: (360) 277-5120Cell: (360) 801-4921Office: (360) 275-2868Fax: (360) 277-5155',\n",
       " 'Office: (360) 275-2868Fax: (360) 275-0465',\n",
       " 'Office: (360) 275-2868',\n",
       " 'Cell: 360-271-5426Office: 360-275-2868',\n",
       " 'Direct: (360) 731-1040Office: (360) 275-2868Fax: (360) 277-5155',\n",
       " 'Office Direct: (360) 277-5101Office Main: (360) 275-2868Fax: (360) 277-5155Mobile: (401) 662-1633',\n",
       " 'Direct: (360) 277-5112Office: (360) 275-2868Fax: (360) 277-5155 :  ',\n",
       " 'Office: 360-275-2868Fax: 360-277-5155',\n",
       " 'Direct: (360) 277-5107Office: (360) 275-2868Fax: (360) 277-5155cell: 360-710-1446: ',\n",
       " 'Direct: (360) 277-1179Office: (360) 275-2868Fax: (360) 277-5155',\n",
       " 'Direct: (360) 275-2868Office: (360) 275-2868',\n",
       " 'Direct: (360) 277-5108Office: (360) 275-2868Fax: (360) 277-5155',\n",
       " 'Direct: (360) 277-5106Office: (360) 275-2868Fax: (360) 277-5155',\n",
       " 'Direct: (360) 731-1694Office: (360) 275-2868Fax: (360) 277-5155']"
      ]
     },
     "execution_count": 71,
     "metadata": {},
     "output_type": "execute_result"
    }
   ],
   "source": [
    "Number"
   ]
  },
  {
   "cell_type": "code",
   "execution_count": null,
   "metadata": {},
   "outputs": [],
   "source": []
  },
  {
   "cell_type": "code",
   "execution_count": null,
   "metadata": {},
   "outputs": [],
   "source": []
  },
  {
   "cell_type": "code",
   "execution_count": null,
   "metadata": {},
   "outputs": [],
   "source": [
    "for i in soup.findAll('span'):\n",
    "    print(i.text.strip())"
   ]
  },
  {
   "cell_type": "code",
   "execution_count": null,
   "metadata": {},
   "outputs": [],
   "source": [
    "agents=[]"
   ]
  },
  {
   "cell_type": "code",
   "execution_count": null,
   "metadata": {},
   "outputs": [],
   "source": [
    "soup=BeautifulSoup(driver.page_source,\"html.parser\")\n",
    "for link in soup.findAll('div',{'class':\"col-sm-12 col-md-6\"}):\n",
    "    parent = link.parent                            \n",
    "    for a in parent.findAll('a', href=True):\n",
    "        agents.append(a['href'])"
   ]
  },
  {
   "cell_type": "code",
   "execution_count": null,
   "metadata": {},
   "outputs": [],
   "source": [
    "len(agents)"
   ]
  },
  {
   "cell_type": "code",
   "execution_count": null,
   "metadata": {},
   "outputs": [],
   "source": [
    "seen={}\n",
    "agentsc = [seen.setdefault(x, x) for x in agents if x not in seen]\n",
    "len(agentsc)"
   ]
  },
  {
   "cell_type": "code",
   "execution_count": null,
   "metadata": {
    "scrolled": true
   },
   "outputs": [],
   "source": [
    "info=[]\n",
    "for i in agentsc:\n",
    "    driver.get(str(i))\n",
    "    sleep(3)\n",
    "    soup=BeautifulSoup(driver.page_source,\"html.parser\")\n",
    "    print(soup.find('div',{'class':\"large-4 medium-12 small-12 columns\"}).text.strip().strip())\n",
    "    info.append(soup.find('div',{'class':\"large-4 medium-12 small-12 columns\"}).text.strip())"
   ]
  },
  {
   "cell_type": "code",
   "execution_count": null,
   "metadata": {},
   "outputs": [],
   "source": [
    "info"
   ]
  },
  {
   "cell_type": "code",
   "execution_count": null,
   "metadata": {},
   "outputs": [],
   "source": []
  },
  {
   "cell_type": "code",
   "execution_count": 82,
   "metadata": {},
   "outputs": [],
   "source": [
    "Links=[]\n",
    "soup=BeautifulSoup(driver.page_source,\"html.parser\")\n",
    "for link in soup.find_all('a', href=True):\n",
    "    Links.append(link['href'])"
   ]
  },
  {
   "cell_type": "markdown",
   "metadata": {},
   "source": [
    "# vcrealtors."
   ]
  },
  {
   "cell_type": "code",
   "execution_count": 135,
   "metadata": {},
   "outputs": [],
   "source": [
    "Links93031=['https://ims.vcrealtors.com/scripts/mgrqispi.dll?APPNAME=IMS&PRGNAME=IMSListingAgentDetail&ARGUMENTS=-N211511277,-N509893954',\n",
    "           'https://ims.vcrealtors.com/scripts/mgrqispi.dll?APPNAME=IMS&PRGNAME=IMSListingAgentDetail&ARGUMENTS=-N211505505,-N509893954',\n",
    "           'https://ims.vcrealtors.com/scripts/mgrqispi.dll?APPNAME=IMS&PRGNAME=IMSListingAgentDetail&ARGUMENTS=-N211500843,-N509893954',\n",
    "           'https://ims.vcrealtors.com/scripts/mgrqispi.dll?APPNAME=IMS&PRGNAME=IMSListingAgentDetail&ARGUMENTS=-N211504947,-N509893954',\n",
    "           'https://ims.vcrealtors.com/scripts/mgrqispi.dll?APPNAME=IMS&PRGNAME=IMSListingAgentDetail&ARGUMENTS=-N211505218,-N509893954',\n",
    "           'https://ims.vcrealtors.com/scripts/mgrqispi.dll?APPNAME=IMS&PRGNAME=IMSListingAgentDetail&ARGUMENTS=-N211506429,-N509893954']"
   ]
  },
  {
   "cell_type": "code",
   "execution_count": 130,
   "metadata": {},
   "outputs": [],
   "source": []
  },
  {
   "cell_type": "code",
   "execution_count": 158,
   "metadata": {},
   "outputs": [],
   "source": [
    "Name=[]\n",
    "Number=[]\n",
    "Add=[]\n",
    "OfficeNum=[]\n",
    "OfficeName=[]\n",
    "for url in Links93036:\n",
    "    driver.get(url)\n",
    "    sleep(1)\n",
    "    soup=BeautifulSoup(driver.page_source,\"html.parser\")\n",
    "    try:\n",
    "        i=soup.find('table',{'class':\"table table-striped\"})\n",
    "        try:\n",
    "            Name.append(soup.find('h2',{'class':\"memberName\"}).text)\n",
    "        except:\n",
    "            Name.append(soup.find('div',{'class':\"col-md-3\"}).text)\n",
    "        tr=i.findAll('tr')\n",
    "        Add.append(tr[0].text.replace('\\n','').replace('                    ',' '))\n",
    "        Number.append(tr[1].text.replace('\\n',''))\n",
    "        OfficeNum.append(tr[2].text.replace('\\n',''))\n",
    "        td=i.findAll('td',{'valign':\"top\"})\n",
    "        OfficeName.append(td[1].a.text)\n",
    "    except:\n",
    "        Name.append('NA')\n",
    "        Add.append('NA')\n",
    "        Number.append('NA')        \n",
    "        OfficeNum.append('NA')        "
   ]
  },
  {
   "cell_type": "code",
   "execution_count": 159,
   "metadata": {},
   "outputs": [
    {
     "name": "stdout",
     "output_type": "stream",
     "text": [
      "100\n",
      "100\n",
      "0\n"
     ]
    }
   ],
   "source": [
    "print(len(Name))\n",
    "print(len(Number))\n",
    "print(len(Add)-len(OfficeNum))"
   ]
  },
  {
   "cell_type": "code",
   "execution_count": 160,
   "metadata": {},
   "outputs": [
    {
     "data": {
      "text/html": [
       "<div>\n",
       "<style scoped>\n",
       "    .dataframe tbody tr th:only-of-type {\n",
       "        vertical-align: middle;\n",
       "    }\n",
       "\n",
       "    .dataframe tbody tr th {\n",
       "        vertical-align: top;\n",
       "    }\n",
       "\n",
       "    .dataframe thead th {\n",
       "        text-align: right;\n",
       "    }\n",
       "</style>\n",
       "<table border=\"1\" class=\"dataframe\">\n",
       "  <thead>\n",
       "    <tr style=\"text-align: right;\">\n",
       "      <th></th>\n",
       "      <th>Name</th>\n",
       "      <th>Add</th>\n",
       "      <th>Agent</th>\n",
       "      <th>Mobile</th>\n",
       "      <th>Office number</th>\n",
       "      <th>Office Name</th>\n",
       "    </tr>\n",
       "  </thead>\n",
       "  <tbody>\n",
       "    <tr>\n",
       "      <th>0</th>\n",
       "      <td>Daniel Abeloe</td>\n",
       "      <td>Office:Keller Williams West Ventura County 275...</td>\n",
       "      <td>Agent</td>\n",
       "      <td>Phone Number:805-766-2365</td>\n",
       "      <td>Office Phone:805-643-3337</td>\n",
       "      <td>Keller Williams West Ventura County</td>\n",
       "    </tr>\n",
       "    <tr>\n",
       "      <th>1</th>\n",
       "      <td>Maria Elena Acosta</td>\n",
       "      <td>Office:Realty Services 2291 North Patterson Rd...</td>\n",
       "      <td>Agent</td>\n",
       "      <td>Phone Number:805-377-1806</td>\n",
       "      <td>Office Phone:805-981-3877</td>\n",
       "      <td>Realty Services</td>\n",
       "    </tr>\n",
       "    <tr>\n",
       "      <th>2</th>\n",
       "      <td>Cesar Adrian</td>\n",
       "      <td>Office:Truth Realty 1000 Town Center Dr. Suite...</td>\n",
       "      <td>Agent</td>\n",
       "      <td>Phone Number:805-390-9662</td>\n",
       "      <td>Office Phone:805-760-5595</td>\n",
       "      <td>Truth Realty</td>\n",
       "    </tr>\n",
       "    <tr>\n",
       "      <th>3</th>\n",
       "      <td>Angel Aghamalian</td>\n",
       "      <td>Office:Keller Williams West Ventura County 275...</td>\n",
       "      <td>Agent</td>\n",
       "      <td>Phone Number:818-522-3919</td>\n",
       "      <td>Office Phone:805-643-3337</td>\n",
       "      <td>Keller Williams West Ventura County</td>\n",
       "    </tr>\n",
       "    <tr>\n",
       "      <th>4</th>\n",
       "      <td>Saul Aguilar</td>\n",
       "      <td>Office:Alliance Realty Group 500 E. Esplanade ...</td>\n",
       "      <td>Agent</td>\n",
       "      <td>Phone Number:805-479-5099</td>\n",
       "      <td>Office Phone:805-351-0860</td>\n",
       "      <td>Alliance Realty Group</td>\n",
       "    </tr>\n",
       "    <tr>\n",
       "      <th>...</th>\n",
       "      <td>...</td>\n",
       "      <td>...</td>\n",
       "      <td>...</td>\n",
       "      <td>...</td>\n",
       "      <td>...</td>\n",
       "      <td>...</td>\n",
       "    </tr>\n",
       "    <tr>\n",
       "      <th>95</th>\n",
       "      <td>Nissa Gay</td>\n",
       "      <td>Office:Keller Williams West Ventura County 275...</td>\n",
       "      <td>Agent</td>\n",
       "      <td>Phone Number:805-889-9016</td>\n",
       "      <td>Office Phone:805-643-3337</td>\n",
       "      <td>Keller Williams West Ventura County</td>\n",
       "    </tr>\n",
       "    <tr>\n",
       "      <th>96</th>\n",
       "      <td>Lihi Gershater</td>\n",
       "      <td>Office:Coldwell Banker Realty 300 E Esplanade ...</td>\n",
       "      <td>Agent</td>\n",
       "      <td>Phone Number:805-889-4333</td>\n",
       "      <td>Office Phone:805-648-5051</td>\n",
       "      <td>Coldwell Banker Realty</td>\n",
       "    </tr>\n",
       "    <tr>\n",
       "      <th>97</th>\n",
       "      <td>Michael Glennon</td>\n",
       "      <td>Office:Keller Williams West Ventura County 275...</td>\n",
       "      <td>Agent</td>\n",
       "      <td>Phone Number:805-798-3249</td>\n",
       "      <td>Office Phone:805-643-3337</td>\n",
       "      <td>Keller Williams West Ventura County</td>\n",
       "    </tr>\n",
       "    <tr>\n",
       "      <th>98</th>\n",
       "      <td>Kristy Glinski</td>\n",
       "      <td>Office:Keller Williams West Ventura County 275...</td>\n",
       "      <td>Agent</td>\n",
       "      <td>Phone Number:805-302-7004</td>\n",
       "      <td>Office Phone:805-643-3337</td>\n",
       "      <td>Keller Williams West Ventura County</td>\n",
       "    </tr>\n",
       "    <tr>\n",
       "      <th>99</th>\n",
       "      <td>Sonia Gonzales</td>\n",
       "      <td>Office:Global 365 Real Estate Company 300 E. E...</td>\n",
       "      <td>Agent</td>\n",
       "      <td>Phone Number:805-377-4750</td>\n",
       "      <td>Office Phone:805-844-9623</td>\n",
       "      <td>Global 365 Real Estate Company</td>\n",
       "    </tr>\n",
       "  </tbody>\n",
       "</table>\n",
       "<p>100 rows × 6 columns</p>\n",
       "</div>"
      ],
      "text/plain": [
       "                  Name                                                Add  \\\n",
       "0        Daniel Abeloe  Office:Keller Williams West Ventura County 275...   \n",
       "1   Maria Elena Acosta  Office:Realty Services 2291 North Patterson Rd...   \n",
       "2         Cesar Adrian  Office:Truth Realty 1000 Town Center Dr. Suite...   \n",
       "3     Angel Aghamalian  Office:Keller Williams West Ventura County 275...   \n",
       "4         Saul Aguilar  Office:Alliance Realty Group 500 E. Esplanade ...   \n",
       "..                 ...                                                ...   \n",
       "95           Nissa Gay  Office:Keller Williams West Ventura County 275...   \n",
       "96      Lihi Gershater  Office:Coldwell Banker Realty 300 E Esplanade ...   \n",
       "97     Michael Glennon  Office:Keller Williams West Ventura County 275...   \n",
       "98      Kristy Glinski  Office:Keller Williams West Ventura County 275...   \n",
       "99      Sonia Gonzales  Office:Global 365 Real Estate Company 300 E. E...   \n",
       "\n",
       "    Agent                     Mobile              Office number  \\\n",
       "0   Agent  Phone Number:805-766-2365  Office Phone:805-643-3337   \n",
       "1   Agent  Phone Number:805-377-1806  Office Phone:805-981-3877   \n",
       "2   Agent  Phone Number:805-390-9662  Office Phone:805-760-5595   \n",
       "3   Agent  Phone Number:818-522-3919  Office Phone:805-643-3337   \n",
       "4   Agent  Phone Number:805-479-5099  Office Phone:805-351-0860   \n",
       "..    ...                        ...                        ...   \n",
       "95  Agent  Phone Number:805-889-9016  Office Phone:805-643-3337   \n",
       "96  Agent  Phone Number:805-889-4333  Office Phone:805-648-5051   \n",
       "97  Agent  Phone Number:805-798-3249  Office Phone:805-643-3337   \n",
       "98  Agent  Phone Number:805-302-7004  Office Phone:805-643-3337   \n",
       "99  Agent  Phone Number:805-377-4750  Office Phone:805-844-9623   \n",
       "\n",
       "                            Office Name  \n",
       "0   Keller Williams West Ventura County  \n",
       "1                       Realty Services  \n",
       "2                          Truth Realty  \n",
       "3   Keller Williams West Ventura County  \n",
       "4                 Alliance Realty Group  \n",
       "..                                  ...  \n",
       "95  Keller Williams West Ventura County  \n",
       "96               Coldwell Banker Realty  \n",
       "97  Keller Williams West Ventura County  \n",
       "98  Keller Williams West Ventura County  \n",
       "99       Global 365 Real Estate Company  \n",
       "\n",
       "[100 rows x 6 columns]"
      ]
     },
     "execution_count": 160,
     "metadata": {},
     "output_type": "execute_result"
    }
   ],
   "source": [
    "data = pd.DataFrame({\n",
    "'Name': Name,\n",
    "'Add': Add,\n",
    "'Agent': 'Agent',\n",
    "'Mobile': Number,\n",
    "'Office number': OfficeNum,\n",
    "'Office Name': OfficeName,\n",
    "})\n",
    "data"
   ]
  },
  {
   "cell_type": "code",
   "execution_count": 161,
   "metadata": {},
   "outputs": [],
   "source": [
    "data.to_csv('out93036.csv', index  = False)"
   ]
  },
  {
   "cell_type": "code",
   "execution_count": null,
   "metadata": {},
   "outputs": [],
   "source": []
  }
 ],
 "metadata": {
  "kernelspec": {
   "display_name": "Python 3",
   "language": "python",
   "name": "python3"
  },
  "language_info": {
   "codemirror_mode": {
    "name": "ipython",
    "version": 3
   },
   "file_extension": ".py",
   "mimetype": "text/x-python",
   "name": "python",
   "nbconvert_exporter": "python",
   "pygments_lexer": "ipython3",
   "version": "3.7.6"
  }
 },
 "nbformat": 4,
 "nbformat_minor": 4
}
