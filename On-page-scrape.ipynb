{
 "cells": [
  {
   "cell_type": "code",
   "execution_count": 1,
   "metadata": {},
   "outputs": [],
   "source": [
    "import pandas as pd\n",
    "import csv\n",
    "from bs4 import BeautifulSoup\n",
    "from selenium import webdriver\n",
    "from time import sleep\n",
    "from selenium.webdriver.common.keys import Keys"
   ]
  },
  {
   "cell_type": "code",
   "execution_count": 2,
   "metadata": {
    "scrolled": true
   },
   "outputs": [],
   "source": [
    "driver = webdriver.Chrome(executable_path=r'C:\\Users\\Justin Robin\\.wdm\\drivers\\chromedriver\\83.0.4103.39\\win32\\chromedriver.exe')   \n",
    "url = 'https://www.coldwellbanker.com/coldwell-banker-residential-brokerage_-central-pennsylvania-12617c/york-office-363209d'\n",
    "driver.get(url)"
   ]
  },
  {
   "cell_type": "markdown",
   "metadata": {},
   "source": [
    "# wrealestate"
   ]
  },
  {
   "cell_type": "code",
   "execution_count": null,
   "metadata": {},
   "outputs": [],
   "source": [
    "Name=[]\n",
    "Number=[]\n",
    "soup=BeautifulSoup(driver.page_source,\"html.parser\")\n",
    "for i in soup.findAll('div',{'class':\"aos-agent-card col-xs-12 col-sm-4 col-md-3\"}):\n",
    "    Name.append(i.h4.text.strip())\n",
    "    Number.append(i.find('div',{'class':\"aos-agent-phone-list clearfix\"}).a.text)"
   ]
  },
  {
   "cell_type": "code",
   "execution_count": null,
   "metadata": {},
   "outputs": [],
   "source": [
    "print(len(Name))\n",
    "print(len(Number))"
   ]
  },
  {
   "cell_type": "code",
   "execution_count": null,
   "metadata": {},
   "outputs": [],
   "source": [
    "soup.find('div',{'class':\"col-md-12 col-xs-12\"}).text.replace('\\n','').replace('                            ',' ')"
   ]
  },
  {
   "cell_type": "code",
   "execution_count": null,
   "metadata": {},
   "outputs": [],
   "source": [
    "data = pd.DataFrame({\n",
    "'Name': Name,\n",
    "'Add': '539 Broadway Suite B',\n",
    "'city': 'Sonoma',\n",
    "'state':'CA',\n",
    "'zip':'95476',\n",
    "'Agent': 'Agent',\n",
    "'Mobile': Number,\n",
    "'Office number': '(707) 591-0570',\n",
    "'Office Name': 'Wrealestate Sonoma',})\n",
    "data.head()"
   ]
  },
  {
   "cell_type": "code",
   "execution_count": null,
   "metadata": {},
   "outputs": [],
   "source": [
    "data.to_csv('Wrealestate Sonoma .csv', index  = False)"
   ]
  },
  {
   "cell_type": "code",
   "execution_count": null,
   "metadata": {},
   "outputs": [],
   "source": [
    "soup=BeautifulSoup(driver.page_source,\"html.parser\")"
   ]
  },
  {
   "cell_type": "code",
   "execution_count": null,
   "metadata": {},
   "outputs": [],
   "source": [
    "for i in soup.findAll('div',{'class':\"agent-info w-100\"}):\n",
    "    p=i.findAll('p')\n",
    "    print(p[2].text)"
   ]
  },
  {
   "cell_type": "code",
   "execution_count": null,
   "metadata": {},
   "outputs": [],
   "source": [
    "soup.find('div',{'class':\"agent-info w-100\"})"
   ]
  },
  {
   "cell_type": "code",
   "execution_count": null,
   "metadata": {},
   "outputs": [],
   "source": []
  },
  {
   "cell_type": "code",
   "execution_count": null,
   "metadata": {},
   "outputs": [],
   "source": []
  },
  {
   "cell_type": "code",
   "execution_count": null,
   "metadata": {},
   "outputs": [],
   "source": []
  },
  {
   "cell_type": "markdown",
   "metadata": {},
   "source": [
    "# watsonrealtycorp"
   ]
  },
  {
   "cell_type": "code",
   "execution_count": null,
   "metadata": {},
   "outputs": [],
   "source": [
    "Number=[]\n",
    "Name=[]"
   ]
  },
  {
   "cell_type": "code",
   "execution_count": null,
   "metadata": {},
   "outputs": [],
   "source": [
    "soup=BeautifulSoup(driver.page_source,\"html.parser\")\n",
    "for i in soup.findAll('div',{'class':\"col-sm-6 col-md-6 col-lg-4 margin-bottom-60\"}):\n",
    "    Name.append(i.find('div',{'class':\"title-block margin-bottom-20\"}).text.replace('\\t','').replace('\\n',''))\n",
    "    Number.append(i.find('div',{'class':'pull-left'}).text.replace('\\t','').replace('\\n','').replace('  – Mobile',''))"
   ]
  },
  {
   "cell_type": "code",
   "execution_count": null,
   "metadata": {},
   "outputs": [],
   "source": [
    "print(len(Name))\n",
    "print(len(Number))"
   ]
  },
  {
   "cell_type": "code",
   "execution_count": null,
   "metadata": {},
   "outputs": [],
   "source": [
    "data = pd.DataFrame({\n",
    "'Name': Name,\n",
    "'Add': '1504 South Atlantic Ave.',\n",
    "'city': 'New Smyrna Beach',\n",
    "'state':'FL',\n",
    "'zip':'32169-3102',\n",
    "'Agent': 'Agent',\n",
    "'Mobile': Number,\n",
    "'Office number': '(386) 428-7355',\n",
    "'Office Name': 'New Smyrna Beach Watson Realty Corp. REALTORS®',})\n",
    "data.head()"
   ]
  },
  {
   "cell_type": "code",
   "execution_count": null,
   "metadata": {},
   "outputs": [],
   "source": [
    "data.to_csv('New Smyrna Beach Watson Realty Corp. REALTORS®.csv', index  = False)"
   ]
  },
  {
   "cell_type": "markdown",
   "metadata": {},
   "source": [
    "\n",
    "\n",
    "\n",
    "\n"
   ]
  },
  {
   "cell_type": "markdown",
   "metadata": {},
   "source": [
    "# Better Properties"
   ]
  },
  {
   "cell_type": "code",
   "execution_count": null,
   "metadata": {},
   "outputs": [],
   "source": [
    "soup=BeautifulSoup(driver.page_source,\"html.parser\")"
   ]
  },
  {
   "cell_type": "code",
   "execution_count": null,
   "metadata": {},
   "outputs": [],
   "source": [
    "Name=[]\n",
    "Number=[]\n",
    "for i in soup.findAll('div',{'class':\"agentbox\"}):\n",
    "    Name.append(i.find('div',{'class':\"agentname\"}).text.strip())\n",
    "    Number.append(i.find('span').text.strip())"
   ]
  },
  {
   "cell_type": "code",
   "execution_count": null,
   "metadata": {},
   "outputs": [],
   "source": [
    "print(len(Name))\n",
    "print(len(Number))"
   ]
  },
  {
   "cell_type": "code",
   "execution_count": null,
   "metadata": {},
   "outputs": [],
   "source": [
    "data = pd.DataFrame({\n",
    "'Name': Name,\n",
    "'Add': '26569 Lindvog Road NE',\n",
    "'city': 'Bremerton',\n",
    "'state':'WA',\n",
    "'zip':'98312',\n",
    "'Agent': 'Agent',\n",
    "'Mobile': Number,\n",
    "'Office number': '360-479-6700',\n",
    "'Office Name': 'Better Properties Kitsap'})\n",
    "data.head()"
   ]
  },
  {
   "cell_type": "code",
   "execution_count": null,
   "metadata": {},
   "outputs": [],
   "source": [
    "data.to_csv('Better Properties Kitsap.csv', index  = False)"
   ]
  },
  {
   "cell_type": "code",
   "execution_count": null,
   "metadata": {},
   "outputs": [],
   "source": []
  },
  {
   "cell_type": "code",
   "execution_count": null,
   "metadata": {},
   "outputs": [],
   "source": []
  },
  {
   "cell_type": "code",
   "execution_count": null,
   "metadata": {},
   "outputs": [],
   "source": []
  },
  {
   "cell_type": "code",
   "execution_count": null,
   "metadata": {},
   "outputs": [],
   "source": []
  },
  {
   "cell_type": "code",
   "execution_count": null,
   "metadata": {},
   "outputs": [],
   "source": []
  },
  {
   "cell_type": "markdown",
   "metadata": {},
   "source": [
    "# windermere"
   ]
  },
  {
   "cell_type": "code",
   "execution_count": null,
   "metadata": {},
   "outputs": [],
   "source": []
  },
  {
   "cell_type": "code",
   "execution_count": null,
   "metadata": {},
   "outputs": [],
   "source": [
    "Name=[]\n",
    "Title=[]\n",
    "Number=[]\n",
    "soup=BeautifulSoup(driver.page_source,\"html.parser\")\n",
    "for i in soup.findAll('div',{'class':\"aos-agent-meta\"}):\n",
    "    Name.append(i.h4.text.strip())\n",
    "    p=i.findAll('p')\n",
    "    try:\n",
    "        Number.append(p[3].text.replace(' ','').replace('\\n','').replace('Office:(360) 297-2661',''))\n",
    "    except:\n",
    "        Number.append(p[2].text.replace(' ','').replace('\\n','').replace('Office:(360) 297-2661',''))\n",
    "    Title.append(p[2].text.strip())    "
   ]
  },
  {
   "cell_type": "code",
   "execution_count": null,
   "metadata": {},
   "outputs": [],
   "source": [
    "print(len(Name))\n",
    "print(len(Number))"
   ]
  },
  {
   "cell_type": "code",
   "execution_count": null,
   "metadata": {},
   "outputs": [],
   "source": [
    " 26569 Lindvog Road NE\n",
    "\n",
    "Kingston, WA 98346\n",
    "Get Directions\n",
    "Office (360) 297-2661"
   ]
  },
  {
   "cell_type": "code",
   "execution_count": null,
   "metadata": {},
   "outputs": [],
   "source": [
    "data = pd.DataFrame({\n",
    "'Name': Name,\n",
    "'Add': '26569 Lindvog Road NE',\n",
    "'city': 'Kingston',\n",
    "'state':'WA',\n",
    "'zip':'98346',\n",
    "'Agent': Title,\n",
    "'Mobile': Number,\n",
    "'Office number': '(360) 297-2661',\n",
    "'Office Name': 'Windermere Real Estate/West Sound, Inc.'})\n",
    "data"
   ]
  },
  {
   "cell_type": "code",
   "execution_count": null,
   "metadata": {},
   "outputs": [],
   "source": [
    "data.to_csv('Windermere Real Estatest Sound, Inc.csv', index  = False)"
   ]
  },
  {
   "cell_type": "code",
   "execution_count": null,
   "metadata": {},
   "outputs": [],
   "source": []
  },
  {
   "cell_type": "code",
   "execution_count": null,
   "metadata": {},
   "outputs": [],
   "source": []
  },
  {
   "cell_type": "code",
   "execution_count": null,
   "metadata": {},
   "outputs": [],
   "source": []
  },
  {
   "cell_type": "code",
   "execution_count": null,
   "metadata": {},
   "outputs": [],
   "source": []
  },
  {
   "cell_type": "code",
   "execution_count": null,
   "metadata": {},
   "outputs": [],
   "source": []
  },
  {
   "cell_type": "code",
   "execution_count": null,
   "metadata": {},
   "outputs": [],
   "source": []
  },
  {
   "cell_type": "markdown",
   "metadata": {},
   "source": [
    "# gardnerrealtors"
   ]
  },
  {
   "cell_type": "code",
   "execution_count": null,
   "metadata": {},
   "outputs": [],
   "source": [
    "Name=[]\n",
    "Number=[]\n",
    "soup=BeautifulSoup(driver.page_source,\"html.parser\")\n",
    "for i in soup.findAll('div',{'class':\"agent-info\"}):\n",
    "    Name.append(i.find('h5',{'class':\"letters-75 name\"}).text.strip())\n",
    "    try:\n",
    "        Number.append(i.find('span',{'class':\"lower col-sm-9\"}).text.strip())\n",
    "    except:\n",
    "        Number.append('Na')\n",
    "    "
   ]
  },
  {
   "cell_type": "code",
   "execution_count": null,
   "metadata": {},
   "outputs": [],
   "source": [
    "print(len(Name))\n",
    "print(len(Number))"
   ]
  },
  {
   "cell_type": "code",
   "execution_count": null,
   "metadata": {},
   "outputs": [],
   "source": [
    "data = pd.DataFrame({\n",
    "'Name': Name,\n",
    "'Add': '7934 Maple St.',\n",
    "'city': 'New Orleans',\n",
    "'state':'LA',\n",
    "'zip':'70118',\n",
    "\"empty\": ' ',\n",
    "'Agent': 'REALTOR',\n",
    "\"empty1\": ' ',\n",
    "'Mobile': Number,\n",
    "'Office number': '504.861.7575',\n",
    "\"empty2\": ' ',\n",
    "'Office Name': 'Gardnerrealtors Uptown',})\n",
    "data.tail()"
   ]
  },
  {
   "cell_type": "code",
   "execution_count": null,
   "metadata": {},
   "outputs": [],
   "source": [
    "data.to_csv('Gardnerrealtors Uptown.csv', index  = False)"
   ]
  },
  {
   "cell_type": "code",
   "execution_count": null,
   "metadata": {},
   "outputs": [],
   "source": []
  },
  {
   "cell_type": "code",
   "execution_count": null,
   "metadata": {},
   "outputs": [],
   "source": []
  },
  {
   "cell_type": "code",
   "execution_count": null,
   "metadata": {},
   "outputs": [],
   "source": []
  },
  {
   "cell_type": "code",
   "execution_count": null,
   "metadata": {},
   "outputs": [],
   "source": [
    "Office_Name=[]\n",
    "Name=[]\n",
    "Title=[]\n",
    "Office_Name=[]\n",
    "office_num=[]\n",
    "Number=[]\n",
    "numbackup=[]"
   ]
  },
  {
   "cell_type": "code",
   "execution_count": null,
   "metadata": {},
   "outputs": [],
   "source": [
    "soup=BeautifulSoup(driver.page_source,\"html.parser\")"
   ]
  },
  {
   "cell_type": "code",
   "execution_count": null,
   "metadata": {},
   "outputs": [],
   "source": [
    "for i in soup.findAll('h2',{'style':\"text-align: center; line-height: 1\"}):\n",
    "    Name.append(i.text)\n",
    "for j in soup.findAll('div',{'class':\"listing-box-content\"}):\n",
    "    x=j.findAll('a')\n",
    "    try:\n",
    "        Number.append(x[4].text)\n",
    "    except:\n",
    "        Number.append(\"NA\")"
   ]
  },
  {
   "cell_type": "code",
   "execution_count": null,
   "metadata": {},
   "outputs": [],
   "source": [
    "print(len(Name))\n",
    "print(len(Number))\n",
    "print(len(Title))"
   ]
  },
  {
   "cell_type": "code",
   "execution_count": null,
   "metadata": {},
   "outputs": [],
   "source": [
    "data = pd.DataFrame({\n",
    "'Name': Name,\n",
    "'Add': '33 Public Square',\n",
    "'city': 'Brecksville',\n",
    "'state':'OH',\n",
    "'zip':'44141',\n",
    "'Empty2':' ',\n",
    "'Agent': 'Agents',\n",
    "'Empty':' ',\n",
    "'Mobile': Number,\n",
    "'Office number': '440-482-8755',\n",
    "'Empty1':' ',\n",
    "'Office Name': 'Russell Real Estate Services - Brecksville',})\n",
    "data.tail()"
   ]
  },
  {
   "cell_type": "code",
   "execution_count": null,
   "metadata": {},
   "outputs": [],
   "source": [
    "data.to_csv('Russell Real Estate Services - Brecksville.csv', index  = False)"
   ]
  },
  {
   "cell_type": "markdown",
   "metadata": {},
   "source": [
    "## fmrealty"
   ]
  },
  {
   "cell_type": "code",
   "execution_count": null,
   "metadata": {},
   "outputs": [],
   "source": [
    "Links=[]\n",
    "soup=BeautifulSoup(driver.page_source,\"html.parser\")\n",
    "for i in soup.findAll('td',{'class':\"name\"}):\n",
    "    Links.append(i.a['href'])"
   ]
  },
  {
   "cell_type": "code",
   "execution_count": null,
   "metadata": {},
   "outputs": [],
   "source": [
    "Office_Name=[]\n",
    "Name=[]\n",
    "Title=[]\n",
    "Office_Name=[]\n",
    "office_num=[]\n",
    "Number=[]\n",
    "numbackup=[]"
   ]
  },
  {
   "cell_type": "code",
   "execution_count": null,
   "metadata": {},
   "outputs": [],
   "source": [
    "for url in Links:\n",
    "    driver.get('https://www.fmrealty.com'+url)\n",
    "    sleep(1)\n",
    "    soup=BeautifulSoup(driver.page_source,\"html.parser\")\n",
    "    try:\n",
    "        Name.append(soup.find('h3',{'class':\"agent-name\"}).text)\n",
    "        Title.append(soup.find('h4',{'class':\"agent-title\"}).text)\n",
    "        Number.append(soup.find('div',{'id':\"agent-details\"}).p.text.strip().replace('\\n',':').replace('Cell: ','').replace('Direct: ','').replace('Fax: ',''))\n",
    "    except:\n",
    "        Name.append('NA')\n",
    "        Title.append('NA')\n",
    "        Number.append('NA')"
   ]
  },
  {
   "cell_type": "code",
   "execution_count": null,
   "metadata": {},
   "outputs": [],
   "source": [
    "print(len(Name))\n",
    "print(len(Number))\n",
    "print(len(Title))"
   ]
  },
  {
   "cell_type": "code",
   "execution_count": null,
   "metadata": {},
   "outputs": [],
   "source": [
    "data = pd.DataFrame({\n",
    "'Name': Name,\n",
    "'Add': '27121 Center Ridge Road',\n",
    "'city': 'Cary',\n",
    "'state':'NC',\n",
    "'zip':'27519',\n",
    "'Empty':' ',\n",
    "'Agent': Title,\n",
    "'Email':' ',\n",
    "'Mobile': Number,\n",
    "'Office number': '(919) 469-6300',\n",
    "'Empty 1':' ',\n",
    "'Office Name': 'fmrealty Preston Sales Office'})\n",
    "data.head()"
   ]
  },
  {
   "cell_type": "code",
   "execution_count": null,
   "metadata": {},
   "outputs": [],
   "source": [
    "data.to_csv('fmrealty Preston Sales Office.csv', index  = False)"
   ]
  },
  {
   "cell_type": "markdown",
   "metadata": {},
   "source": [
    "## End"
   ]
  },
  {
   "cell_type": "markdown",
   "metadata": {},
   "source": [
    "## GREENRIDGE REALTY"
   ]
  },
  {
   "cell_type": "code",
   "execution_count": null,
   "metadata": {},
   "outputs": [],
   "source": []
  },
  {
   "cell_type": "code",
   "execution_count": null,
   "metadata": {},
   "outputs": [],
   "source": [
    "Name=[]\n",
    "Number=[]"
   ]
  },
  {
   "cell_type": "code",
   "execution_count": null,
   "metadata": {},
   "outputs": [],
   "source": [
    "soup=BeautifulSoup(driver.page_source,\"html.parser\")\n",
    "for i in soup.findAll('div',{'class':\"agent-info\"}):\n",
    "    Name.append(i.find('span',{'class':\"agent-name medium-text\"}).text.strip())\n",
    "    Number.append(i.find('a',{'class':\"non-link\"}).text)"
   ]
  },
  {
   "cell_type": "code",
   "execution_count": null,
   "metadata": {},
   "outputs": [],
   "source": [
    "print(len(Name))\n",
    "print(len(Number))\n",
    "print(Name[-1])"
   ]
  },
  {
   "cell_type": "code",
   "execution_count": null,
   "metadata": {},
   "outputs": [],
   "source": [
    "Number.remove('616-974-6982')"
   ]
  },
  {
   "cell_type": "code",
   "execution_count": null,
   "metadata": {},
   "outputs": [],
   "source": [
    "Name.remove('Courtney Thibeault')"
   ]
  },
  {
   "cell_type": "code",
   "execution_count": null,
   "metadata": {},
   "outputs": [],
   "source": [
    "data = pd.DataFrame({\n",
    "'Name': Name,\n",
    "'Add': '2450 Ruddiman Dr',\n",
    "'city': 'North Muskegon',\n",
    "'state':'MI',\n",
    "'zip':'49445',\n",
    "'Empty 1':' ',\n",
    "'Agent': 'Agent',\n",
    "'Empty 2':' ',\n",
    "'Mobile': Number,\n",
    "'Office number': '(231) 744-1626',\n",
    "'Empty 3':' ',\n",
    "'Office Name': 'GLOBAL RELOCATION SERVICES'})\n",
    "data"
   ]
  },
  {
   "cell_type": "code",
   "execution_count": null,
   "metadata": {},
   "outputs": [],
   "source": [
    "data.to_csv('RI real estate services.csv', index  = False)"
   ]
  },
  {
   "cell_type": "code",
   "execution_count": null,
   "metadata": {},
   "outputs": [],
   "source": []
  },
  {
   "cell_type": "code",
   "execution_count": null,
   "metadata": {},
   "outputs": [],
   "source": []
  },
  {
   "cell_type": "code",
   "execution_count": null,
   "metadata": {},
   "outputs": [],
   "source": [
    "soup=BeautifulSoup(driver.page_source,\"html.parser\")\n",
    "for agent in soup.findAll('div',{'class':\"entry-content\"}):\n",
    "    agent.findAll('p')\n",
    "    Name.append(agent.find('h3',{'class':\"staff-member-name\"}).text)\n",
    "    Title.append(agent.find('h4',{'class':\"staff-member-position\"}).text)\n",
    "    #num=agent.findAll('div',{'class':\"contact-info\"})\n",
    "    Number.append(agent.find('div',{'class':\"contact-info\"}).text.strip())"
   ]
  },
  {
   "cell_type": "code",
   "execution_count": null,
   "metadata": {},
   "outputs": [],
   "source": [
    "print(len(Links))\n",
    "print(Links[-1])"
   ]
  },
  {
   "cell_type": "code",
   "execution_count": null,
   "metadata": {},
   "outputs": [],
   "source": [
    "soup=BeautifulSoup(driver.page_source,\"html.parser\")"
   ]
  },
  {
   "cell_type": "code",
   "execution_count": null,
   "metadata": {},
   "outputs": [],
   "source": [
    "info=soup.find('div',{'class':\"agent-details vcard\"}).findAll('p')\n",
    "Title.append(info[0].text)\n",
    "Office_Num.append(info[1].text)\n",
    "Number.append(info[2].text)"
   ]
  },
  {
   "cell_type": "code",
   "execution_count": null,
   "metadata": {},
   "outputs": [],
   "source": [
    "for url in Links:\n",
    "    driver.get(url)x\n",
    "    sleep(1)\n",
    "    soup=BeautifulSoup(driver.page_source,\"html.parser\")\n",
    "    try:\n",
    "        Name.append(soup.find('h1',{'class':\"entry-title\"}).text)\n",
    "        info=soup.find('div',{'class':\"agent-details vcard\"}).findAll('p')\n",
    "        Title.append(info[0].text)\n",
    "        Office_Num.append(info[1].text)\n",
    "        Number.append(info[2].text)\n",
    "    except:\n",
    "        Name.append('NA')\n",
    "        info.append('NA')"
   ]
  },
  {
   "cell_type": "code",
   "execution_count": null,
   "metadata": {},
   "outputs": [],
   "source": [
    "print(len(Name))\n",
    "print(len(Number))\n",
    "print(len(Title))"
   ]
  },
  {
   "cell_type": "code",
   "execution_count": null,
   "metadata": {},
   "outputs": [],
   "source": [
    "data = pd.DataFrame({\n",
    "'Name': Name,\n",
    "'Add': '11980 NE 24th Street, Suite 210',\n",
    "'city': 'Bellevue',\n",
    "'state':'WA',\n",
    "'zip':'98005',\n",
    "'Empty 1':' ',\n",
    "'Agent': Title,\n",
    "'Empty 2':' ',\n",
    "'Mobile': Number,\n",
    "'Office number': '844.370.7700',\n",
    "'Empty 3':' ',\n",
    "'Office Name': 'caliberrealestate'})\n",
    "data.tail()"
   ]
  },
  {
   "cell_type": "code",
   "execution_count": null,
   "metadata": {},
   "outputs": [],
   "source": [
    "data.to_csv('caliberrealestate.csv', index  = False)"
   ]
  },
  {
   "cell_type": "code",
   "execution_count": null,
   "metadata": {},
   "outputs": [],
   "source": []
  },
  {
   "cell_type": "code",
   "execution_count": null,
   "metadata": {},
   "outputs": [],
   "source": [
    "Links=[]\n",
    "Name=[]\n",
    "officename=[]\n",
    "Number=[]\n",
    "Add=[]\n",
    "city=[]\n",
    "State=[]\n",
    "zipcode=[]\n",
    "officenum=[]"
   ]
  },
  {
   "cell_type": "code",
   "execution_count": null,
   "metadata": {},
   "outputs": [],
   "source": [
    "for j in range(2,81):\n",
    "    try:\n",
    "        driver.get('https://www.realtor.com/realestateagents/78258'+'/pg-'+str(j))\n",
    "        soup=BeautifulSoup(driver.page_source,\"html.parser\")\n",
    "        for i in soup.findAll('div',{'class':\"agent-list-card clearfix\"}):\n",
    "            Links.append('https://www.realtor.com'+(i.find('a', href=True)['href']))\n",
    "        print(Links[-1])\n",
    "        print('page'+str(j))\n",
    "    except:\n",
    "        continue "
   ]
  },
  {
   "cell_type": "code",
   "execution_count": null,
   "metadata": {},
   "outputs": [],
   "source": [
    "for url in Links:\n",
    "    try:\n",
    "        driver.get(url)\n",
    "        sleep(1)\n",
    "    except:\n",
    "        continue\n",
    "    soup=BeautifulSoup(driver.page_source,\"html.parser\")\n",
    "    try:\n",
    "        Name.append(soup.find('p',{'class':\"profile-Tiltle-main\"}).text)\n",
    "    except:\n",
    "        Name.append('NA')\n",
    "    try:\n",
    "        officename.append(soup.find('p',{'class':\"profile-Tiltle-sub\"}).text)\n",
    "    except:\n",
    "        officename.append('NA')\n",
    "    try:\n",
    "        Number.append(soup.find('span',{'itemprop':\"telephone\"}).text)\n",
    "    except:\n",
    "        Number.append('NA')\n",
    "    try:\n",
    "        Add.append(soup.find('span',{'itemprop':\"streetAddress\"}).text)\n",
    "    except:\n",
    "        Add.append('NA')\n",
    "    try:\n",
    "        city.append(soup.find('span',{'itemprop':\"addressLocality\"}).text)\n",
    "    except:\n",
    "        city.append('NA')\n",
    "    try:\n",
    "        State.append(soup.find('span',{'itemprop':\"addressRegion\"}).text)\n",
    "    except:\n",
    "        State.append('NA')\n",
    "    try:\n",
    "        zipcode.append(soup.find('span',{'itemprop':\"postalCode\"}).text)\n",
    "    except:\n",
    "        zipcode.append('NA') \n",
    "    try:\n",
    "        officenum.append((soup.find_all('span',{'itemprop':\"telephone\"})[-1]).text)\n",
    "    except:\n",
    "        officenum.append('NA') "
   ]
  },
  {
   "cell_type": "code",
   "execution_count": null,
   "metadata": {},
   "outputs": [],
   "source": [
    " data = pd.DataFrame({\n",
    "'Name': Name,\n",
    "'Add': Add,\n",
    "'city': city,\n",
    "'state': State,\n",
    "'zip':zipcode,\n",
    "'Agent': 'Agent',\n",
    "'Mobile': Number,\n",
    "'Office Num': officenum,\n",
    "'Office Name': officename})\n",
    "data.head()"
   ]
  },
  {
   "cell_type": "code",
   "execution_count": null,
   "metadata": {},
   "outputs": [],
   "source": [
    "data.to_csv('www.realtor.csv', index  = False)"
   ]
  },
  {
   "cell_type": "code",
   "execution_count": null,
   "metadata": {},
   "outputs": [],
   "source": []
  },
  {
   "cell_type": "markdown",
   "metadata": {},
   "source": [
    "# For KW "
   ]
  },
  {
   "cell_type": "code",
   "execution_count": 4,
   "metadata": {},
   "outputs": [],
   "source": [
    "from time import sleep\n",
    "lenOfPage = driver.execute_script(\"window.scrollTo(0, document.body.scrollHeight);var lenOfPage=document.body.scrollHeight;return lenOfPage;\")\n",
    "match=False\n",
    "while(match==False):\n",
    "        lastCount = lenOfPage\n",
    "        sleep(3)\n",
    "        lenOfPage = driver.execute_script(\"window.scrollTo(0, document.body.scrollHeight);var lenOfPage=document.body.scrollHeight;return lenOfPage;\")\n",
    "        if lastCount==lenOfPage:\n",
    "            match=True"
   ]
  },
  {
   "cell_type": "code",
   "execution_count": 5,
   "metadata": {},
   "outputs": [],
   "source": [
    "Name=[]\n",
    "Mobile=[]\n",
    "soup=BeautifulSoup(driver.page_source,\"html.parser\")\n",
    "for i in soup.findAll('div',{'class':\"AssociateCard__body\"}):\n",
    "    Name.append(i.find('div',{ 'class':'AssociateCard__name'}).text)\n",
    "    try:\n",
    "        Mobile.append(i.find('a').text)\n",
    "    except:\n",
    "        Mobile.append('NA')"
   ]
  },
  {
   "cell_type": "code",
   "execution_count": 6,
   "metadata": {
    "scrolled": false
   },
   "outputs": [
    {
     "name": "stdout",
     "output_type": "stream",
     "text": [
      "120\n",
      "120\n",
      "0\n"
     ]
    }
   ],
   "source": [
    "print(len(Name))\n",
    "print(len(Mobile))\n",
    "print(len(Name)-len(Mobile))"
   ]
  },
  {
   "cell_type": "code",
   "execution_count": 7,
   "metadata": {},
   "outputs": [
    {
     "data": {
      "text/html": [
       "<div>\n",
       "<style scoped>\n",
       "    .dataframe tbody tr th:only-of-type {\n",
       "        vertical-align: middle;\n",
       "    }\n",
       "\n",
       "    .dataframe tbody tr th {\n",
       "        vertical-align: top;\n",
       "    }\n",
       "\n",
       "    .dataframe thead th {\n",
       "        text-align: right;\n",
       "    }\n",
       "</style>\n",
       "<table border=\"1\" class=\"dataframe\">\n",
       "  <thead>\n",
       "    <tr style=\"text-align: right;\">\n",
       "      <th></th>\n",
       "      <th>Name</th>\n",
       "      <th>Add</th>\n",
       "      <th>city</th>\n",
       "      <th>state</th>\n",
       "      <th>zip</th>\n",
       "      <th>Agent</th>\n",
       "      <th>Mobile</th>\n",
       "      <th>Office number</th>\n",
       "      <th>Office Name</th>\n",
       "    </tr>\n",
       "  </thead>\n",
       "  <tbody>\n",
       "    <tr>\n",
       "      <th>115</th>\n",
       "      <td>Janine Ward</td>\n",
       "      <td>9175 Carothers Parkway</td>\n",
       "      <td>Franklin</td>\n",
       "      <td>TN</td>\n",
       "      <td>37067</td>\n",
       "      <td>Agent</td>\n",
       "      <td>(503) 516-3748</td>\n",
       "      <td>(615) 778-1818</td>\n",
       "      <td>Keller Williams Realty Nashville - Franklin</td>\n",
       "    </tr>\n",
       "    <tr>\n",
       "      <th>116</th>\n",
       "      <td>Travis Watson</td>\n",
       "      <td>9175 Carothers Parkway</td>\n",
       "      <td>Franklin</td>\n",
       "      <td>TN</td>\n",
       "      <td>37067</td>\n",
       "      <td>Agent</td>\n",
       "      <td>(541) 604-4288</td>\n",
       "      <td>(615) 778-1818</td>\n",
       "      <td>Keller Williams Realty Nashville - Franklin</td>\n",
       "    </tr>\n",
       "    <tr>\n",
       "      <th>117</th>\n",
       "      <td>Tyler Weale</td>\n",
       "      <td>9175 Carothers Parkway</td>\n",
       "      <td>Franklin</td>\n",
       "      <td>TN</td>\n",
       "      <td>37067</td>\n",
       "      <td>Agent</td>\n",
       "      <td>(530) 262-0912</td>\n",
       "      <td>(615) 778-1818</td>\n",
       "      <td>Keller Williams Realty Nashville - Franklin</td>\n",
       "    </tr>\n",
       "    <tr>\n",
       "      <th>118</th>\n",
       "      <td>Alysa Williams</td>\n",
       "      <td>9175 Carothers Parkway</td>\n",
       "      <td>Franklin</td>\n",
       "      <td>TN</td>\n",
       "      <td>37067</td>\n",
       "      <td>Agent</td>\n",
       "      <td>(971) 645-6552</td>\n",
       "      <td>(615) 778-1818</td>\n",
       "      <td>Keller Williams Realty Nashville - Franklin</td>\n",
       "    </tr>\n",
       "    <tr>\n",
       "      <th>119</th>\n",
       "      <td>Carol Zosel</td>\n",
       "      <td>9175 Carothers Parkway</td>\n",
       "      <td>Franklin</td>\n",
       "      <td>TN</td>\n",
       "      <td>37067</td>\n",
       "      <td>Agent</td>\n",
       "      <td>(503) 616-8712</td>\n",
       "      <td>(615) 778-1818</td>\n",
       "      <td>Keller Williams Realty Nashville - Franklin</td>\n",
       "    </tr>\n",
       "  </tbody>\n",
       "</table>\n",
       "</div>"
      ],
      "text/plain": [
       "               Name                     Add      city state    zip  Agent  \\\n",
       "115     Janine Ward  9175 Carothers Parkway  Franklin    TN  37067  Agent   \n",
       "116   Travis Watson  9175 Carothers Parkway  Franklin    TN  37067  Agent   \n",
       "117     Tyler Weale  9175 Carothers Parkway  Franklin    TN  37067  Agent   \n",
       "118  Alysa Williams  9175 Carothers Parkway  Franklin    TN  37067  Agent   \n",
       "119     Carol Zosel  9175 Carothers Parkway  Franklin    TN  37067  Agent   \n",
       "\n",
       "             Mobile   Office number  \\\n",
       "115  (503) 516-3748  (615) 778-1818   \n",
       "116  (541) 604-4288  (615) 778-1818   \n",
       "117  (530) 262-0912  (615) 778-1818   \n",
       "118  (971) 645-6552  (615) 778-1818   \n",
       "119  (503) 616-8712  (615) 778-1818   \n",
       "\n",
       "                                     Office Name  \n",
       "115  Keller Williams Realty Nashville - Franklin  \n",
       "116  Keller Williams Realty Nashville - Franklin  \n",
       "117  Keller Williams Realty Nashville - Franklin  \n",
       "118  Keller Williams Realty Nashville - Franklin  \n",
       "119  Keller Williams Realty Nashville - Franklin  "
      ]
     },
     "execution_count": 7,
     "metadata": {},
     "output_type": "execute_result"
    }
   ],
   "source": [
    "office_name='Keller Williams Realty Nashville - Franklin'\n",
    "data = pd.DataFrame({\n",
    "'Name': Name,\n",
    "'Add': '9175 Carothers Parkway',\n",
    "'city': 'Franklin',\n",
    "'state':'TN',\n",
    "'zip':'37067',\n",
    "'Agent': 'Agent',\n",
    "'Mobile': Mobile,\n",
    "'Office number': '(615) 778-1818',\n",
    "'Office Name': office_name})\n",
    "data.tail()"
   ]
  },
  {
   "cell_type": "code",
   "execution_count": 8,
   "metadata": {},
   "outputs": [
    {
     "data": {
      "text/html": [
       "<div>\n",
       "<style scoped>\n",
       "    .dataframe tbody tr th:only-of-type {\n",
       "        vertical-align: middle;\n",
       "    }\n",
       "\n",
       "    .dataframe tbody tr th {\n",
       "        vertical-align: top;\n",
       "    }\n",
       "\n",
       "    .dataframe thead th {\n",
       "        text-align: right;\n",
       "    }\n",
       "</style>\n",
       "<table border=\"1\" class=\"dataframe\">\n",
       "  <thead>\n",
       "    <tr style=\"text-align: right;\">\n",
       "      <th></th>\n",
       "      <th>Name</th>\n",
       "      <th>Add</th>\n",
       "      <th>city</th>\n",
       "      <th>state</th>\n",
       "      <th>zip</th>\n",
       "      <th>Agent</th>\n",
       "      <th>Mobile</th>\n",
       "      <th>Office number</th>\n",
       "      <th>Office Name</th>\n",
       "    </tr>\n",
       "  </thead>\n",
       "  <tbody>\n",
       "    <tr>\n",
       "      <th>115</th>\n",
       "      <td>Janine Ward</td>\n",
       "      <td>9175 Carothers Parkway</td>\n",
       "      <td>Franklin</td>\n",
       "      <td>TN</td>\n",
       "      <td>37067</td>\n",
       "      <td>Agent</td>\n",
       "      <td>(503) 516-3748</td>\n",
       "      <td>(615) 778-1818</td>\n",
       "      <td>Keller Williams Realty Nashville - Franklin</td>\n",
       "    </tr>\n",
       "    <tr>\n",
       "      <th>116</th>\n",
       "      <td>Travis Watson</td>\n",
       "      <td>9175 Carothers Parkway</td>\n",
       "      <td>Franklin</td>\n",
       "      <td>TN</td>\n",
       "      <td>37067</td>\n",
       "      <td>Agent</td>\n",
       "      <td>(541) 604-4288</td>\n",
       "      <td>(615) 778-1818</td>\n",
       "      <td>Keller Williams Realty Nashville - Franklin</td>\n",
       "    </tr>\n",
       "    <tr>\n",
       "      <th>117</th>\n",
       "      <td>Tyler Weale</td>\n",
       "      <td>9175 Carothers Parkway</td>\n",
       "      <td>Franklin</td>\n",
       "      <td>TN</td>\n",
       "      <td>37067</td>\n",
       "      <td>Agent</td>\n",
       "      <td>(530) 262-0912</td>\n",
       "      <td>(615) 778-1818</td>\n",
       "      <td>Keller Williams Realty Nashville - Franklin</td>\n",
       "    </tr>\n",
       "    <tr>\n",
       "      <th>118</th>\n",
       "      <td>Alysa Williams</td>\n",
       "      <td>9175 Carothers Parkway</td>\n",
       "      <td>Franklin</td>\n",
       "      <td>TN</td>\n",
       "      <td>37067</td>\n",
       "      <td>Agent</td>\n",
       "      <td>(971) 645-6552</td>\n",
       "      <td>(615) 778-1818</td>\n",
       "      <td>Keller Williams Realty Nashville - Franklin</td>\n",
       "    </tr>\n",
       "    <tr>\n",
       "      <th>119</th>\n",
       "      <td>Carol Zosel</td>\n",
       "      <td>9175 Carothers Parkway</td>\n",
       "      <td>Franklin</td>\n",
       "      <td>TN</td>\n",
       "      <td>37067</td>\n",
       "      <td>Agent</td>\n",
       "      <td>(503) 616-8712</td>\n",
       "      <td>(615) 778-1818</td>\n",
       "      <td>Keller Williams Realty Nashville - Franklin</td>\n",
       "    </tr>\n",
       "  </tbody>\n",
       "</table>\n",
       "</div>"
      ],
      "text/plain": [
       "               Name                     Add      city state    zip  Agent  \\\n",
       "115     Janine Ward  9175 Carothers Parkway  Franklin    TN  37067  Agent   \n",
       "116   Travis Watson  9175 Carothers Parkway  Franklin    TN  37067  Agent   \n",
       "117     Tyler Weale  9175 Carothers Parkway  Franklin    TN  37067  Agent   \n",
       "118  Alysa Williams  9175 Carothers Parkway  Franklin    TN  37067  Agent   \n",
       "119     Carol Zosel  9175 Carothers Parkway  Franklin    TN  37067  Agent   \n",
       "\n",
       "             Mobile   Office number  \\\n",
       "115  (503) 516-3748  (615) 778-1818   \n",
       "116  (541) 604-4288  (615) 778-1818   \n",
       "117  (530) 262-0912  (615) 778-1818   \n",
       "118  (971) 645-6552  (615) 778-1818   \n",
       "119  (503) 616-8712  (615) 778-1818   \n",
       "\n",
       "                                     Office Name  \n",
       "115  Keller Williams Realty Nashville - Franklin  \n",
       "116  Keller Williams Realty Nashville - Franklin  \n",
       "117  Keller Williams Realty Nashville - Franklin  \n",
       "118  Keller Williams Realty Nashville - Franklin  \n",
       "119  Keller Williams Realty Nashville - Franklin  "
      ]
     },
     "execution_count": 8,
     "metadata": {},
     "output_type": "execute_result"
    }
   ],
   "source": [
    "data.drop_duplicates(subset=['Mobile']).tail()"
   ]
  },
  {
   "cell_type": "code",
   "execution_count": 9,
   "metadata": {},
   "outputs": [],
   "source": [
    "data.to_csv(str(office_name)+'.csv', index  = False)"
   ]
  },
  {
   "cell_type": "code",
   "execution_count": 10,
   "metadata": {},
   "outputs": [],
   "source": [
    "del data"
   ]
  },
  {
   "cell_type": "markdown",
   "metadata": {},
   "source": [
    "# For Coldwell, Bgre & ERA"
   ]
  },
  {
   "cell_type": "code",
   "execution_count": 39,
   "metadata": {},
   "outputs": [],
   "source": [
    "Name=[]\n",
    "Mobile=[]\n",
    "soup=BeautifulSoup(driver.page_source,\"html.parser\")\n",
    "for i in soup.findAll('div',{'class':\"media-content-mobile\"}):\n",
    "    Name.append(i.find('span',{ 'class':'heading-std heading-std-mobile'}).text)\n",
    "    try:\n",
    "        Mobile.append(i.find('a',{ 'itemprop':'telephone'}).text.strip('(mobile)'))\n",
    "    except:\n",
    "        Mobile.append('NaN')\n",
    "officename=soup.find('h1',{'class':\"heading-std\"}).text.strip().replace('/','-')\n",
    "officenum=soup.find('a',{'class':\"font-14\"}).text.strip()\n",
    "add=soup.find('p',{'class':\"font-666\"}).findAll('span')\n",
    "Add=add[0].text\n",
    "City=add[1].text\n",
    "State=add[2].text\n",
    "zipcode=add[3].text"
   ]
  },
  {
   "cell_type": "code",
   "execution_count": 40,
   "metadata": {},
   "outputs": [
    {
     "name": "stdout",
     "output_type": "stream",
     "text": [
      "80\n",
      "80\n",
      "0\n",
      "Reston Town Center Office\n"
     ]
    }
   ],
   "source": [
    "print(len(Name))\n",
    "print(len(Mobile))\n",
    "print(len(Name)-len(Mobile))\n",
    "print(officename)"
   ]
  },
  {
   "cell_type": "code",
   "execution_count": 41,
   "metadata": {},
   "outputs": [
    {
     "name": "stdout",
     "output_type": "stream",
     "text": [
      "78\n"
     ]
    }
   ],
   "source": [
    "data = pd.DataFrame({\n",
    "'Name': Name,\n",
    "'Add': Add,\n",
    "'city': City,\n",
    "'state':State,\n",
    "'zip':zipcode,\n",
    "'email':'',\n",
    "'Agent': 'Agent',\n",
    "'eempty':'',\n",
    "'Mobile': Mobile,\n",
    "'Office number': officenum,\n",
    "'empty':'',\n",
    "'Office Name': officename +' Coldwell'})\n",
    "data.dropna()\n",
    "data.drop_duplicates(subset =\"Mobile\", \n",
    "                 keep = False, inplace = True)\n",
    "print(len(data))"
   ]
  },
  {
   "cell_type": "code",
   "execution_count": 42,
   "metadata": {},
   "outputs": [
    {
     "data": {
      "text/html": [
       "<div>\n",
       "<style scoped>\n",
       "    .dataframe tbody tr th:only-of-type {\n",
       "        vertical-align: middle;\n",
       "    }\n",
       "\n",
       "    .dataframe tbody tr th {\n",
       "        vertical-align: top;\n",
       "    }\n",
       "\n",
       "    .dataframe thead th {\n",
       "        text-align: right;\n",
       "    }\n",
       "</style>\n",
       "<table border=\"1\" class=\"dataframe\">\n",
       "  <thead>\n",
       "    <tr style=\"text-align: right;\">\n",
       "      <th></th>\n",
       "      <th>Name</th>\n",
       "      <th>Add</th>\n",
       "      <th>city</th>\n",
       "      <th>state</th>\n",
       "      <th>zip</th>\n",
       "      <th>email</th>\n",
       "      <th>Agent</th>\n",
       "      <th>eempty</th>\n",
       "      <th>Mobile</th>\n",
       "      <th>Office number</th>\n",
       "      <th>empty</th>\n",
       "      <th>Office Name</th>\n",
       "    </tr>\n",
       "  </thead>\n",
       "  <tbody>\n",
       "    <tr>\n",
       "      <th>0</th>\n",
       "      <td>Victoria Baker</td>\n",
       "      <td>11911 Freedom Dr Ste 520</td>\n",
       "      <td>Reston</td>\n",
       "      <td>VA</td>\n",
       "      <td>20190</td>\n",
       "      <td></td>\n",
       "      <td>Agent</td>\n",
       "      <td></td>\n",
       "      <td>703.626.2226</td>\n",
       "      <td>703.471.7220</td>\n",
       "      <td></td>\n",
       "      <td>Reston Town Center Office Coldwell</td>\n",
       "    </tr>\n",
       "    <tr>\n",
       "      <th>1</th>\n",
       "      <td>Mardy Baker</td>\n",
       "      <td>11911 Freedom Dr Ste 520</td>\n",
       "      <td>Reston</td>\n",
       "      <td>VA</td>\n",
       "      <td>20190</td>\n",
       "      <td></td>\n",
       "      <td>Agent</td>\n",
       "      <td></td>\n",
       "      <td>571.232.5827</td>\n",
       "      <td>703.471.7220</td>\n",
       "      <td></td>\n",
       "      <td>Reston Town Center Office Coldwell</td>\n",
       "    </tr>\n",
       "    <tr>\n",
       "      <th>2</th>\n",
       "      <td>Belinda Otih</td>\n",
       "      <td>11911 Freedom Dr Ste 520</td>\n",
       "      <td>Reston</td>\n",
       "      <td>VA</td>\n",
       "      <td>20190</td>\n",
       "      <td></td>\n",
       "      <td>Agent</td>\n",
       "      <td></td>\n",
       "      <td>703.901.4938</td>\n",
       "      <td>703.471.7220</td>\n",
       "      <td></td>\n",
       "      <td>Reston Town Center Office Coldwell</td>\n",
       "    </tr>\n",
       "    <tr>\n",
       "      <th>3</th>\n",
       "      <td>Matt Abdou</td>\n",
       "      <td>11911 Freedom Dr Ste 520</td>\n",
       "      <td>Reston</td>\n",
       "      <td>VA</td>\n",
       "      <td>20190</td>\n",
       "      <td></td>\n",
       "      <td>Agent</td>\n",
       "      <td></td>\n",
       "      <td>703.901.5444</td>\n",
       "      <td>703.471.7220</td>\n",
       "      <td></td>\n",
       "      <td>Reston Town Center Office Coldwell</td>\n",
       "    </tr>\n",
       "    <tr>\n",
       "      <th>4</th>\n",
       "      <td>Nader Abed</td>\n",
       "      <td>11911 Freedom Dr Ste 520</td>\n",
       "      <td>Reston</td>\n",
       "      <td>VA</td>\n",
       "      <td>20190</td>\n",
       "      <td></td>\n",
       "      <td>Agent</td>\n",
       "      <td></td>\n",
       "      <td>571.296.1794</td>\n",
       "      <td>703.471.7220</td>\n",
       "      <td></td>\n",
       "      <td>Reston Town Center Office Coldwell</td>\n",
       "    </tr>\n",
       "  </tbody>\n",
       "</table>\n",
       "</div>"
      ],
      "text/plain": [
       "             Name                       Add    city state    zip email  Agent  \\\n",
       "0  Victoria Baker  11911 Freedom Dr Ste 520  Reston    VA  20190        Agent   \n",
       "1     Mardy Baker  11911 Freedom Dr Ste 520  Reston    VA  20190        Agent   \n",
       "2    Belinda Otih  11911 Freedom Dr Ste 520  Reston    VA  20190        Agent   \n",
       "3      Matt Abdou  11911 Freedom Dr Ste 520  Reston    VA  20190        Agent   \n",
       "4      Nader Abed  11911 Freedom Dr Ste 520  Reston    VA  20190        Agent   \n",
       "\n",
       "  eempty        Mobile Office number empty                         Office Name  \n",
       "0         703.626.2226  703.471.7220        Reston Town Center Office Coldwell  \n",
       "1         571.232.5827  703.471.7220        Reston Town Center Office Coldwell  \n",
       "2         703.901.4938  703.471.7220        Reston Town Center Office Coldwell  \n",
       "3         703.901.5444  703.471.7220        Reston Town Center Office Coldwell  \n",
       "4         571.296.1794  703.471.7220        Reston Town Center Office Coldwell  "
      ]
     },
     "execution_count": 42,
     "metadata": {},
     "output_type": "execute_result"
    }
   ],
   "source": [
    "data.head()"
   ]
  },
  {
   "cell_type": "code",
   "execution_count": 43,
   "metadata": {},
   "outputs": [],
   "source": [
    "data.to_csv(officename +' Coldwell.csv', index  = False)"
   ]
  },
  {
   "cell_type": "code",
   "execution_count": 44,
   "metadata": {},
   "outputs": [],
   "source": [
    "del data"
   ]
  },
  {
   "cell_type": "markdown",
   "metadata": {},
   "source": [
    "# for canada"
   ]
  },
  {
   "cell_type": "code",
   "execution_count": 6,
   "metadata": {},
   "outputs": [
    {
     "data": {
      "text/plain": [
       "'https://www.bkayerealty.com'"
      ]
     },
     "execution_count": 6,
     "metadata": {},
     "output_type": "execute_result"
    }
   ],
   "source": [
    "'https://www.bkayerealty.com/agents'.split('.com')[0]+'.com'"
   ]
  },
  {
   "cell_type": "code",
   "execution_count": null,
   "metadata": {},
   "outputs": [],
   "source": [
    "soup=BeautifulSoup(driver.page_source,\"html.parser\")"
   ]
  },
  {
   "cell_type": "code",
   "execution_count": null,
   "metadata": {},
   "outputs": [],
   "source": [
    "Name=[]\n",
    "Mobile=[]"
   ]
  },
  {
   "cell_type": "code",
   "execution_count": null,
   "metadata": {},
   "outputs": [],
   "source": [
    "soup=BeautifulSoup(driver.page_source,\"html.parser\")\n",
    "for i in soup.findAll('div',{'class':\"col-xs-12 col-sm-12 col-md-12 col-lg-6\"}):\n",
    "    Name.append(i.find('h1',{'class':\"heading-large agent-name\"}).text.strip())\n",
    "    Mobile.append(i.find('p',{'class':\"agent-line\"}).text.strip('Mobile:\\n\\t\\t\\t\\t\\n\\t\\t\\t\\t\\t+1 ').strip('Office:\\n\\t\\t\\t\\t\\n\\t\\t\\t\\t\\t+1 '))"
   ]
  },
  {
   "cell_type": "code",
   "execution_count": null,
   "metadata": {},
   "outputs": [],
   "source": [
    "print(len(Name))\n",
    "print(len(Mobile))\n",
    "print(len(Mobile)-len(Name))"
   ]
  },
  {
   "cell_type": "code",
   "execution_count": null,
   "metadata": {},
   "outputs": [],
   "source": [
    "data = pd.DataFrame({\n",
    "'Name': Name,\n",
    "'Add': '1210 4th Street',\n",
    "'city': 'Estevan',\n",
    "'state':'Saskatchewan',\n",
    "'zip':'S4A0W9',\n",
    "'Agent': 'Agent',\n",
    "'Mobile': Mobile,\n",
    "'Office number': '306-461-9363',\n",
    "'Office Name' :'Coldwell Banker Signature'})\n",
    "data"
   ]
  },
  {
   "cell_type": "code",
   "execution_count": null,
   "metadata": {},
   "outputs": [],
   "source": [
    "data.to_csv('Coldwell Banker Signature.csv', index  = False)"
   ]
  },
  {
   "cell_type": "markdown",
   "metadata": {},
   "source": [
    "# Century 21"
   ]
  },
  {
   "cell_type": "code",
   "execution_count": null,
   "metadata": {},
   "outputs": [],
   "source": [
    "#old\n",
    "Name=[]\n",
    "License=[]\n",
    "Title=[]\n",
    "Mobile=[]\n",
    "Email=[]\n",
    "soup=BeautifulSoup(driver.page_source,\"html.parser\")\n",
    "name=soup.findAll('h4')\n",
    "for i in name:\n",
    "        Name.append(i.text.strip())\n",
    "mobile=soup.findAll('a',{ 'class':'phoneNumber'})\n",
    "Mobile.append(mobile[-1].text)\n",
    "\n",
    "        "
   ]
  },
  {
   "cell_type": "code",
   "execution_count": null,
   "metadata": {},
   "outputs": [],
   "source": [
    "soup=BeautifulSoup(driver.page_source,\"html.parser\")"
   ]
  },
  {
   "cell_type": "code",
   "execution_count": null,
   "metadata": {},
   "outputs": [],
   "source": [
    "Name=[]\n",
    "Mobile=[]\n",
    "soup=BeautifulSoup(driver.page_source,\"html.parser\")\n",
    "for i in soup.findAll('div',{'class':\"CenterLaneCard agentCard\"}):\n",
    "    Name.append(i.find('h4').text.strip())\n",
    "    x=i.findAll('a',{ 'class':'phoneNumber'})\n",
    "    Mobile.append(x[-1].text)"
   ]
  },
  {
   "cell_type": "code",
   "execution_count": null,
   "metadata": {},
   "outputs": [],
   "source": [
    "Name=[]\n",
    "Mobile=[]\n",
    "soup=BeautifulSoup(driver.page_source,\"html.parser\")\n",
    "for i in soup.findAll('div',{'class':\"CenterLaneCard agentCard\"}):\n",
    "    Name.append(i.find('h4').text.strip())\n",
    "    try:\n",
    "        if '562.860.2571' == i.find('a',{ 'class':'phoneNumber'}).text:\n",
    "            secound=i.findAll('a',{ 'class':'phoneNumber'})\n",
    "            try:\n",
    "                Mobile.append(secound[-1].text)\n",
    "            except:\n",
    "                Mobile.append(secound.text)\n",
    "        else:\n",
    "            Mobile.append(i.find('a',{ 'class':'phoneNumber'}).text)\n",
    "    except:\n",
    "        Mobile.append(\"NA\")"
   ]
  },
  {
   "cell_type": "code",
   "execution_count": null,
   "metadata": {},
   "outputs": [],
   "source": [
    "print(len(Name))\n",
    "print(len(Mobile))\n",
    "print(len(Mobile)-len(Name))"
   ]
  },
  {
   "cell_type": "code",
   "execution_count": null,
   "metadata": {},
   "outputs": [],
   "source": [
    "data = pd.DataFrame({\n",
    "'Name': Name,\n",
    "'Add': '11835 South Street',\n",
    "'city': 'Cerritos',\n",
    "'state':'CA',\n",
    "'zip':'90703',\n",
    "'Empty':' ',\n",
    "'Agent': 'Agent', \n",
    "'Email': ' ',\n",
    "'Mobile': Mobile,\n",
    "'Office number': '562.860.2571',\n",
    "'Empty 1':' ',\n",
    "'Office Name' :'CENTURY 21 Diamond'})\n",
    "data.head()"
   ]
  },
  {
   "cell_type": "code",
   "execution_count": null,
   "metadata": {},
   "outputs": [],
   "source": [
    "data.to_csv('CENTURY 21 Diamond.csv', index  = False)"
   ]
  },
  {
   "cell_type": "code",
   "execution_count": null,
   "metadata": {},
   "outputs": [],
   "source": [
    "del data"
   ]
  },
  {
   "cell_type": "code",
   "execution_count": null,
   "metadata": {},
   "outputs": [],
   "source": [
    "seen={}\n",
    "Mobilec = [seen.setdefault(x, x) for x in Mobile if x not in seen]\n",
    "len(Mobilec)"
   ]
  },
  {
   "cell_type": "markdown",
   "metadata": {},
   "source": [
    "# for canada"
   ]
  },
  {
   "cell_type": "code",
   "execution_count": null,
   "metadata": {},
   "outputs": [],
   "source": [
    "soup=BeautifulSoup(driver.page_source,\"html.parser\")"
   ]
  },
  {
   "cell_type": "code",
   "execution_count": null,
   "metadata": {},
   "outputs": [],
   "source": [
    "Name=[]\n",
    "mobile=[]"
   ]
  },
  {
   "cell_type": "code",
   "execution_count": null,
   "metadata": {
    "scrolled": true
   },
   "outputs": [],
   "source": [
    "soup=BeautifulSoup(driver.page_source,\"html.parser\")\n",
    "for i in soup.findAll('article',{'class':\"article__agent-listing\"}):\n",
    "    try:\n",
    "        Name.append(i.find('a',{'class':'a__agent-name'}).text)\n",
    "    except:\n",
    "        Name.append(\"NA\")\n",
    "    try:\n",
    "        mobile.append(i.find('a',{'class':'a__agent-phone'}).text.strip().strip('Phone: '))\n",
    "    except:\n",
    "        mobile.append(\"NA\")"
   ]
  },
  {
   "cell_type": "code",
   "execution_count": null,
   "metadata": {},
   "outputs": [],
   "source": [
    "print(len(Name))\n",
    "print(len(mobile))\n",
    "print(len(mobile)-len(Name))"
   ]
  },
  {
   "cell_type": "code",
   "execution_count": null,
   "metadata": {},
   "outputs": [],
   "source": [
    "data = pd.DataFrame({\n",
    "'Name': Name,\n",
    "'Add': '635 BRANION DRIVE',\n",
    "'city': 'PRINCE ALBERT',\n",
    "'state':'SK',\n",
    "'zip':'S6V 2R9',  \n",
    "'Agent': 'Agent',\n",
    "'Mobile': mobile,\n",
    "'Office number': '(306) 922-7444', \n",
    "'Office Name' :'CENTURY 21 PRESTIGE REAL ESTATE'})"
   ]
  },
  {
   "cell_type": "code",
   "execution_count": null,
   "metadata": {},
   "outputs": [],
   "source": [
    "data"
   ]
  },
  {
   "cell_type": "code",
   "execution_count": null,
   "metadata": {},
   "outputs": [],
   "source": [
    "data.to_csv('CENTURY 21 FUSION.csv', index  = False)"
   ]
  },
  {
   "cell_type": "code",
   "execution_count": null,
   "metadata": {},
   "outputs": [],
   "source": []
  },
  {
   "cell_type": "code",
   "execution_count": null,
   "metadata": {},
   "outputs": [],
   "source": []
  },
  {
   "cell_type": "code",
   "execution_count": null,
   "metadata": {},
   "outputs": [],
   "source": [
    "# for dublicate numbs:\n",
    "new = [1,2,2,3,4,4,5,6,7,7,8,4,4,9]\n",
    "seen = {}\n",
    "remove = [seen.setdefault(x, x) for x in Mobile if x not in seen]\n",
    "remove"
   ]
  },
  {
   "cell_type": "markdown",
   "metadata": {},
   "source": [
    "## For bhhs"
   ]
  },
  {
   "cell_type": "code",
   "execution_count": null,
   "metadata": {},
   "outputs": [],
   "source": [
    "soup=BeautifulSoup(driver.page_source,\"html.parser\")"
   ]
  },
  {
   "cell_type": "code",
   "execution_count": null,
   "metadata": {},
   "outputs": [],
   "source": [
    "Name=[]\n",
    "License=[]\n",
    "Title=[]\n",
    "Mobile=[]\n",
    "Email=[]\n",
    "soup=BeautifulSoup(driver.page_source,\"html.parser\")\n",
    "name=soup.findAll('span',{ 'class':'detail-name'})\n",
    "for i in name:\n",
    "        Name.append(i.text)\n",
    "title=soup.findAll('span',{ 'class':'detail-title text-uppercase'})\n",
    "for j in title:\n",
    "    Title.append(j.text)\n",
    "mobile=soup.findAll('span',{ 'class':'detail-phone'})\n",
    "for j in mobile:\n",
    "    Mobile.append(j.text)"
   ]
  },
  {
   "cell_type": "code",
   "execution_count": null,
   "metadata": {},
   "outputs": [],
   "source": [
    "#Mobile"
   ]
  },
  {
   "cell_type": "code",
   "execution_count": null,
   "metadata": {},
   "outputs": [],
   "source": [
    "print(len(Name))\n",
    "print(len(Mobile))\n",
    "print(len(Title))\n",
    "print(len(Mobile)-len(Name))"
   ]
  },
  {
   "cell_type": "code",
   "execution_count": null,
   "metadata": {},
   "outputs": [],
   "source": [
    "print(soup.find('h2').text.strip())\n",
    "print(soup.find('address').text.strip())"
   ]
  },
  {
   "cell_type": "code",
   "execution_count": null,
   "metadata": {
    "scrolled": true
   },
   "outputs": [],
   "source": [
    "data = pd.DataFrame({\n",
    "'Name': Name,\n",
    "'Add': '2328 Metairie Road Suite 201',\n",
    "'city': 'Metairie',\n",
    "'state':'LA',\n",
    "'zip':'70001',\n",
    "'Empty':' ',\n",
    "'Title': Title,\n",
    "'Email':' ',\n",
    "'Mobile': Mobile,\n",
    "'Office number': '(504) 605-1998',\n",
    "'Empty 1':' ',\n",
    "'Office Name': \"Berkshire Hathaway HomeServices United Properties\"})\n",
    "data"
   ]
  },
  {
   "cell_type": "code",
   "execution_count": null,
   "metadata": {},
   "outputs": [],
   "source": [
    "data.to_csv(\"Berkshire Hathaway HomeServices United Properties.csv\", index  = False)"
   ]
  },
  {
   "cell_type": "code",
   "execution_count": null,
   "metadata": {},
   "outputs": [],
   "source": [
    "del data"
   ]
  },
  {
   "cell_type": "markdown",
   "metadata": {},
   "source": [
    "## michaelsaunders"
   ]
  },
  {
   "cell_type": "code",
   "execution_count": null,
   "metadata": {},
   "outputs": [],
   "source": [
    "page=['https://www.premiersothebysrealty.com/real-estate-agents/inoffice-109/sort-n/1',\n",
    "    'https://www.premiersothebysrealty.com/real-estate-agents/inoffice-109/sort-n/2',\n",
    "    'https://www.premiersothebysrealty.com/real-estate-agents/inoffice-109/sort-n/3',\n",
    "    'https://www.premiersothebysrealty.com/real-estate-agents/inoffice-109/sort-n/4',\n",
    "    'https://www.premiersothebysrealty.com/real-estate-agents/inoffice-109/sort-n/5']"
   ]
  },
  {
   "cell_type": "code",
   "execution_count": null,
   "metadata": {},
   "outputs": [],
   "source": [
    "Mobile=[]\n",
    "Name=[]\n",
    "for url in page:\n",
    "    driver.get(url)\n",
    "    sleep(10)\n",
    "    soup=BeautifulSoup(driver.page_source,\"html.parser\")\n",
    "    mobile=soup.findAll('b')\n",
    "    for j in mobile:\n",
    "        Mobile.append(j.text)\n",
    "    name=soup.findAll('div',{ 'class':'mdl-card__title-text agent-name'})\n",
    "    for i in name:\n",
    "        Name.append(i.text)\n",
    "    "
   ]
  },
  {
   "cell_type": "code",
   "execution_count": null,
   "metadata": {},
   "outputs": [],
   "source": [
    "name=soup.findAll('a',{'tabindex':'91'})\n",
    "for i in name:\n",
    "    Name.append(i.text)"
   ]
  },
  {
   "cell_type": "code",
   "execution_count": null,
   "metadata": {},
   "outputs": [],
   "source": [
    "Name"
   ]
  },
  {
   "cell_type": "code",
   "execution_count": null,
   "metadata": {},
   "outputs": [],
   "source": [
    "for i in range(Mobile.count('')):\n",
    "    Mobile.remove('')\n",
    "    \n",
    "for i in range(Mobile.count('Venice')):\n",
    "    Mobile.remove('Venice')\n",
    "Mobile"
   ]
  },
  {
   "cell_type": "code",
   "execution_count": null,
   "metadata": {},
   "outputs": [],
   "source": []
  },
  {
   "cell_type": "code",
   "execution_count": null,
   "metadata": {},
   "outputs": [],
   "source": [
    "Name"
   ]
  },
  {
   "cell_type": "code",
   "execution_count": null,
   "metadata": {},
   "outputs": [],
   "source": [
    "print(len(Name))\n",
    "print(len(Mobile))\n",
    "print(len(Title))\n",
    "print(len(Mobile)-len(Name))"
   ]
  },
  {
   "cell_type": "code",
   "execution_count": null,
   "metadata": {},
   "outputs": [],
   "source": [
    "remove = ['Address:',\n",
    " 'Office phone:',\n",
    " 'Office fax:',\n",
    " 'Office email:',\n",
    " 'Branch manager:',\n",
    " 'Office hours:',]\n",
    "for i in remove:\n",
    "    Title.remove(i)"
   ]
  },
  {
   "cell_type": "code",
   "execution_count": null,
   "metadata": {},
   "outputs": [],
   "source": [
    "Name=[i.split(',', 1)[0] for i in Name]"
   ]
  },
  {
   "cell_type": "code",
   "execution_count": null,
   "metadata": {},
   "outputs": [],
   "source": [
    "data = pd.DataFrame({\n",
    "'Name': Name,\n",
    "'Add': '8660 S Tamiami Trail',\n",
    "'city': 'Sarasota',\n",
    "'state':'FL',\n",
    "'zip':'34238',\n",
    "'Title': Title,\n",
    "'Mobile': Mobile,\n",
    "'Office number': '941.966.8000',\n",
    "'Office Name':'Palmer Ranch - Sarasota Real Estate Agents'})\n",
    "data.tail()"
   ]
  },
  {
   "cell_type": "code",
   "execution_count": null,
   "metadata": {},
   "outputs": [],
   "source": [
    "data.to_csv('Palmer Ranch - Sarasota Real Estate Agents, FL 34238.csv', index  = False)"
   ]
  },
  {
   "cell_type": "code",
   "execution_count": null,
   "metadata": {},
   "outputs": [],
   "source": [
    "del data"
   ]
  },
  {
   "cell_type": "markdown",
   "metadata": {},
   "source": [
    "## For homesmart.com/"
   ]
  },
  {
   "cell_type": "code",
   "execution_count": null,
   "metadata": {},
   "outputs": [],
   "source": [
    "Links=[]"
   ]
  },
  {
   "cell_type": "code",
   "execution_count": null,
   "metadata": {},
   "outputs": [],
   "source": [
    "soup=BeautifulSoup(driver.page_source,\"html.parser\")\n",
    "#body=soup.find('tbody')\n",
    "\n",
    "for link in soup.find_all('a', href=True):\n",
    "    Links.append(link['href'])"
   ]
  },
  {
   "cell_type": "code",
   "execution_count": null,
   "metadata": {},
   "outputs": [],
   "source": [
    "Links"
   ]
  },
  {
   "cell_type": "code",
   "execution_count": null,
   "metadata": {},
   "outputs": [],
   "source": [
    "x=['?start=100&sortBy=fld_userDetails_firstName&userSearch=&citySearch=&stateSearch=&officeSearch=Seattle - HomeSmart Real Estate Associates&desigFld=&awardsFld=&hobbiesFld=&specialtyFld=&civicFld=&LanguagesSEL=&areaSearch=',\n",
    " '?start=0&sortBy=fld_userDetails_firstName&userSearch=&citySearch=&stateSearch=&officeSearch=Seattle - HomeSmart Real Estate Associates&desigFld=&awardsFld=&hobbiesFld=&specialtyFld=&civicFld=&LanguagesSEL=&areaSearch=',\n",
    " '?start=25&sortBy=fld_userDetails_firstName&userSearch=&citySearch=&stateSearch=&officeSearch=Seattle - HomeSmart Real Estate Associates&desigFld=&awardsFld=&hobbiesFld=&specialtyFld=&civicFld=&LanguagesSEL=&areaSearch=',\n",
    " '?start=50&sortBy=fld_userDetails_firstName&userSearch=&citySearch=&stateSearch=&officeSearch=Seattle - HomeSmart Real Estate Associates&desigFld=&awardsFld=&hobbiesFld=&specialtyFld=&civicFld=&LanguagesSEL=&areaSearch=',\n",
    " '?start=75&sortBy=fld_userDetails_firstName&userSearch=&citySearch=&stateSearch=&officeSearch=Seattle - HomeSmart Real Estate Associates&desigFld=&awardsFld=&hobbiesFld=&specialtyFld=&civicFld=&LanguagesSEL=&areaSearch=',\n",
    " '?start=100&sortBy=fld_userDetails_firstName&userSearch=&citySearch=&stateSearch=&officeSearch=Seattle - HomeSmart Real Estate Associates&desigFld=&awardsFld=&hobbiesFld=&specialtyFld=&civicFld=&LanguagesSEL=&areaSearch=',\n",
    " '?start=125&sortBy=fld_userDetails_firstName&userSearch=&citySearch=&stateSearch=&officeSearch=Seattle - HomeSmart Real Estate Associates&desigFld=&awardsFld=&hobbiesFld=&specialtyFld=&civicFld=&LanguagesSEL=&areaSearch=',]\n",
    "for i in x:\n",
    "    Links.remove(i)"
   ]
  },
  {
   "cell_type": "code",
   "execution_count": null,
   "metadata": {},
   "outputs": [],
   "source": [
    "removo=['#',\n",
    " '/',\n",
    " 'https://homesmart.com/join-us/',\n",
    " 'https://homesmart.com/franchising/',\n",
    " 'https://tech.homesmart.com',\n",
    " 'https://homesmart.com/training/',\n",
    " 'https://homesmart.com/about-us/',\n",
    " 'https://homesmart.com/join-us/contact-us/',\n",
    " 'https://homesmart.com/homesearch/',\n",
    " 'https://homesmart.com/officesagents/agents-search/',\n",
    " 'https://homesmart.com/offices-agents-search/',\n",
    " 'https://homesmart.com/buyers/',\n",
    " 'https://homesmart.com/sellers/',\n",
    " 'https://homesmart.com/press/',\n",
    " '/homesearch/',\n",
    " '/officesagents/agents-search/',\n",
    " '/offices-agents-search/',\n",
    " 'https://homesmart.com/buyers/',\n",
    " 'https://homesmart.com/sellers/',\n",
    " '/press/',\n",
    " '//www.linkedin.com/company/homesmart',\n",
    " 'https://www.facebook.com/homesmartfranchise/',\n",
    " '//twitter.com/HomeSmartIntl',\n",
    "       'https://homesmart.com/',\n",
    " 'https://homesmart.com/buyers/',\n",
    " 'https://homesmart.com/sellers/',\n",
    " 'https://homesmart.com/join-us/',\n",
    " 'https://homesmart.com/franchising/',\n",
    " 'https://homesmart.com/about-us/',\n",
    " 'https://homesmart.com/current-openings/',\n",
    " 'https://homesmart.com/join-us/contact-us/',\n",
    " '/privacy-policy',\n",
    " '/accessibility/']\n",
    "for i in removo:\n",
    "    Links.remove(i)"
   ]
  },
  {
   "cell_type": "code",
   "execution_count": null,
   "metadata": {},
   "outputs": [],
   "source": [
    "Name=[]\n",
    "info=[]\n",
    "Phone=[]"
   ]
  },
  {
   "cell_type": "code",
   "execution_count": null,
   "metadata": {},
   "outputs": [],
   "source": [
    "len(Links)"
   ]
  },
  {
   "cell_type": "code",
   "execution_count": null,
   "metadata": {},
   "outputs": [],
   "source": [
    "for url in Links:\n",
    "    driver.get(url)\n",
    "    sleep(1)\n",
    "    soup=BeautifulSoup(driver.page_source,\"html.parser\")\n",
    "    try:\n",
    "        Name.append(soup.find('div',{'class':\"agent_name\"}).text)\n",
    "        info.append(soup.find('div',{'class':\"agent_contact\"}).text.strip(' '))\n",
    "    except:\n",
    "        Name.append('NA')\n",
    "        info.append('NA')"
   ]
  },
  {
   "cell_type": "code",
   "execution_count": null,
   "metadata": {},
   "outputs": [],
   "source": [
    "print(len(Name))\n",
    "print(len(info))\n",
    "print(len(Name)-len(info))"
   ]
  },
  {
   "cell_type": "code",
   "execution_count": null,
   "metadata": {},
   "outputs": [],
   "source": [
    "Seattle - HomeSmart Real Estate Associates\n",
    "\n",
    "Seattle, WA 98125"
   ]
  },
  {
   "cell_type": "code",
   "execution_count": null,
   "metadata": {},
   "outputs": [],
   "source": [
    "data = pd.DataFrame({\n",
    "'Name': Name,\n",
    "'Add': '309 NE 103rd St',\n",
    "'city': 'Seattle',\n",
    "'state':'WA',\n",
    "'zip':'98125',\n",
    "'Title': 'Agent',\n",
    "'Mobile': info,\n",
    "'Office number': '(206) 523-7653',\n",
    "'Office Name':'Seattle - HomeSmart Real Estate Associates'})\n",
    "data.head()"
   ]
  },
  {
   "cell_type": "code",
   "execution_count": null,
   "metadata": {},
   "outputs": [],
   "source": [
    "import os\n",
    "os.chdir('C://Users//Justin Robin//Desktop//Aimleap//work file//Lindsey Gudger (Jason Gasbarra)')"
   ]
  },
  {
   "cell_type": "code",
   "execution_count": null,
   "metadata": {},
   "outputs": [],
   "source": [
    "data.to_csv('Seattle - HomeSmart Real Estate Associates.csv', index  = False)"
   ]
  },
  {
   "cell_type": "markdown",
   "metadata": {},
   "source": [
    "## For Remax"
   ]
  },
  {
   "cell_type": "code",
   "execution_count": null,
   "metadata": {},
   "outputs": [],
   "source": [
    "Name=[]\n",
    "Mobile=[]\n",
    "Title=[]"
   ]
  },
  {
   "cell_type": "code",
   "execution_count": null,
   "metadata": {},
   "outputs": [],
   "source": [
    "soup=BeautifulSoup(driver.page_source,\"html.parser\")\n",
    "body=soup.findAll('div',{'class':'container_33VP6'})\n",
    "for tags in body:\n",
    "    name=tags.findAll('h4',{'class':'name_2Z1oM'})\n",
    "    for i in name:\n",
    "        Name.append(i.text.strip())\n",
    "    num=tags.findAll('button',{'type':'button'})\n",
    "    title=tags.findAll('h5',{'class':'title_2Xx3b'})\n",
    "    for t in title:\n",
    "        Title.append(t.text.strip())\n",
    "    for n in num:\n",
    "        Mobile.append(n.text.strip())\n",
    "for i in range(Mobile.count('Contact Me')):\n",
    "    Mobile.remove('Contact Me')\n",
    "officenum=soup.find('a',{'class':\"phone-link\"}).text\n",
    "officenum"
   ]
  },
  {
   "cell_type": "code",
   "execution_count": null,
   "metadata": {},
   "outputs": [],
   "source": [
    "print(len(Name))\n",
    "print(len(Mobile))\n",
    "print(len(Title))\n",
    "print(len(Mobile)-len(Name))"
   ]
  },
  {
   "cell_type": "code",
   "execution_count": null,
   "metadata": {},
   "outputs": [],
   "source": [
    "Name.remove(\"Lisa  Dellinger\")\n",
    "Title.remove('Associate')"
   ]
  },
  {
   "cell_type": "code",
   "execution_count": null,
   "metadata": {
    "scrolled": true
   },
   "outputs": [],
   "source": [
    "t=soup.find('h4',{'class':\"mb-8\"}).text\n",
    "Officename=soup.find('h1',{'class':\"h2 mt-6\"}).text.strip()\n",
    "print(Officename)\n",
    "print(t.strip())"
   ]
  },
  {
   "cell_type": "code",
   "execution_count": null,
   "metadata": {},
   "outputs": [],
   "source": [
    "data = pd.DataFrame({\n",
    "'Name': Name,\n",
    "'Add': '445 Dolley Madison Rd, Ste 300',\n",
    "'city': 'Greensboro',\n",
    "'state':'NC',\n",
    "'zip':'27410',\n",
    "'empty1': ' ',\n",
    "'Title': Title,\n",
    "'email': ' ',\n",
    "'Mobile': Mobile,\n",
    "'Office number': officenum,\n",
    "'empty2': ' ',\n",
    "'Office Name':Officename})\n",
    "data"
   ]
  },
  {
   "cell_type": "code",
   "execution_count": null,
   "metadata": {},
   "outputs": [],
   "source": [
    "data.to_csv('RE-MAX One Hundred.csv', index  = False)"
   ]
  },
  {
   "cell_type": "markdown",
   "metadata": {},
   "source": [
    "# for canada"
   ]
  },
  {
   "cell_type": "code",
   "execution_count": null,
   "metadata": {},
   "outputs": [],
   "source": [
    "<div _ngcontent-c31=\"\" class=\"agent-list\">"
   ]
  },
  {
   "cell_type": "code",
   "execution_count": null,
   "metadata": {},
   "outputs": [],
   "source": [
    "Name=[]\n",
    "mobile=[]"
   ]
  },
  {
   "cell_type": "code",
   "execution_count": null,
   "metadata": {},
   "outputs": [],
   "source": [
    "print(p[1].text.split(',')"
   ]
  },
  {
   "cell_type": "code",
   "execution_count": null,
   "metadata": {},
   "outputs": [],
   "source": [
    "soup.find('a',{'class':\"dk-blue-button\"}).text.strip()"
   ]
  },
  {
   "cell_type": "code",
   "execution_count": null,
   "metadata": {},
   "outputs": [],
   "source": [
    "links=['https://www.realtyexecutives.com/offices/realty-executives-battlefords/893',\n",
    "'https://www.realtyexecutives.com/offices/realty-executives-diversified-realty/2884',\n",
    "'https://www.realtyexecutives.com/offices/realty-executives-diversified-realty-/3016',\n",
    "'https://www.realtyexecutives.com/offices/realty-executives-gateway-realty/892',\n",
    "'https://www.realtyexecutives.com/offices/realty-executives-mj/890',\n",
    "'https://www.realtyexecutives.com/offices/realty-executives-outlook/2932',\n",
    "'https://www.realtyexecutives.com/offices/realty-executives-preferred-choice/3002',\n",
    "'https://www.realtyexecutives.com/offices/realty-executives-saskatchewan-region/883',\n",
    "'https://www.realtyexecutives.com/offices/realty-executives-saskatoon/880',\n",
    "'https://www.realtyexecutives.com/offices/realty-executives-unity/889',\n",
    "'https://www.realtyexecutives.com/offices/realty-executives-victor-martens/886',\n",
    "'https://www.realtyexecutives.com/offices/realty-executives-watrous/894']"
   ]
  },
  {
   "cell_type": "code",
   "execution_count": null,
   "metadata": {},
   "outputs": [],
   "source": [
    "Name=[]\n",
    "mobile=[]\n",
    "Officename=[]\n",
    "Add=[]\n",
    "City=[]\n",
    "Officenumber=[]\n",
    "for url in links:\n",
    "    driver.get(url)\n",
    "    soup=BeautifulSoup(driver.page_source,\"html.parser\")\n",
    "    for i in soup.findAll('div',{'class':\"card-name\"}):\n",
    "        Name.append(i.text.strip())\n",
    "    for i in soup.findAll('div',{'class':\"card-phone\"}):\n",
    "        mobile.append(i.text.strip())\n",
    "        p=soup.find('div',{'class':\"col-sm-5\"}).findAll('p')\n",
    "        Officename.append(soup.find('div',{'class':\"about-entity\"}).text.strip())\n",
    "        Officenumber.append(soup.find('a',{'class':\"dk-blue-button\"}).text.strip())\n",
    "        Add.append(p[0].text)\n",
    "        City.append(p[1].text)  "
   ]
  },
  {
   "cell_type": "code",
   "execution_count": null,
   "metadata": {},
   "outputs": [],
   "source": [
    "Name.remove('Kelly Whelan')"
   ]
  },
  {
   "cell_type": "code",
   "execution_count": null,
   "metadata": {},
   "outputs": [],
   "source": [
    "print(len(Name))\n",
    "print(len(mobile))\n",
    "print(len(Officenumber))"
   ]
  },
  {
   "cell_type": "code",
   "execution_count": null,
   "metadata": {},
   "outputs": [],
   "source": [
    "data = pd.DataFrame({\n",
    "'Name': Name,\n",
    "'Add': Add,\n",
    "'city': City,\n",
    "'Title': 'Agents',\n",
    "'Mobile': mobile,\n",
    "'Office number': Officenumber,\n",
    "'Office Name': Officename})\n",
    "data"
   ]
  },
  {
   "cell_type": "code",
   "execution_count": null,
   "metadata": {},
   "outputs": [],
   "source": [
    "data.to_csv('RE-MAX SK.csv', index  = False)"
   ]
  },
  {
   "cell_type": "markdown",
   "metadata": {},
   "source": [
    "## sothebysrealty"
   ]
  },
  {
   "cell_type": "code",
   "execution_count": null,
   "metadata": {},
   "outputs": [],
   "source": [
    "soup=BeautifulSoup(driver.page_source,\"html.parser\")"
   ]
  },
  {
   "cell_type": "code",
   "execution_count": null,
   "metadata": {},
   "outputs": [],
   "source": [
    "soup.find('span',{'class':\"agent-item__name\"})"
   ]
  },
  {
   "cell_type": "code",
   "execution_count": null,
   "metadata": {},
   "outputs": [],
   "source": [
    "Name=[]\n",
    "Mobile=[]"
   ]
  },
  {
   "cell_type": "code",
   "execution_count": null,
   "metadata": {},
   "outputs": [],
   "source": [
    "soup=BeautifulSoup(driver.page_source,\"html.parser\")\n",
    "name=soup.findAll('span',{'class':\"agent-item__name\"})\n",
    "for i in name:\n",
    "    Name.append(i.text.strip())\n",
    "num=soup.findAll('a',{'class':\"o-phone o-phone-number tel js-phone-link\"})\n",
    "for n in num:\n",
    "    Mobile.append(n.text.strip('Mobile: + ').strip('Business: + '))"
   ]
  },
  {
   "cell_type": "code",
   "execution_count": null,
   "metadata": {},
   "outputs": [],
   "source": [
    "print(len(Name))\n",
    "print(len(Mobile))\n",
    "print(len(Mobile)-len(Name))"
   ]
  },
  {
   "cell_type": "code",
   "execution_count": null,
   "metadata": {},
   "outputs": [],
   "source": [
    "Mobile.remove('808.263.5900')"
   ]
  },
  {
   "cell_type": "code",
   "execution_count": null,
   "metadata": {
    "scrolled": true
   },
   "outputs": [],
   "source": [
    "data = pd.DataFrame({\n",
    "'Name': Name,\n",
    "'Add': '2340 Dauphine Street',\n",
    "'city': 'New Orleans',\n",
    "'state':'LA',\n",
    "'zip':'70117',\n",
    "'Title': 'Agent',\n",
    "'Mobile': Mobile,\n",
    "'Office number': '504.944.3605',\n",
    "'Office Name':\"Dorian Bennett Sotheby's International Realty\"})\n",
    "data"
   ]
  },
  {
   "cell_type": "code",
   "execution_count": null,
   "metadata": {},
   "outputs": [],
   "source": [
    "data.to_csv(\"Dorian Bennett Sotheby's International Realty.csv\", index  = False)"
   ]
  },
  {
   "cell_type": "markdown",
   "metadata": {},
   "source": [
    "## Realty Executives"
   ]
  },
  {
   "cell_type": "code",
   "execution_count": null,
   "metadata": {},
   "outputs": [],
   "source": [
    "soup=BeautifulSoup(driver.page_source,\"html.parser\")\n",
    "agent=soup.findAll('div',{'class':\"col-sm-3 agentlist\"})\n",
    "Name=[]\n",
    "\n",
    "Title=[]\n",
    "Mobile=[]\n",
    "for i in agent:\n",
    "    Name.append(i.find('div',{'class':\"card-name\"}).text.strip())\n",
    "    Title.append(i.find('div',{'class':\"card-title\"}).text)\n",
    "    try:\n",
    "        Mobile.append(i.find('div',{'class':\"card-phone\"}).text.strip())\n",
    "    except: \n",
    "        Mobile.append('NA')"
   ]
  },
  {
   "cell_type": "code",
   "execution_count": null,
   "metadata": {},
   "outputs": [],
   "source": [
    "print(len(Name))\n",
    "print(len(Mobile))\n",
    "print(len(Mobile)-len(Name))"
   ]
  },
  {
   "cell_type": "code",
   "execution_count": null,
   "metadata": {},
   "outputs": [],
   "source": [
    "data = pd.DataFrame({\n",
    "'Name': Name,\n",
    "'Add': '405 Boyds Creek Hwy',\n",
    "'city': 'Seymour',\n",
    "'state':'TN',\n",
    "'zip':'37865',\n",
    "'Title': Title,\n",
    "'Mobile': Mobile,\n",
    "'Office number': '865-609-7654',\n",
    "'Office Name':\"Realty Executives Advantage (Boyds Creek)\"})\n",
    "data.tail()"
   ]
  },
  {
   "cell_type": "code",
   "execution_count": null,
   "metadata": {},
   "outputs": [],
   "source": [
    "data.to_csv('Realty Executives Advantage (Boyds Creek).csv', index  = False)"
   ]
  },
  {
   "cell_type": "markdown",
   "metadata": {},
   "source": [
    "   ## Weichert"
   ]
  },
  {
   "cell_type": "code",
   "execution_count": null,
   "metadata": {},
   "outputs": [],
   "source": [
    "Name=[]\n",
    "Title=[]\n",
    "Mobile=[]"
   ]
  },
  {
   "cell_type": "code",
   "execution_count": null,
   "metadata": {},
   "outputs": [],
   "source": [
    "soup=BeautifulSoup(driver.page_source,\"html.parser\")\n",
    "name=soup.findAll('h5',{'class':\"agent-card-title\"})\n",
    "for i in name:\n",
    "        Name.append(i.text)\n",
    "mobile=soup.findAll('h6',{'class':\"agent-card-phone\"})\n",
    "for j in mobile:\n",
    "    Mobile.append(j.text)\n",
    "print(len(Name))\n",
    "print(len(Mobile))\n",
    "print(len(Mobile)-len(Name))"
   ]
  },
  {
   "cell_type": "code",
   "execution_count": null,
   "metadata": {
    "scrolled": true
   },
   "outputs": [],
   "source": [
    "data = pd.DataFrame({\n",
    "'Name': Name,\n",
    "'Add': '1402 3rd Street North',\n",
    "'city': 'Jacksonville Beach',\n",
    "'state':'FL ',\n",
    "'zip':'32250',\n",
    "'Agent': 'Agent',\n",
    "'Mobile': Mobile,\n",
    "'Office number': '540-312-8686',\n",
    "'Office Name': 'Jacksonville Beach - WEICHERT, REALTORS® - Coastal City'})\n",
    "data"
   ]
  },
  {
   "cell_type": "code",
   "execution_count": null,
   "metadata": {},
   "outputs": [],
   "source": [
    "data.to_csv('Jacksonville Beach - Weichert.csv', index  = False)"
   ]
  },
  {
   "cell_type": "code",
   "execution_count": null,
   "metadata": {},
   "outputs": [],
   "source": [
    "del data"
   ]
  },
  {
   "cell_type": "code",
   "execution_count": null,
   "metadata": {},
   "outputs": [],
   "source": [
    "Name=[]\n",
    "mobile=[]"
   ]
  },
  {
   "cell_type": "code",
   "execution_count": null,
   "metadata": {},
   "outputs": [],
   "source": []
  },
  {
   "cell_type": "code",
   "execution_count": null,
   "metadata": {},
   "outputs": [],
   "source": []
  },
  {
   "cell_type": "code",
   "execution_count": null,
   "metadata": {},
   "outputs": [],
   "source": [
    "soup=BeautifulSoup(driver.page_source,\"html.parser\")"
   ]
  },
  {
   "cell_type": "code",
   "execution_count": null,
   "metadata": {},
   "outputs": [],
   "source": [
    "Name=[]\n",
    "Number=[]\n",
    "for i in soup.findAll('div',{'class':\"broker_info\"}):\n",
    "    Name.append(i.find('h2',{'class':\"p\"}).text)\n",
    "    Number.append(i.find('p',{'class':\"telephone\"}).text)"
   ]
  },
  {
   "cell_type": "code",
   "execution_count": null,
   "metadata": {},
   "outputs": [],
   "source": [
    "Number"
   ]
  },
  {
   "cell_type": "code",
   "execution_count": null,
   "metadata": {},
   "outputs": [],
   "source": []
  },
  {
   "cell_type": "code",
   "execution_count": null,
   "metadata": {},
   "outputs": [],
   "source": []
  },
  {
   "cell_type": "code",
   "execution_count": null,
   "metadata": {},
   "outputs": [],
   "source": [
    "for i in soup.findAll('span'):\n",
    "    print(i.text.strip())"
   ]
  },
  {
   "cell_type": "code",
   "execution_count": null,
   "metadata": {},
   "outputs": [],
   "source": [
    "agents=[]"
   ]
  },
  {
   "cell_type": "code",
   "execution_count": null,
   "metadata": {},
   "outputs": [],
   "source": [
    "soup=BeautifulSoup(driver.page_source,\"html.parser\")\n",
    "for link in soup.findAll('div',{'class':\"col-sm-12 col-md-6\"}):\n",
    "    parent = link.parent                            \n",
    "    for a in parent.findAll('a', href=True):\n",
    "        agents.append(a['href'])"
   ]
  },
  {
   "cell_type": "code",
   "execution_count": null,
   "metadata": {},
   "outputs": [],
   "source": [
    "len(agents)"
   ]
  },
  {
   "cell_type": "code",
   "execution_count": null,
   "metadata": {},
   "outputs": [],
   "source": [
    "seen={}\n",
    "agentsc = [seen.setdefault(x, x) for x in agents if x not in seen]\n",
    "len(agentsc)"
   ]
  },
  {
   "cell_type": "code",
   "execution_count": null,
   "metadata": {
    "scrolled": true
   },
   "outputs": [],
   "source": [
    "info=[]\n",
    "for i in agentsc:\n",
    "    driver.get(str(i))\n",
    "    sleep(3)\n",
    "    soup=BeautifulSoup(driver.page_source,\"html.parser\")\n",
    "    print(soup.find('div',{'class':\"large-4 medium-12 small-12 columns\"}).text.strip().strip())\n",
    "    info.append(soup.find('div',{'class':\"large-4 medium-12 small-12 columns\"}).text.strip())"
   ]
  },
  {
   "cell_type": "code",
   "execution_count": null,
   "metadata": {},
   "outputs": [],
   "source": [
    "info"
   ]
  },
  {
   "cell_type": "code",
   "execution_count": null,
   "metadata": {},
   "outputs": [],
   "source": []
  },
  {
   "cell_type": "code",
   "execution_count": null,
   "metadata": {},
   "outputs": [],
   "source": [
    "Links=[]\n",
    "soup=BeautifulSoup(driver.page_source,\"html.parser\")\n",
    "for link in soup.find_all('a', href=True):\n",
    "    Links.append(link['href'])"
   ]
  },
  {
   "cell_type": "markdown",
   "metadata": {},
   "source": [
    "# vcrealtors."
   ]
  },
  {
   "cell_type": "code",
   "execution_count": null,
   "metadata": {},
   "outputs": [],
   "source": [
    "Links93031=['https://ims.vcrealtors.com/scripts/mgrqispi.dll?APPNAME=IMS&PRGNAME=IMSListingAgentDetail&ARGUMENTS=-N211511277,-N509893954',\n",
    "           'https://ims.vcrealtors.com/scripts/mgrqispi.dll?APPNAME=IMS&PRGNAME=IMSListingAgentDetail&ARGUMENTS=-N211505505,-N509893954',\n",
    "           'https://ims.vcrealtors.com/scripts/mgrqispi.dll?APPNAME=IMS&PRGNAME=IMSListingAgentDetail&ARGUMENTS=-N211500843,-N509893954',\n",
    "           'https://ims.vcrealtors.com/scripts/mgrqispi.dll?APPNAME=IMS&PRGNAME=IMSListingAgentDetail&ARGUMENTS=-N211504947,-N509893954',\n",
    "           'https://ims.vcrealtors.com/scripts/mgrqispi.dll?APPNAME=IMS&PRGNAME=IMSListingAgentDetail&ARGUMENTS=-N211505218,-N509893954',\n",
    "           'https://ims.vcrealtors.com/scripts/mgrqispi.dll?APPNAME=IMS&PRGNAME=IMSListingAgentDetail&ARGUMENTS=-N211506429,-N509893954']"
   ]
  },
  {
   "cell_type": "code",
   "execution_count": null,
   "metadata": {},
   "outputs": [],
   "source": [
    "Name=[]\n",
    "Number=[]\n",
    "Add=[]\n",
    "OfficeNum=[]\n",
    "OfficeName=[]\n",
    "for url in Links93036:\n",
    "    driver.get(url)\n",
    "    sleep(1)\n",
    "    soup=BeautifulSoup(driver.page_source,\"html.parser\")\n",
    "    try:\n",
    "        i=soup.find('table',{'class':\"table table-striped\"})\n",
    "        try:\n",
    "            Name.append(soup.find('h2',{'class':\"memberName\"}).text)\n",
    "        except:\n",
    "            Name.append(soup.find('div',{'class':\"col-md-3\"}).text)\n",
    "        tr=i.findAll('tr')\n",
    "        Add.append(tr[0].text.replace('\\n','').replace('                    ',' '))\n",
    "        Number.append(tr[1].text.replace('\\n',''))\n",
    "        OfficeNum.append(tr[2].text.replace('\\n',''))\n",
    "        td=i.findAll('td',{'valign':\"top\"})\n",
    "        OfficeName.append(td[1].a.text)\n",
    "    except:\n",
    "        Name.append('NA')\n",
    "        Add.append('NA')\n",
    "        Number.append('NA')        \n",
    "        OfficeNum.append('NA')        "
   ]
  },
  {
   "cell_type": "code",
   "execution_count": null,
   "metadata": {},
   "outputs": [],
   "source": [
    "print(len(Name))\n",
    "print(len(Number))\n",
    "print(len(Add)-len(OfficeNum))"
   ]
  },
  {
   "cell_type": "code",
   "execution_count": null,
   "metadata": {},
   "outputs": [],
   "source": [
    "data = pd.DataFrame({\n",
    "'Name': Name,\n",
    "'Add': Add,\n",
    "'Agent': 'Agent',\n",
    "'Mobile': Number,\n",
    "'Office number': OfficeNum,\n",
    "'Office Name': OfficeName,\n",
    "})\n",
    "data"
   ]
  },
  {
   "cell_type": "code",
   "execution_count": null,
   "metadata": {},
   "outputs": [],
   "source": [
    "data.to_csv('out93036.csv', index  = False)"
   ]
  },
  {
   "cell_type": "markdown",
   "metadata": {},
   "source": [
    "# Homes"
   ]
  },
  {
   "cell_type": "code",
   "execution_count": null,
   "metadata": {},
   "outputs": [],
   "source": [
    "driver = webdriver.Chrome(executable_path=r'C:\\Users\\Justin Robin\\.wdm\\drivers\\chromedriver\\83.0.4103.39\\win32\\chromedriver.exe')   \n",
    "url = 'https://www.homes.com/real-eastate-agents'\n",
    "driver.get(url)"
   ]
  }
 ],
 "metadata": {
  "kernelspec": {
   "display_name": "Python 3",
   "language": "python",
   "name": "python3"
  },
  "language_info": {
   "codemirror_mode": {
    "name": "ipython",
    "version": 3
   },
   "file_extension": ".py",
   "mimetype": "text/x-python",
   "name": "python",
   "nbconvert_exporter": "python",
   "pygments_lexer": "ipython3",
   "version": "3.7.6"
  }
 },
 "nbformat": 4,
 "nbformat_minor": 4
}
